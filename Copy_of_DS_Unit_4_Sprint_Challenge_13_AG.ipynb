{
  "cells": [
    {
      "cell_type": "markdown",
      "metadata": {
        "id": "view-in-github",
        "colab_type": "text"
      },
      "source": [
        "<a href=\"https://colab.research.google.com/github/bgoueti/BloomTechSprint/blob/main/Copy_of_DS_Unit_4_Sprint_Challenge_13_AG.ipynb\" target=\"_parent\"><img src=\"https://colab.research.google.com/assets/colab-badge.svg\" alt=\"Open In Colab\"/></a>"
      ]
    },
    {
      "cell_type": "markdown",
      "metadata": {
        "id": "_ZGWJuwOsHNd"
      },
      "source": [
        "# Sprint Challenge\n",
        "## *Data Science Sprint 13*\n",
        "\n",
        "After a sprint of Natural Language Processing, you've learned some cool new stuff: how to process text, how turn text into vectors, and how to model topics from documents. Apply your newly acquired skills to one of the most famous NLP datasets out there: [Yelp](https://www.yelp.com/dataset). As part of the job selection process, some of my friends have been asked to create analysis of this dataset, so I want to empower you to have a head start.  \n",
        "\n",
        "The real dataset is massive (almost 8 gigs uncompressed). The data is sampled for you to something more manageable for the Sprint Challenge. You can analyze the full dataset as a stretch goal or after the sprint challenge.\n",
        "\n",
        "## Challenge Objectives\n",
        "Successfully complete all these objectives to earn full credit.\n",
        "\n",
        "**Successful completion is defined as passing all the unit tests in each objective.**  \n",
        "\n",
        "There are 8 total possible points in this sprint challenge.\n",
        "\n",
        "\n",
        "There are more details on each objective further down in the notebook.*\n",
        "* <a href=\"#p1\">Part 1</a>: Write a function to tokenize the yelp reviews\n",
        "* <a href=\"#p2\">Part 2</a>: Create a vector representation of those tokens\n",
        "* <a href=\"#p3\">Part 3</a>: Use your tokens in a classification model on Yelp rating\n",
        "* <a href=\"#p4\">Part 4</a>: Estimate & Interpret a topic model of the Yelp reviews\n",
        "\n",
        "____\n",
        "\n",
        "# Before you submit your notebook you must first\n",
        "\n",
        "1) Restart your notebook's Kernel\n",
        "\n",
        "2) Run all cells sequentially, from top to bottom, so that cell numbers are sequential numbers (i.e. 1,2,3,4,5...)\n",
        "- Easiest way to do this is to click on the **Cell** tab at the top of your notebook and select **Run All** from the drop down menu.\n",
        "\n",
        "3) **Comment out the cell that generates a pyLDAvis visual in objective 4 (see instructions in that section).**\n",
        "____"
      ]
    },
    {
      "cell_type": "markdown",
      "metadata": {
        "id": "9GhDzGmEsHNj"
      },
      "source": [
        "### Part 0: Import Necessary Packages\n",
        "For this section, you will need to import:\n",
        "- `spacy`\n",
        "- `Pandas`\n",
        "- `Seaborn`\n",
        "- `Matplotlib`\n",
        "- `NearestNeighbors`\n",
        "- `Pipeline`\n",
        "- `TfidfVectorizer`\n",
        "- `KneighborsClassifier`\n",
        "- `GridSearchCV`\n",
        "- `corpora`\n",
        "- `LdaModel`\n",
        "- `gensim`\n",
        "- `re`\n",
        "\n",
        "> **Note: This assignment is optimized to work with these specific packages. You can use import different packages, but note that this may affect how CodeGrade works, and may cause CodeGrade to fail.**"
      ]
    },
    {
      "cell_type": "code",
      "execution_count": 1,
      "metadata": {
        "id": "YB42l2luwtF0",
        "colab": {
          "base_uri": "https://localhost:8080/"
        },
        "outputId": "38a4ca87-0b97-4de7-d2f4-b9d088bc8ef2"
      },
      "outputs": [
        {
          "output_type": "stream",
          "name": "stdout",
          "text": [
            "Collecting en-core-web-md==3.7.1\n",
            "  Downloading https://github.com/explosion/spacy-models/releases/download/en_core_web_md-3.7.1/en_core_web_md-3.7.1-py3-none-any.whl (42.8 MB)\n",
            "\u001b[2K     \u001b[90m━━━━━━━━━━━━━━━━━━━━━━━━━━━━━━━━━━━━━━━━\u001b[0m \u001b[32m42.8/42.8 MB\u001b[0m \u001b[31m13.6 MB/s\u001b[0m eta \u001b[36m0:00:00\u001b[0m\n",
            "\u001b[?25hRequirement already satisfied: spacy<3.8.0,>=3.7.2 in /usr/local/lib/python3.10/dist-packages (from en-core-web-md==3.7.1) (3.7.5)\n",
            "Requirement already satisfied: spacy-legacy<3.1.0,>=3.0.11 in /usr/local/lib/python3.10/dist-packages (from spacy<3.8.0,>=3.7.2->en-core-web-md==3.7.1) (3.0.12)\n",
            "Requirement already satisfied: spacy-loggers<2.0.0,>=1.0.0 in /usr/local/lib/python3.10/dist-packages (from spacy<3.8.0,>=3.7.2->en-core-web-md==3.7.1) (1.0.5)\n",
            "Requirement already satisfied: murmurhash<1.1.0,>=0.28.0 in /usr/local/lib/python3.10/dist-packages (from spacy<3.8.0,>=3.7.2->en-core-web-md==3.7.1) (1.0.10)\n",
            "Requirement already satisfied: cymem<2.1.0,>=2.0.2 in /usr/local/lib/python3.10/dist-packages (from spacy<3.8.0,>=3.7.2->en-core-web-md==3.7.1) (2.0.8)\n",
            "Requirement already satisfied: preshed<3.1.0,>=3.0.2 in /usr/local/lib/python3.10/dist-packages (from spacy<3.8.0,>=3.7.2->en-core-web-md==3.7.1) (3.0.9)\n",
            "Requirement already satisfied: thinc<8.3.0,>=8.2.2 in /usr/local/lib/python3.10/dist-packages (from spacy<3.8.0,>=3.7.2->en-core-web-md==3.7.1) (8.2.5)\n",
            "Requirement already satisfied: wasabi<1.2.0,>=0.9.1 in /usr/local/lib/python3.10/dist-packages (from spacy<3.8.0,>=3.7.2->en-core-web-md==3.7.1) (1.1.3)\n",
            "Requirement already satisfied: srsly<3.0.0,>=2.4.3 in /usr/local/lib/python3.10/dist-packages (from spacy<3.8.0,>=3.7.2->en-core-web-md==3.7.1) (2.4.8)\n",
            "Requirement already satisfied: catalogue<2.1.0,>=2.0.6 in /usr/local/lib/python3.10/dist-packages (from spacy<3.8.0,>=3.7.2->en-core-web-md==3.7.1) (2.0.10)\n",
            "Requirement already satisfied: weasel<0.5.0,>=0.1.0 in /usr/local/lib/python3.10/dist-packages (from spacy<3.8.0,>=3.7.2->en-core-web-md==3.7.1) (0.4.1)\n",
            "Requirement already satisfied: typer<1.0.0,>=0.3.0 in /usr/local/lib/python3.10/dist-packages (from spacy<3.8.0,>=3.7.2->en-core-web-md==3.7.1) (0.13.0)\n",
            "Requirement already satisfied: tqdm<5.0.0,>=4.38.0 in /usr/local/lib/python3.10/dist-packages (from spacy<3.8.0,>=3.7.2->en-core-web-md==3.7.1) (4.66.6)\n",
            "Requirement already satisfied: requests<3.0.0,>=2.13.0 in /usr/local/lib/python3.10/dist-packages (from spacy<3.8.0,>=3.7.2->en-core-web-md==3.7.1) (2.32.3)\n",
            "Requirement already satisfied: pydantic!=1.8,!=1.8.1,<3.0.0,>=1.7.4 in /usr/local/lib/python3.10/dist-packages (from spacy<3.8.0,>=3.7.2->en-core-web-md==3.7.1) (2.9.2)\n",
            "Requirement already satisfied: jinja2 in /usr/local/lib/python3.10/dist-packages (from spacy<3.8.0,>=3.7.2->en-core-web-md==3.7.1) (3.1.4)\n",
            "Requirement already satisfied: setuptools in /usr/local/lib/python3.10/dist-packages (from spacy<3.8.0,>=3.7.2->en-core-web-md==3.7.1) (75.1.0)\n",
            "Requirement already satisfied: packaging>=20.0 in /usr/local/lib/python3.10/dist-packages (from spacy<3.8.0,>=3.7.2->en-core-web-md==3.7.1) (24.2)\n",
            "Requirement already satisfied: langcodes<4.0.0,>=3.2.0 in /usr/local/lib/python3.10/dist-packages (from spacy<3.8.0,>=3.7.2->en-core-web-md==3.7.1) (3.4.1)\n",
            "Requirement already satisfied: numpy>=1.19.0 in /usr/local/lib/python3.10/dist-packages (from spacy<3.8.0,>=3.7.2->en-core-web-md==3.7.1) (1.26.4)\n",
            "Requirement already satisfied: language-data>=1.2 in /usr/local/lib/python3.10/dist-packages (from langcodes<4.0.0,>=3.2.0->spacy<3.8.0,>=3.7.2->en-core-web-md==3.7.1) (1.2.0)\n",
            "Requirement already satisfied: annotated-types>=0.6.0 in /usr/local/lib/python3.10/dist-packages (from pydantic!=1.8,!=1.8.1,<3.0.0,>=1.7.4->spacy<3.8.0,>=3.7.2->en-core-web-md==3.7.1) (0.7.0)\n",
            "Requirement already satisfied: pydantic-core==2.23.4 in /usr/local/lib/python3.10/dist-packages (from pydantic!=1.8,!=1.8.1,<3.0.0,>=1.7.4->spacy<3.8.0,>=3.7.2->en-core-web-md==3.7.1) (2.23.4)\n",
            "Requirement already satisfied: typing-extensions>=4.6.1 in /usr/local/lib/python3.10/dist-packages (from pydantic!=1.8,!=1.8.1,<3.0.0,>=1.7.4->spacy<3.8.0,>=3.7.2->en-core-web-md==3.7.1) (4.12.2)\n",
            "Requirement already satisfied: charset-normalizer<4,>=2 in /usr/local/lib/python3.10/dist-packages (from requests<3.0.0,>=2.13.0->spacy<3.8.0,>=3.7.2->en-core-web-md==3.7.1) (3.4.0)\n",
            "Requirement already satisfied: idna<4,>=2.5 in /usr/local/lib/python3.10/dist-packages (from requests<3.0.0,>=2.13.0->spacy<3.8.0,>=3.7.2->en-core-web-md==3.7.1) (3.10)\n",
            "Requirement already satisfied: urllib3<3,>=1.21.1 in /usr/local/lib/python3.10/dist-packages (from requests<3.0.0,>=2.13.0->spacy<3.8.0,>=3.7.2->en-core-web-md==3.7.1) (2.2.3)\n",
            "Requirement already satisfied: certifi>=2017.4.17 in /usr/local/lib/python3.10/dist-packages (from requests<3.0.0,>=2.13.0->spacy<3.8.0,>=3.7.2->en-core-web-md==3.7.1) (2024.8.30)\n",
            "Requirement already satisfied: blis<0.8.0,>=0.7.8 in /usr/local/lib/python3.10/dist-packages (from thinc<8.3.0,>=8.2.2->spacy<3.8.0,>=3.7.2->en-core-web-md==3.7.1) (0.7.11)\n",
            "Requirement already satisfied: confection<1.0.0,>=0.0.1 in /usr/local/lib/python3.10/dist-packages (from thinc<8.3.0,>=8.2.2->spacy<3.8.0,>=3.7.2->en-core-web-md==3.7.1) (0.1.5)\n",
            "Requirement already satisfied: click>=8.0.0 in /usr/local/lib/python3.10/dist-packages (from typer<1.0.0,>=0.3.0->spacy<3.8.0,>=3.7.2->en-core-web-md==3.7.1) (8.1.7)\n",
            "Requirement already satisfied: shellingham>=1.3.0 in /usr/local/lib/python3.10/dist-packages (from typer<1.0.0,>=0.3.0->spacy<3.8.0,>=3.7.2->en-core-web-md==3.7.1) (1.5.4)\n",
            "Requirement already satisfied: rich>=10.11.0 in /usr/local/lib/python3.10/dist-packages (from typer<1.0.0,>=0.3.0->spacy<3.8.0,>=3.7.2->en-core-web-md==3.7.1) (13.9.4)\n",
            "Requirement already satisfied: cloudpathlib<1.0.0,>=0.7.0 in /usr/local/lib/python3.10/dist-packages (from weasel<0.5.0,>=0.1.0->spacy<3.8.0,>=3.7.2->en-core-web-md==3.7.1) (0.20.0)\n",
            "Requirement already satisfied: smart-open<8.0.0,>=5.2.1 in /usr/local/lib/python3.10/dist-packages (from weasel<0.5.0,>=0.1.0->spacy<3.8.0,>=3.7.2->en-core-web-md==3.7.1) (7.0.5)\n",
            "Requirement already satisfied: MarkupSafe>=2.0 in /usr/local/lib/python3.10/dist-packages (from jinja2->spacy<3.8.0,>=3.7.2->en-core-web-md==3.7.1) (3.0.2)\n",
            "Requirement already satisfied: marisa-trie>=0.7.7 in /usr/local/lib/python3.10/dist-packages (from language-data>=1.2->langcodes<4.0.0,>=3.2.0->spacy<3.8.0,>=3.7.2->en-core-web-md==3.7.1) (1.2.1)\n",
            "Requirement already satisfied: markdown-it-py>=2.2.0 in /usr/local/lib/python3.10/dist-packages (from rich>=10.11.0->typer<1.0.0,>=0.3.0->spacy<3.8.0,>=3.7.2->en-core-web-md==3.7.1) (3.0.0)\n",
            "Requirement already satisfied: pygments<3.0.0,>=2.13.0 in /usr/local/lib/python3.10/dist-packages (from rich>=10.11.0->typer<1.0.0,>=0.3.0->spacy<3.8.0,>=3.7.2->en-core-web-md==3.7.1) (2.18.0)\n",
            "Requirement already satisfied: wrapt in /usr/local/lib/python3.10/dist-packages (from smart-open<8.0.0,>=5.2.1->weasel<0.5.0,>=0.1.0->spacy<3.8.0,>=3.7.2->en-core-web-md==3.7.1) (1.16.0)\n",
            "Requirement already satisfied: mdurl~=0.1 in /usr/local/lib/python3.10/dist-packages (from markdown-it-py>=2.2.0->rich>=10.11.0->typer<1.0.0,>=0.3.0->spacy<3.8.0,>=3.7.2->en-core-web-md==3.7.1) (0.1.2)\n",
            "\u001b[38;5;2m✔ Download and installation successful\u001b[0m\n",
            "You can now load the package via spacy.load('en_core_web_md')\n",
            "\u001b[38;5;3m⚠ Restart to reload dependencies\u001b[0m\n",
            "If you are in a Jupyter or Colab notebook, you may need to restart Python in\n",
            "order to load all the package's dependencies. You can do this by selecting the\n",
            "'Restart kernel' or 'Restart runtime' option.\n"
          ]
        }
      ],
      "source": [
        "!python -m spacy download en_core_web_md\n"
      ]
    },
    {
      "cell_type": "code",
      "execution_count": 2,
      "metadata": {
        "id": "h0uJbZ4fsHNk"
      },
      "outputs": [],
      "source": [
        "# YOUR CODE HERE\n",
        "import spacy\n",
        "import pandas as pd\n",
        "import seaborn as sns\n",
        "import matplotlib.pyplot as plt\n",
        "\n",
        "from sklearn.neighbors import NearestNeighbors\n",
        "from sklearn.pipeline import Pipeline\n",
        "from sklearn.feature_extraction.text import TfidfVectorizer\n",
        "from sklearn.neighbors import KNeighborsClassifier\n",
        "from sklearn.model_selection import GridSearchCV\n",
        "\n",
        "from gensim import corpora\n",
        "from gensim.models import LdaModel\n",
        "import gensim\n",
        "import re"
      ]
    },
    {
      "cell_type": "code",
      "execution_count": 3,
      "metadata": {
        "id": "xlA0QS3fsHNm"
      },
      "outputs": [],
      "source": [
        "# Visible Testing\n",
        "assert pd.__package__ == 'pandas'\n"
      ]
    },
    {
      "cell_type": "markdown",
      "metadata": {
        "id": "HBUJU1UCsHNo"
      },
      "source": [
        "\n",
        "\n",
        "### Part 0: Import Data"
      ]
    },
    {
      "cell_type": "code",
      "execution_count": 4,
      "metadata": {
        "id": "rpzUIutGsHNo"
      },
      "outputs": [],
      "source": [
        "\n",
        "\n",
        "# Load reviews from URL\n",
        "data_url = 'https://raw.githubusercontent.com/bloominstituteoftechnology/data-science-practice-datasets/main/unit_4/unit1_nlp/review_sample.json'\n",
        "\n",
        "# Import data into a DataFrame named df\n",
        "# YOUR CODE HERE\n",
        "df = pd.read_json(data_url, lines=True)"
      ]
    },
    {
      "cell_type": "code",
      "execution_count": 5,
      "metadata": {
        "id": "ySrHT53XsHNp"
      },
      "outputs": [],
      "source": [
        "# Visible Testing\n",
        "assert isinstance(df, pd.DataFrame), 'df is not a DataFrame. Did you import the data into df?'\n",
        "assert df.shape[0] == 10000, 'DataFrame df has the wrong number of rows.'"
      ]
    },
    {
      "cell_type": "code",
      "execution_count": 6,
      "metadata": {
        "id": "-Rc98k_0vqwg",
        "colab": {
          "base_uri": "https://localhost:8080/"
        },
        "outputId": "b145face-f46b-4339-df25-eac60c085862"
      },
      "outputs": [
        {
          "output_type": "execute_result",
          "data": {
            "text/plain": [
              "(10000, 9)"
            ]
          },
          "metadata": {},
          "execution_count": 6
        }
      ],
      "source": [
        "df.shape"
      ]
    },
    {
      "cell_type": "code",
      "execution_count": 7,
      "metadata": {
        "id": "8Jf8_WKmv-Id",
        "colab": {
          "base_uri": "https://localhost:8080/",
          "height": 206
        },
        "outputId": "9ee0351d-ca65-4bd4-e872-a7ced5e35945"
      },
      "outputs": [
        {
          "output_type": "execute_result",
          "data": {
            "text/plain": [
              "              business_id  cool                date  funny  \\\n",
              "0  nDuEqIyRc8YKS1q1fX0CZg     1 2015-03-31 16:50:30      0   \n",
              "1  eMYeEapscbKNqUDCx705hg     0 2015-12-16 05:31:03      0   \n",
              "2  6Q7-wkCPc1KF75jZLOTcMw     1 2010-06-20 19:14:48      1   \n",
              "3  k3zrItO4l9hwfLRwHBDc9w     3 2010-07-13 00:33:45      4   \n",
              "4  6hpfRwGlOzbNv7k5eP9rsQ     1 2018-06-30 02:30:01      0   \n",
              "\n",
              "                review_id  stars  \\\n",
              "0  eZs2tpEJtXPwawvHnHZIgQ      1   \n",
              "1  DoQDWJsNbU0KL1O29l_Xug      4   \n",
              "2  DDOdGU7zh56yQHmUnL1idQ      3   \n",
              "3  LfTMUWnfGFMOfOIyJcwLVA      1   \n",
              "4  zJSUdI7bJ8PNJAg4lnl_Gg      4   \n",
              "\n",
              "                                                text  useful  \\\n",
              "0  BEWARE!!! FAKE, FAKE, FAKE....We also own a sm...      10   \n",
              "1  Came here for lunch Togo. Service was quick. S...       0   \n",
              "2  I've been to Vegas dozens of times and had nev...       2   \n",
              "3  We went here on a night where they closed off ...       5   \n",
              "4  3.5 to 4 stars\\n\\nNot bad for the price, $12.9...       5   \n",
              "\n",
              "                  user_id  \n",
              "0  n1LM36qNg4rqGXIcvVXv8w  \n",
              "1  5CgjjDAic2-FAvCtiHpytA  \n",
              "2  BdV-cf3LScmb8kZ7iiBcMA  \n",
              "3  cZZnBqh4gAEy4CdNvJailQ  \n",
              "4  n9QO4ClYAS7h9fpQwa5bhA  "
            ],
            "text/html": [
              "\n",
              "  <div id=\"df-786b9655-f1f3-4530-9473-85bdd9e4d4e1\" class=\"colab-df-container\">\n",
              "    <div>\n",
              "<style scoped>\n",
              "    .dataframe tbody tr th:only-of-type {\n",
              "        vertical-align: middle;\n",
              "    }\n",
              "\n",
              "    .dataframe tbody tr th {\n",
              "        vertical-align: top;\n",
              "    }\n",
              "\n",
              "    .dataframe thead th {\n",
              "        text-align: right;\n",
              "    }\n",
              "</style>\n",
              "<table border=\"1\" class=\"dataframe\">\n",
              "  <thead>\n",
              "    <tr style=\"text-align: right;\">\n",
              "      <th></th>\n",
              "      <th>business_id</th>\n",
              "      <th>cool</th>\n",
              "      <th>date</th>\n",
              "      <th>funny</th>\n",
              "      <th>review_id</th>\n",
              "      <th>stars</th>\n",
              "      <th>text</th>\n",
              "      <th>useful</th>\n",
              "      <th>user_id</th>\n",
              "    </tr>\n",
              "  </thead>\n",
              "  <tbody>\n",
              "    <tr>\n",
              "      <th>0</th>\n",
              "      <td>nDuEqIyRc8YKS1q1fX0CZg</td>\n",
              "      <td>1</td>\n",
              "      <td>2015-03-31 16:50:30</td>\n",
              "      <td>0</td>\n",
              "      <td>eZs2tpEJtXPwawvHnHZIgQ</td>\n",
              "      <td>1</td>\n",
              "      <td>BEWARE!!! FAKE, FAKE, FAKE....We also own a sm...</td>\n",
              "      <td>10</td>\n",
              "      <td>n1LM36qNg4rqGXIcvVXv8w</td>\n",
              "    </tr>\n",
              "    <tr>\n",
              "      <th>1</th>\n",
              "      <td>eMYeEapscbKNqUDCx705hg</td>\n",
              "      <td>0</td>\n",
              "      <td>2015-12-16 05:31:03</td>\n",
              "      <td>0</td>\n",
              "      <td>DoQDWJsNbU0KL1O29l_Xug</td>\n",
              "      <td>4</td>\n",
              "      <td>Came here for lunch Togo. Service was quick. S...</td>\n",
              "      <td>0</td>\n",
              "      <td>5CgjjDAic2-FAvCtiHpytA</td>\n",
              "    </tr>\n",
              "    <tr>\n",
              "      <th>2</th>\n",
              "      <td>6Q7-wkCPc1KF75jZLOTcMw</td>\n",
              "      <td>1</td>\n",
              "      <td>2010-06-20 19:14:48</td>\n",
              "      <td>1</td>\n",
              "      <td>DDOdGU7zh56yQHmUnL1idQ</td>\n",
              "      <td>3</td>\n",
              "      <td>I've been to Vegas dozens of times and had nev...</td>\n",
              "      <td>2</td>\n",
              "      <td>BdV-cf3LScmb8kZ7iiBcMA</td>\n",
              "    </tr>\n",
              "    <tr>\n",
              "      <th>3</th>\n",
              "      <td>k3zrItO4l9hwfLRwHBDc9w</td>\n",
              "      <td>3</td>\n",
              "      <td>2010-07-13 00:33:45</td>\n",
              "      <td>4</td>\n",
              "      <td>LfTMUWnfGFMOfOIyJcwLVA</td>\n",
              "      <td>1</td>\n",
              "      <td>We went here on a night where they closed off ...</td>\n",
              "      <td>5</td>\n",
              "      <td>cZZnBqh4gAEy4CdNvJailQ</td>\n",
              "    </tr>\n",
              "    <tr>\n",
              "      <th>4</th>\n",
              "      <td>6hpfRwGlOzbNv7k5eP9rsQ</td>\n",
              "      <td>1</td>\n",
              "      <td>2018-06-30 02:30:01</td>\n",
              "      <td>0</td>\n",
              "      <td>zJSUdI7bJ8PNJAg4lnl_Gg</td>\n",
              "      <td>4</td>\n",
              "      <td>3.5 to 4 stars\\n\\nNot bad for the price, $12.9...</td>\n",
              "      <td>5</td>\n",
              "      <td>n9QO4ClYAS7h9fpQwa5bhA</td>\n",
              "    </tr>\n",
              "  </tbody>\n",
              "</table>\n",
              "</div>\n",
              "    <div class=\"colab-df-buttons\">\n",
              "\n",
              "  <div class=\"colab-df-container\">\n",
              "    <button class=\"colab-df-convert\" onclick=\"convertToInteractive('df-786b9655-f1f3-4530-9473-85bdd9e4d4e1')\"\n",
              "            title=\"Convert this dataframe to an interactive table.\"\n",
              "            style=\"display:none;\">\n",
              "\n",
              "  <svg xmlns=\"http://www.w3.org/2000/svg\" height=\"24px\" viewBox=\"0 -960 960 960\">\n",
              "    <path d=\"M120-120v-720h720v720H120Zm60-500h600v-160H180v160Zm220 220h160v-160H400v160Zm0 220h160v-160H400v160ZM180-400h160v-160H180v160Zm440 0h160v-160H620v160ZM180-180h160v-160H180v160Zm440 0h160v-160H620v160Z\"/>\n",
              "  </svg>\n",
              "    </button>\n",
              "\n",
              "  <style>\n",
              "    .colab-df-container {\n",
              "      display:flex;\n",
              "      gap: 12px;\n",
              "    }\n",
              "\n",
              "    .colab-df-convert {\n",
              "      background-color: #E8F0FE;\n",
              "      border: none;\n",
              "      border-radius: 50%;\n",
              "      cursor: pointer;\n",
              "      display: none;\n",
              "      fill: #1967D2;\n",
              "      height: 32px;\n",
              "      padding: 0 0 0 0;\n",
              "      width: 32px;\n",
              "    }\n",
              "\n",
              "    .colab-df-convert:hover {\n",
              "      background-color: #E2EBFA;\n",
              "      box-shadow: 0px 1px 2px rgba(60, 64, 67, 0.3), 0px 1px 3px 1px rgba(60, 64, 67, 0.15);\n",
              "      fill: #174EA6;\n",
              "    }\n",
              "\n",
              "    .colab-df-buttons div {\n",
              "      margin-bottom: 4px;\n",
              "    }\n",
              "\n",
              "    [theme=dark] .colab-df-convert {\n",
              "      background-color: #3B4455;\n",
              "      fill: #D2E3FC;\n",
              "    }\n",
              "\n",
              "    [theme=dark] .colab-df-convert:hover {\n",
              "      background-color: #434B5C;\n",
              "      box-shadow: 0px 1px 3px 1px rgba(0, 0, 0, 0.15);\n",
              "      filter: drop-shadow(0px 1px 2px rgba(0, 0, 0, 0.3));\n",
              "      fill: #FFFFFF;\n",
              "    }\n",
              "  </style>\n",
              "\n",
              "    <script>\n",
              "      const buttonEl =\n",
              "        document.querySelector('#df-786b9655-f1f3-4530-9473-85bdd9e4d4e1 button.colab-df-convert');\n",
              "      buttonEl.style.display =\n",
              "        google.colab.kernel.accessAllowed ? 'block' : 'none';\n",
              "\n",
              "      async function convertToInteractive(key) {\n",
              "        const element = document.querySelector('#df-786b9655-f1f3-4530-9473-85bdd9e4d4e1');\n",
              "        const dataTable =\n",
              "          await google.colab.kernel.invokeFunction('convertToInteractive',\n",
              "                                                    [key], {});\n",
              "        if (!dataTable) return;\n",
              "\n",
              "        const docLinkHtml = 'Like what you see? Visit the ' +\n",
              "          '<a target=\"_blank\" href=https://colab.research.google.com/notebooks/data_table.ipynb>data table notebook</a>'\n",
              "          + ' to learn more about interactive tables.';\n",
              "        element.innerHTML = '';\n",
              "        dataTable['output_type'] = 'display_data';\n",
              "        await google.colab.output.renderOutput(dataTable, element);\n",
              "        const docLink = document.createElement('div');\n",
              "        docLink.innerHTML = docLinkHtml;\n",
              "        element.appendChild(docLink);\n",
              "      }\n",
              "    </script>\n",
              "  </div>\n",
              "\n",
              "\n",
              "<div id=\"df-f270f01c-d051-4376-a968-4290e1e70c64\">\n",
              "  <button class=\"colab-df-quickchart\" onclick=\"quickchart('df-f270f01c-d051-4376-a968-4290e1e70c64')\"\n",
              "            title=\"Suggest charts\"\n",
              "            style=\"display:none;\">\n",
              "\n",
              "<svg xmlns=\"http://www.w3.org/2000/svg\" height=\"24px\"viewBox=\"0 0 24 24\"\n",
              "     width=\"24px\">\n",
              "    <g>\n",
              "        <path d=\"M19 3H5c-1.1 0-2 .9-2 2v14c0 1.1.9 2 2 2h14c1.1 0 2-.9 2-2V5c0-1.1-.9-2-2-2zM9 17H7v-7h2v7zm4 0h-2V7h2v10zm4 0h-2v-4h2v4z\"/>\n",
              "    </g>\n",
              "</svg>\n",
              "  </button>\n",
              "\n",
              "<style>\n",
              "  .colab-df-quickchart {\n",
              "      --bg-color: #E8F0FE;\n",
              "      --fill-color: #1967D2;\n",
              "      --hover-bg-color: #E2EBFA;\n",
              "      --hover-fill-color: #174EA6;\n",
              "      --disabled-fill-color: #AAA;\n",
              "      --disabled-bg-color: #DDD;\n",
              "  }\n",
              "\n",
              "  [theme=dark] .colab-df-quickchart {\n",
              "      --bg-color: #3B4455;\n",
              "      --fill-color: #D2E3FC;\n",
              "      --hover-bg-color: #434B5C;\n",
              "      --hover-fill-color: #FFFFFF;\n",
              "      --disabled-bg-color: #3B4455;\n",
              "      --disabled-fill-color: #666;\n",
              "  }\n",
              "\n",
              "  .colab-df-quickchart {\n",
              "    background-color: var(--bg-color);\n",
              "    border: none;\n",
              "    border-radius: 50%;\n",
              "    cursor: pointer;\n",
              "    display: none;\n",
              "    fill: var(--fill-color);\n",
              "    height: 32px;\n",
              "    padding: 0;\n",
              "    width: 32px;\n",
              "  }\n",
              "\n",
              "  .colab-df-quickchart:hover {\n",
              "    background-color: var(--hover-bg-color);\n",
              "    box-shadow: 0 1px 2px rgba(60, 64, 67, 0.3), 0 1px 3px 1px rgba(60, 64, 67, 0.15);\n",
              "    fill: var(--button-hover-fill-color);\n",
              "  }\n",
              "\n",
              "  .colab-df-quickchart-complete:disabled,\n",
              "  .colab-df-quickchart-complete:disabled:hover {\n",
              "    background-color: var(--disabled-bg-color);\n",
              "    fill: var(--disabled-fill-color);\n",
              "    box-shadow: none;\n",
              "  }\n",
              "\n",
              "  .colab-df-spinner {\n",
              "    border: 2px solid var(--fill-color);\n",
              "    border-color: transparent;\n",
              "    border-bottom-color: var(--fill-color);\n",
              "    animation:\n",
              "      spin 1s steps(1) infinite;\n",
              "  }\n",
              "\n",
              "  @keyframes spin {\n",
              "    0% {\n",
              "      border-color: transparent;\n",
              "      border-bottom-color: var(--fill-color);\n",
              "      border-left-color: var(--fill-color);\n",
              "    }\n",
              "    20% {\n",
              "      border-color: transparent;\n",
              "      border-left-color: var(--fill-color);\n",
              "      border-top-color: var(--fill-color);\n",
              "    }\n",
              "    30% {\n",
              "      border-color: transparent;\n",
              "      border-left-color: var(--fill-color);\n",
              "      border-top-color: var(--fill-color);\n",
              "      border-right-color: var(--fill-color);\n",
              "    }\n",
              "    40% {\n",
              "      border-color: transparent;\n",
              "      border-right-color: var(--fill-color);\n",
              "      border-top-color: var(--fill-color);\n",
              "    }\n",
              "    60% {\n",
              "      border-color: transparent;\n",
              "      border-right-color: var(--fill-color);\n",
              "    }\n",
              "    80% {\n",
              "      border-color: transparent;\n",
              "      border-right-color: var(--fill-color);\n",
              "      border-bottom-color: var(--fill-color);\n",
              "    }\n",
              "    90% {\n",
              "      border-color: transparent;\n",
              "      border-bottom-color: var(--fill-color);\n",
              "    }\n",
              "  }\n",
              "</style>\n",
              "\n",
              "  <script>\n",
              "    async function quickchart(key) {\n",
              "      const quickchartButtonEl =\n",
              "        document.querySelector('#' + key + ' button');\n",
              "      quickchartButtonEl.disabled = true;  // To prevent multiple clicks.\n",
              "      quickchartButtonEl.classList.add('colab-df-spinner');\n",
              "      try {\n",
              "        const charts = await google.colab.kernel.invokeFunction(\n",
              "            'suggestCharts', [key], {});\n",
              "      } catch (error) {\n",
              "        console.error('Error during call to suggestCharts:', error);\n",
              "      }\n",
              "      quickchartButtonEl.classList.remove('colab-df-spinner');\n",
              "      quickchartButtonEl.classList.add('colab-df-quickchart-complete');\n",
              "    }\n",
              "    (() => {\n",
              "      let quickchartButtonEl =\n",
              "        document.querySelector('#df-f270f01c-d051-4376-a968-4290e1e70c64 button');\n",
              "      quickchartButtonEl.style.display =\n",
              "        google.colab.kernel.accessAllowed ? 'block' : 'none';\n",
              "    })();\n",
              "  </script>\n",
              "</div>\n",
              "\n",
              "    </div>\n",
              "  </div>\n"
            ],
            "application/vnd.google.colaboratory.intrinsic+json": {
              "type": "dataframe",
              "variable_name": "df",
              "summary": "{\n  \"name\": \"df\",\n  \"rows\": 10000,\n  \"fields\": [\n    {\n      \"column\": \"business_id\",\n      \"properties\": {\n        \"dtype\": \"string\",\n        \"num_unique_values\": 8297,\n        \"samples\": [\n          \"wIxYAU2jaT6Y9b_Inc5MXA\",\n          \"ILZfAtetYvpp0r0Xs8SoHQ\",\n          \"D6ffAaTr_m5lsKxHNp9fwg\"\n        ],\n        \"semantic_type\": \"\",\n        \"description\": \"\"\n      }\n    },\n    {\n      \"column\": \"cool\",\n      \"properties\": {\n        \"dtype\": \"number\",\n        \"std\": 2,\n        \"min\": 0,\n        \"max\": 61,\n        \"num_unique_values\": 35,\n        \"samples\": [\n          18,\n          7,\n          54\n        ],\n        \"semantic_type\": \"\",\n        \"description\": \"\"\n      }\n    },\n    {\n      \"column\": \"date\",\n      \"properties\": {\n        \"dtype\": \"date\",\n        \"min\": \"2005-07-31 03:15:21\",\n        \"max\": \"2018-11-14 17:22:35\",\n        \"num_unique_values\": 10000,\n        \"samples\": [\n          \"2015-07-15 02:41:12\",\n          \"2012-05-05 22:23:44\",\n          \"2010-10-01 22:04:55\"\n        ],\n        \"semantic_type\": \"\",\n        \"description\": \"\"\n      }\n    },\n    {\n      \"column\": \"funny\",\n      \"properties\": {\n        \"dtype\": \"number\",\n        \"std\": 1,\n        \"min\": 0,\n        \"max\": 79,\n        \"num_unique_values\": 32,\n        \"samples\": [\n          37,\n          15,\n          31\n        ],\n        \"semantic_type\": \"\",\n        \"description\": \"\"\n      }\n    },\n    {\n      \"column\": \"review_id\",\n      \"properties\": {\n        \"dtype\": \"string\",\n        \"num_unique_values\": 10000,\n        \"samples\": [\n          \"pcpmloUy9OSbQCxG-NIXKA\",\n          \"-Gb3R1WOoa_fPpsQ91rLCg\",\n          \"uBlyX9pkMmp9evijZtuQ6g\"\n        ],\n        \"semantic_type\": \"\",\n        \"description\": \"\"\n      }\n    },\n    {\n      \"column\": \"stars\",\n      \"properties\": {\n        \"dtype\": \"number\",\n        \"std\": 1,\n        \"min\": 1,\n        \"max\": 5,\n        \"num_unique_values\": 5,\n        \"samples\": [\n          4,\n          2,\n          3\n        ],\n        \"semantic_type\": \"\",\n        \"description\": \"\"\n      }\n    },\n    {\n      \"column\": \"text\",\n      \"properties\": {\n        \"dtype\": \"string\",\n        \"num_unique_values\": 10000,\n        \"samples\": [\n          \"We ordered 1/4 chicken leg and thigh take out, but it's totally burnt out. If you really want to eat here,  don't take out.\",\n          \"nice hike...keeps going up and up and up ...and up and up!\\n\\ntrails are easy to follow and nice views at the top.  cacti blossom with flowers too.\\n\\neveryone was so very nice! i sprained my ankle on my way down..and ooo i was sooo close to the bottom.  tried to be a champ and slowly limp down, but everyone who passed me offered to help.\\n\\na bit embarrassed but good memories with this mountain!\",\n          \"I have nothing against trainee teachers.. but really in order to really evaluated a studio fairly, one needs to go to a regular class lead by an experience teacher.\\n\\nPeter is quite different than the other moksha teacher I have been to since he emphasis a lot on breathing. He was walking around the room a lot and check if we are still breathing with our Ujjai \\\"Ocean\\\" breath.\\n\\nHe also go around to help with adjustment and if he is standing near you that means he is talking to you! or is he? Since most Moksha postures are quite simple so vocal instructions are given instead of real demonstrations. For newbies, you do need to peek at others.\\n\\nThe room was not too hot this time because it is not crowded... all the spaces... and you can really check yourself out in the mirror.. (Do I look Zen??)\\n\\nIt is a great Passport to Prana experience this time round!\"\n        ],\n        \"semantic_type\": \"\",\n        \"description\": \"\"\n      }\n    },\n    {\n      \"column\": \"useful\",\n      \"properties\": {\n        \"dtype\": \"number\",\n        \"std\": 3,\n        \"min\": 0,\n        \"max\": 62,\n        \"num_unique_values\": 46,\n        \"samples\": [\n          38,\n          32,\n          27\n        ],\n        \"semantic_type\": \"\",\n        \"description\": \"\"\n      }\n    },\n    {\n      \"column\": \"user_id\",\n      \"properties\": {\n        \"dtype\": \"string\",\n        \"num_unique_values\": 9667,\n        \"samples\": [\n          \"5b59DMCxPWn-c2b6q50P7w\",\n          \"ctDWPowbrCkgcK1gTLDDdw\",\n          \"2ti91j2F-kx2BmAo3eGbcg\"\n        ],\n        \"semantic_type\": \"\",\n        \"description\": \"\"\n      }\n    }\n  ]\n}"
            }
          },
          "metadata": {},
          "execution_count": 7
        }
      ],
      "source": [
        "df.head()"
      ]
    },
    {
      "cell_type": "code",
      "execution_count": 8,
      "metadata": {
        "id": "KzShBDuvRyTJ",
        "colab": {
          "base_uri": "https://localhost:8080/"
        },
        "outputId": "89370cfa-7175-4c18-fc27-e6f83559a753"
      },
      "outputs": [
        {
          "output_type": "stream",
          "name": "stdout",
          "text": [
            "<class 'pandas.core.frame.DataFrame'>\n",
            "RangeIndex: 10000 entries, 0 to 9999\n",
            "Data columns (total 9 columns):\n",
            " #   Column       Non-Null Count  Dtype         \n",
            "---  ------       --------------  -----         \n",
            " 0   business_id  10000 non-null  object        \n",
            " 1   cool         10000 non-null  int64         \n",
            " 2   date         10000 non-null  datetime64[ns]\n",
            " 3   funny        10000 non-null  int64         \n",
            " 4   review_id    10000 non-null  object        \n",
            " 5   stars        10000 non-null  int64         \n",
            " 6   text         10000 non-null  object        \n",
            " 7   useful       10000 non-null  int64         \n",
            " 8   user_id      10000 non-null  object        \n",
            "dtypes: datetime64[ns](1), int64(4), object(4)\n",
            "memory usage: 703.2+ KB\n"
          ]
        }
      ],
      "source": [
        "df.info()"
      ]
    },
    {
      "cell_type": "markdown",
      "metadata": {
        "id": "3IvKWzYvsHNq"
      },
      "source": [
        "## Part 1: Tokenize Function\n",
        "<a id=\"#p1\"></a>\n",
        "\n",
        "Complete the function `tokenize`. Your function should\n",
        "- Accept one document at a time\n",
        "- Return a list of tokens\n",
        "\n",
        "You are free to use any method you have learned this week.\n",
        "\n",
        "**TO PASS CODEGRADE RUNTIME:**\n",
        "- Do not run your tokenize function more than one time in your notebook! It is not needed until Part 4!"
      ]
    },
    {
      "cell_type": "code",
      "execution_count": 9,
      "metadata": {
        "id": "NiygQLnMsHNr"
      },
      "outputs": [],
      "source": [
        "# Optional: Consider using spaCy in your function. The spaCy library can be imported by running this cell.\n",
        "# A pre-trained model (en_core_web_sm) has been made available to you in the CodeGrade container.\n",
        "# If you DON'T need use the en_core_web_sm model, you can comment it out below.\n",
        "\n",
        "nlp = spacy.load('en_core_web_sm')"
      ]
    },
    {
      "cell_type": "code",
      "execution_count": 10,
      "metadata": {
        "id": "-TdVe3kasHNs",
        "colab": {
          "base_uri": "https://localhost:8080/"
        },
        "outputId": "9ec48d44-a909-4a90-df3d-cdea1084eb2c"
      },
      "outputs": [
        {
          "output_type": "stream",
          "name": "stdout",
          "text": [
            "Original review: We used to come here and everything was great, but there most recent trip was not so great. We came after playing at glow zone and as soon as we came one of the waitresses looked frustrated and told us it would take 20 minutes for her to clean a table that had no guests sitting in it. The entire party was so tired and we had 5 of us at the time so we just decided to stay because we were already there. After a very long time we finally seat and the same server came and asked us for our drink order. We never got our drink orders until after we were almost done with our food and we had asked multiple times to different servers. That made everyone mad but what could we do? We got our appetizers which was truffle fries and regular fries that was okay, but didn't get those until 30 minutes after we ordered it. Then 30 minutes after that half of our food came out. I got the miyagi San burger which was good that's why I gave the two stars, but most us were finished with our food and we noticed one person never got their order! That made me very angry. So many things had already taken so much of our time plus we were really tired and now one member of our group Head waited over an hour and a half for their plain burger with tomatoes and lettuce? I was very disappointed to say the least with their service that night.\n",
            "Tokenized review: ['come', 'great', 'recent', 'trip', 'great', 'come', 'play', 'glow', 'zone', 'soon', 'come', 'waitress', 'look', 'frustrated', 'tell', '20', 'minute', 'clean', 'table', 'guest', 'sit', 'entire', 'party', 'tired', '5', 'time', 'decide', 'stay', 'long', 'time', 'finally', 'seat', 'server', 'come', 'ask', 'drink', 'order', 'get', 'drink', 'order', 'food', 'ask', 'multiple', 'time', 'different', 'server', 'mad', 'get', 'appetizer', 'truffle', 'fry', 'regular', 'fry', 'okay', '30', 'minute', 'order', '30', 'minute', 'half', 'food', 'come', 'get', 'miyagi', 'san', 'burger', 'good', 'give', 'star', 'finish', 'food', 'notice', 'person', 'get', 'order', 'angry', 'thing', 'take', 'time', 'plus', 'tired', 'member', 'group', 'head', 'wait', 'hour', 'half', 'plain', 'burger', 'tomato', 'lettuce', 'disappointed', 'service', 'night']\n"
          ]
        }
      ],
      "source": [
        "def tokenize(doc):\n",
        "    \"\"\"\n",
        "    Tokenizes a given document using spaCy.\n",
        "\n",
        "    Args:\n",
        "        doc (str): The document to tokenize.\n",
        "\n",
        "    Returns:\n",
        "        list: A list of lemmatized tokens (lowercased) with stop words and punctuation removed.\n",
        "    \"\"\"\n",
        "    # Validate input\n",
        "    if not isinstance(doc, str):\n",
        "        raise ValueError(\"Input must be a string.\")\n",
        "\n",
        "    # Process the document with spaCy\n",
        "    lemmas = []\n",
        "    for token in nlp(doc):\n",
        "        # Exclude stop words and punctuation\n",
        "        if not token.is_stop and not token.is_punct:\n",
        "            lemmas.append(token.lemma_.lower())\n",
        "\n",
        "    return lemmas\n",
        "\n",
        "# Testing the function\n",
        "sample_review = df.sample(n=1)[\"text\"].iloc[0]\n",
        "\n",
        "print(f\"Original review: {sample_review}\")\n",
        "print(f\"Tokenized review: {tokenize(sample_review)}\")"
      ]
    },
    {
      "cell_type": "code",
      "execution_count": 11,
      "metadata": {
        "id": "AT3Bfe4nsHNt"
      },
      "outputs": [],
      "source": [
        "'''Testing'''\n",
        "assert isinstance(tokenize(df.sample(n=1)[\"text\"].iloc[0]), list), \"Make sure your tokenizer function accepts a single document and returns a list of tokens!\""
      ]
    },
    {
      "cell_type": "markdown",
      "metadata": {
        "id": "WY5qOjfSsHNt"
      },
      "source": [
        "## Part 2: Vector Representation\n",
        "<a id=\"#p2\"></a>\n",
        "1. Create a vector representation of the reviews (i.e. create a doc-term matrix).\n",
        "    * Name that doc-term matrix `dtm`"
      ]
    },
    {
      "cell_type": "code",
      "execution_count": 12,
      "metadata": {
        "id": "cNYNm5OYsHNu",
        "colab": {
          "base_uri": "https://localhost:8080/"
        },
        "outputId": "995e040c-a8ff-4278-d96b-6229b731bcb8"
      },
      "outputs": [
        {
          "output_type": "stream",
          "name": "stderr",
          "text": [
            "/usr/local/lib/python3.10/dist-packages/sklearn/feature_extraction/text.py:521: UserWarning: The parameter 'token_pattern' will not be used since 'tokenizer' is not None'\n",
            "  warnings.warn(\n"
          ]
        },
        {
          "output_type": "stream",
          "name": "stdout",
          "text": [
            "CPU times: user 4min 42s, sys: 724 ms, total: 4min 43s\n",
            "Wall time: 4min 54s\n"
          ]
        }
      ],
      "source": [
        "%%time\n",
        "# YOUR CODE HERE\n",
        "vect = TfidfVectorizer(stop_words='english', tokenizer=tokenize)\n",
        "dtm = vect.fit_transform(df['text'])\n"
      ]
    },
    {
      "cell_type": "code",
      "execution_count": 13,
      "metadata": {
        "id": "bgxQ5WLe_hfb",
        "colab": {
          "base_uri": "https://localhost:8080/"
        },
        "outputId": "734bf3fa-1ad4-4d6d-ff71-f270aae7979b"
      },
      "outputs": [
        {
          "output_type": "execute_result",
          "data": {
            "text/plain": [
              "(10000, 23869)"
            ]
          },
          "metadata": {},
          "execution_count": 13
        }
      ],
      "source": [
        "dtm.shape"
      ]
    },
    {
      "cell_type": "markdown",
      "metadata": {
        "id": "FuHs9-I5sHNv"
      },
      "source": [
        "\n",
        "2. Write a fake review. Assign the text of the review to an object called `fake_review`.\n",
        "3. Query the fake review for the 10 most similar reviews, print the text of the reviews.\n",
        "    - Given the size of the dataset, use `NearestNeighbors` model for this. Name the model `nn`."
      ]
    },
    {
      "cell_type": "code",
      "execution_count": 14,
      "metadata": {
        "id": "iczpWl4nsHNv"
      },
      "outputs": [],
      "source": [
        "# Create and fit a NearestNeighbors model named \"nn\"\n",
        "# YOUR CODE HERE\n",
        "fake_review = \"The ambiance was delightful and the food was absolutely scrumptious! I can't wait to come back and try more dishes.\"\n",
        "\n",
        "# Create a NearestNeighbors model (nn):\n",
        "nn = NearestNeighbors(n_neighbors=10, metric='cosine', algorithm='brute')\n",
        "nn.fit(dtm)\n",
        "\n",
        "# Query a fake review and find similar reviews\n",
        "fake_review_vect = vect.transform([fake_review])\n"
      ]
    },
    {
      "cell_type": "code",
      "execution_count": 15,
      "metadata": {
        "id": "D-a6xxXwsHNw"
      },
      "outputs": [],
      "source": [
        "'''Testing.'''\n",
        "assert nn.__module__ == 'sklearn.neighbors._unsupervised', ' nn is not a NearestNeighbors instance.'\n",
        "assert nn.n_neighbors == 10, 'nn has the wrong value for n_neighbors'"
      ]
    },
    {
      "cell_type": "code",
      "execution_count": 16,
      "metadata": {
        "id": "K76KdbmasHNw",
        "colab": {
          "base_uri": "https://localhost:8080/"
        },
        "outputId": "e751408a-72e9-401b-f398-41237bb3517f"
      },
      "outputs": [
        {
          "output_type": "stream",
          "name": "stdout",
          "text": [
            "Review 1: A delightful escape from day to day shenanigans. Europe is awesome! Absolutely loved my mani and pedi and will definitely come back!\n",
            "\n",
            "Review 2: Visiting from out of town and went with locals to this hidden spot. Awesome fresh food with unique mix of flavors. We all loved what we had. Delightful in every way.\n",
            "\n",
            "Review 3: We were there for the first time on a Saturday night. The only negative was slightly slow service. The ambiance was nice, and the seating was not crowded. There was an acoustic singer-guitarist who was not overly loud, so we were able to carry on conversations. \n",
            "The food was outstanding. We were a party of eight, and all had something different and everything was delicious. The appetizers were nice sized portions and scrumptious. \n",
            "Our server was accommodating (we're all seniors with a lot of dietary needs). The word \"NO\" was not in their vocabulary. We will definitely go back.\n",
            "\n",
            "Review 4: Lovely friendly restaurant - great lunchtime sandwiches and excellent evening menu. Pecan crusted chicken was moist and flavorsome as was the salmon. Deserts scrumptious!\n",
            "\n",
            "Review 5: Great foods, Excellent service, Nice and local ambiance.\n",
            "\n",
            "Just dropped by on my first trip to Toronto and this places tops all the food I've had.\n",
            "\n",
            "You must try Kimchi Waffle! This comes from a Korean.\n",
            "\n",
            "Review 6: Man, I hated the ambiance. The outdoor seating looked nice, but indoors it's tacky and plain. Service and the food were both average. Would absolutely not recommend this place.\n",
            "\n",
            "Review 7: Yummy spicy food - reminds of chinese food in India. Really good food and  ambiance, service ok but can be better.\n",
            "\n",
            "Review 8: JBella has a fabulous happy hour!  The variety of small plates they offer are scrumptious!!!  You can't beat the size of the portions for the price!  \n",
            "\n",
            "Their private party room is great too!  Management is always accommodating to make your dining experience pleasurable!  Try the blush sauce-it is to die for!!!\n",
            "\n",
            "Review 9: This place was great! We went at happy hour and sat in the bar area! Great ambiance and setting, with even better food!\n",
            "\n",
            "Review 10: The coffee and food was delicious! Ambiance and prices are wonderful. The only thing that keeps me from giving it 5 stars is the speed of service, they were just really slow at getting the drinks and food out. Everything else was great!\n",
            "\n"
          ]
        }
      ],
      "source": [
        "# Create a fake review and find the 10 most similar reviews\n",
        "\n",
        "# YOUR CODE HERE\n",
        "distances, indices = nn.kneighbors(fake_review_vect)\n",
        "similar_reviews = df.iloc[indices[0]]\n",
        "\n",
        "# Print the text of the most similar reviews\n",
        "for i, review in enumerate(similar_reviews['text']):\n",
        "    print(f\"Review {i+1}: {review}\\n\")\n",
        "#print(similar_reviews['text'"
      ]
    },
    {
      "cell_type": "code",
      "execution_count": 17,
      "metadata": {
        "id": "guKUb_LLsHNx"
      },
      "outputs": [],
      "source": [
        "# Visible Testing\n",
        "assert isinstance(fake_review, str), \"Did you write a review in the correct data type?\""
      ]
    },
    {
      "cell_type": "markdown",
      "metadata": {
        "id": "E0P9nPGKsHNy"
      },
      "source": [
        "## Part 3: Classification\n",
        "<a id=\"#p3\"></a>\n",
        "Your goal in this section will be to predict `stars` from the review dataset.\n",
        "\n",
        "1. Create a pipeline object with a sklearn `CountVectorizer` or `TfidfVector` and any sklearn classifier.\n",
        "    - Use that pipeline to train a model to predict the `stars` feature (i.e. the labels).\n",
        "    - Use that pipeline to predict a star rating for your fake review from Part 2.\n",
        "\n",
        "\n",
        "\n",
        "2. Create a parameter dict including `one parameter for the vectorizer` and `one parameter for the model`.\n",
        "    - Include 2 possible values for each parameter\n",
        "        - **Keep the values for each parameter low. Extreme values will compromise runtime**\n",
        "    - **Use `n_jobs` = 1**\n",
        "    - Due to limited computational resources on CodeGrader `DO NOT INCLUDE ADDITIONAL PARAMETERS OR VALUES PLEASE.`\n",
        "    \n",
        "    \n",
        "3. Train the entire pipeline with a GridSearch\n",
        "    - Name your GridSearch object as `gs`"
      ]
    },
    {
      "cell_type": "code",
      "execution_count": 23,
      "metadata": {
        "id": "E7RNxjjHsHNy"
      },
      "outputs": [],
      "source": [
        "# YOUR CODE HERE\n",
        "vect = TfidfVectorizer()\n",
        "knn = KNeighborsClassifier()\n",
        "\n",
        "pipe = Pipeline([('vect', vect), ('knn', knn)])"
      ]
    },
    {
      "cell_type": "code",
      "execution_count": 24,
      "metadata": {
        "id": "lu_uBwDBPBV3"
      },
      "outputs": [],
      "source": [
        "# Define parameters for GridSearch\n",
        "param_grid = {\n",
        "    'vect__max_df': [0.5, 0.75],\n",
        "    'knn__n_neighbors': [3, 5]\n",
        "}"
      ]
    },
    {
      "cell_type": "code",
      "execution_count": 25,
      "metadata": {
        "colab": {
          "base_uri": "https://localhost:8080/",
          "height": 174
        },
        "id": "DcJqriVhQAfI",
        "outputId": "46c9c4b1-7da1-43c7-cc56-92c600ca96e9"
      },
      "outputs": [
        {
          "output_type": "execute_result",
          "data": {
            "text/plain": [
              "GridSearchCV(estimator=Pipeline(steps=[('vect', TfidfVectorizer()),\n",
              "                                       ('knn', KNeighborsClassifier())]),\n",
              "             n_jobs=1,\n",
              "             param_grid={'knn__n_neighbors': [3, 5],\n",
              "                         'vect__max_df': [0.5, 0.75]})"
            ],
            "text/html": [
              "<style>#sk-container-id-1 {\n",
              "  /* Definition of color scheme common for light and dark mode */\n",
              "  --sklearn-color-text: black;\n",
              "  --sklearn-color-line: gray;\n",
              "  /* Definition of color scheme for unfitted estimators */\n",
              "  --sklearn-color-unfitted-level-0: #fff5e6;\n",
              "  --sklearn-color-unfitted-level-1: #f6e4d2;\n",
              "  --sklearn-color-unfitted-level-2: #ffe0b3;\n",
              "  --sklearn-color-unfitted-level-3: chocolate;\n",
              "  /* Definition of color scheme for fitted estimators */\n",
              "  --sklearn-color-fitted-level-0: #f0f8ff;\n",
              "  --sklearn-color-fitted-level-1: #d4ebff;\n",
              "  --sklearn-color-fitted-level-2: #b3dbfd;\n",
              "  --sklearn-color-fitted-level-3: cornflowerblue;\n",
              "\n",
              "  /* Specific color for light theme */\n",
              "  --sklearn-color-text-on-default-background: var(--sg-text-color, var(--theme-code-foreground, var(--jp-content-font-color1, black)));\n",
              "  --sklearn-color-background: var(--sg-background-color, var(--theme-background, var(--jp-layout-color0, white)));\n",
              "  --sklearn-color-border-box: var(--sg-text-color, var(--theme-code-foreground, var(--jp-content-font-color1, black)));\n",
              "  --sklearn-color-icon: #696969;\n",
              "\n",
              "  @media (prefers-color-scheme: dark) {\n",
              "    /* Redefinition of color scheme for dark theme */\n",
              "    --sklearn-color-text-on-default-background: var(--sg-text-color, var(--theme-code-foreground, var(--jp-content-font-color1, white)));\n",
              "    --sklearn-color-background: var(--sg-background-color, var(--theme-background, var(--jp-layout-color0, #111)));\n",
              "    --sklearn-color-border-box: var(--sg-text-color, var(--theme-code-foreground, var(--jp-content-font-color1, white)));\n",
              "    --sklearn-color-icon: #878787;\n",
              "  }\n",
              "}\n",
              "\n",
              "#sk-container-id-1 {\n",
              "  color: var(--sklearn-color-text);\n",
              "}\n",
              "\n",
              "#sk-container-id-1 pre {\n",
              "  padding: 0;\n",
              "}\n",
              "\n",
              "#sk-container-id-1 input.sk-hidden--visually {\n",
              "  border: 0;\n",
              "  clip: rect(1px 1px 1px 1px);\n",
              "  clip: rect(1px, 1px, 1px, 1px);\n",
              "  height: 1px;\n",
              "  margin: -1px;\n",
              "  overflow: hidden;\n",
              "  padding: 0;\n",
              "  position: absolute;\n",
              "  width: 1px;\n",
              "}\n",
              "\n",
              "#sk-container-id-1 div.sk-dashed-wrapped {\n",
              "  border: 1px dashed var(--sklearn-color-line);\n",
              "  margin: 0 0.4em 0.5em 0.4em;\n",
              "  box-sizing: border-box;\n",
              "  padding-bottom: 0.4em;\n",
              "  background-color: var(--sklearn-color-background);\n",
              "}\n",
              "\n",
              "#sk-container-id-1 div.sk-container {\n",
              "  /* jupyter's `normalize.less` sets `[hidden] { display: none; }`\n",
              "     but bootstrap.min.css set `[hidden] { display: none !important; }`\n",
              "     so we also need the `!important` here to be able to override the\n",
              "     default hidden behavior on the sphinx rendered scikit-learn.org.\n",
              "     See: https://github.com/scikit-learn/scikit-learn/issues/21755 */\n",
              "  display: inline-block !important;\n",
              "  position: relative;\n",
              "}\n",
              "\n",
              "#sk-container-id-1 div.sk-text-repr-fallback {\n",
              "  display: none;\n",
              "}\n",
              "\n",
              "div.sk-parallel-item,\n",
              "div.sk-serial,\n",
              "div.sk-item {\n",
              "  /* draw centered vertical line to link estimators */\n",
              "  background-image: linear-gradient(var(--sklearn-color-text-on-default-background), var(--sklearn-color-text-on-default-background));\n",
              "  background-size: 2px 100%;\n",
              "  background-repeat: no-repeat;\n",
              "  background-position: center center;\n",
              "}\n",
              "\n",
              "/* Parallel-specific style estimator block */\n",
              "\n",
              "#sk-container-id-1 div.sk-parallel-item::after {\n",
              "  content: \"\";\n",
              "  width: 100%;\n",
              "  border-bottom: 2px solid var(--sklearn-color-text-on-default-background);\n",
              "  flex-grow: 1;\n",
              "}\n",
              "\n",
              "#sk-container-id-1 div.sk-parallel {\n",
              "  display: flex;\n",
              "  align-items: stretch;\n",
              "  justify-content: center;\n",
              "  background-color: var(--sklearn-color-background);\n",
              "  position: relative;\n",
              "}\n",
              "\n",
              "#sk-container-id-1 div.sk-parallel-item {\n",
              "  display: flex;\n",
              "  flex-direction: column;\n",
              "}\n",
              "\n",
              "#sk-container-id-1 div.sk-parallel-item:first-child::after {\n",
              "  align-self: flex-end;\n",
              "  width: 50%;\n",
              "}\n",
              "\n",
              "#sk-container-id-1 div.sk-parallel-item:last-child::after {\n",
              "  align-self: flex-start;\n",
              "  width: 50%;\n",
              "}\n",
              "\n",
              "#sk-container-id-1 div.sk-parallel-item:only-child::after {\n",
              "  width: 0;\n",
              "}\n",
              "\n",
              "/* Serial-specific style estimator block */\n",
              "\n",
              "#sk-container-id-1 div.sk-serial {\n",
              "  display: flex;\n",
              "  flex-direction: column;\n",
              "  align-items: center;\n",
              "  background-color: var(--sklearn-color-background);\n",
              "  padding-right: 1em;\n",
              "  padding-left: 1em;\n",
              "}\n",
              "\n",
              "\n",
              "/* Toggleable style: style used for estimator/Pipeline/ColumnTransformer box that is\n",
              "clickable and can be expanded/collapsed.\n",
              "- Pipeline and ColumnTransformer use this feature and define the default style\n",
              "- Estimators will overwrite some part of the style using the `sk-estimator` class\n",
              "*/\n",
              "\n",
              "/* Pipeline and ColumnTransformer style (default) */\n",
              "\n",
              "#sk-container-id-1 div.sk-toggleable {\n",
              "  /* Default theme specific background. It is overwritten whether we have a\n",
              "  specific estimator or a Pipeline/ColumnTransformer */\n",
              "  background-color: var(--sklearn-color-background);\n",
              "}\n",
              "\n",
              "/* Toggleable label */\n",
              "#sk-container-id-1 label.sk-toggleable__label {\n",
              "  cursor: pointer;\n",
              "  display: block;\n",
              "  width: 100%;\n",
              "  margin-bottom: 0;\n",
              "  padding: 0.5em;\n",
              "  box-sizing: border-box;\n",
              "  text-align: center;\n",
              "}\n",
              "\n",
              "#sk-container-id-1 label.sk-toggleable__label-arrow:before {\n",
              "  /* Arrow on the left of the label */\n",
              "  content: \"▸\";\n",
              "  float: left;\n",
              "  margin-right: 0.25em;\n",
              "  color: var(--sklearn-color-icon);\n",
              "}\n",
              "\n",
              "#sk-container-id-1 label.sk-toggleable__label-arrow:hover:before {\n",
              "  color: var(--sklearn-color-text);\n",
              "}\n",
              "\n",
              "/* Toggleable content - dropdown */\n",
              "\n",
              "#sk-container-id-1 div.sk-toggleable__content {\n",
              "  max-height: 0;\n",
              "  max-width: 0;\n",
              "  overflow: hidden;\n",
              "  text-align: left;\n",
              "  /* unfitted */\n",
              "  background-color: var(--sklearn-color-unfitted-level-0);\n",
              "}\n",
              "\n",
              "#sk-container-id-1 div.sk-toggleable__content.fitted {\n",
              "  /* fitted */\n",
              "  background-color: var(--sklearn-color-fitted-level-0);\n",
              "}\n",
              "\n",
              "#sk-container-id-1 div.sk-toggleable__content pre {\n",
              "  margin: 0.2em;\n",
              "  border-radius: 0.25em;\n",
              "  color: var(--sklearn-color-text);\n",
              "  /* unfitted */\n",
              "  background-color: var(--sklearn-color-unfitted-level-0);\n",
              "}\n",
              "\n",
              "#sk-container-id-1 div.sk-toggleable__content.fitted pre {\n",
              "  /* unfitted */\n",
              "  background-color: var(--sklearn-color-fitted-level-0);\n",
              "}\n",
              "\n",
              "#sk-container-id-1 input.sk-toggleable__control:checked~div.sk-toggleable__content {\n",
              "  /* Expand drop-down */\n",
              "  max-height: 200px;\n",
              "  max-width: 100%;\n",
              "  overflow: auto;\n",
              "}\n",
              "\n",
              "#sk-container-id-1 input.sk-toggleable__control:checked~label.sk-toggleable__label-arrow:before {\n",
              "  content: \"▾\";\n",
              "}\n",
              "\n",
              "/* Pipeline/ColumnTransformer-specific style */\n",
              "\n",
              "#sk-container-id-1 div.sk-label input.sk-toggleable__control:checked~label.sk-toggleable__label {\n",
              "  color: var(--sklearn-color-text);\n",
              "  background-color: var(--sklearn-color-unfitted-level-2);\n",
              "}\n",
              "\n",
              "#sk-container-id-1 div.sk-label.fitted input.sk-toggleable__control:checked~label.sk-toggleable__label {\n",
              "  background-color: var(--sklearn-color-fitted-level-2);\n",
              "}\n",
              "\n",
              "/* Estimator-specific style */\n",
              "\n",
              "/* Colorize estimator box */\n",
              "#sk-container-id-1 div.sk-estimator input.sk-toggleable__control:checked~label.sk-toggleable__label {\n",
              "  /* unfitted */\n",
              "  background-color: var(--sklearn-color-unfitted-level-2);\n",
              "}\n",
              "\n",
              "#sk-container-id-1 div.sk-estimator.fitted input.sk-toggleable__control:checked~label.sk-toggleable__label {\n",
              "  /* fitted */\n",
              "  background-color: var(--sklearn-color-fitted-level-2);\n",
              "}\n",
              "\n",
              "#sk-container-id-1 div.sk-label label.sk-toggleable__label,\n",
              "#sk-container-id-1 div.sk-label label {\n",
              "  /* The background is the default theme color */\n",
              "  color: var(--sklearn-color-text-on-default-background);\n",
              "}\n",
              "\n",
              "/* On hover, darken the color of the background */\n",
              "#sk-container-id-1 div.sk-label:hover label.sk-toggleable__label {\n",
              "  color: var(--sklearn-color-text);\n",
              "  background-color: var(--sklearn-color-unfitted-level-2);\n",
              "}\n",
              "\n",
              "/* Label box, darken color on hover, fitted */\n",
              "#sk-container-id-1 div.sk-label.fitted:hover label.sk-toggleable__label.fitted {\n",
              "  color: var(--sklearn-color-text);\n",
              "  background-color: var(--sklearn-color-fitted-level-2);\n",
              "}\n",
              "\n",
              "/* Estimator label */\n",
              "\n",
              "#sk-container-id-1 div.sk-label label {\n",
              "  font-family: monospace;\n",
              "  font-weight: bold;\n",
              "  display: inline-block;\n",
              "  line-height: 1.2em;\n",
              "}\n",
              "\n",
              "#sk-container-id-1 div.sk-label-container {\n",
              "  text-align: center;\n",
              "}\n",
              "\n",
              "/* Estimator-specific */\n",
              "#sk-container-id-1 div.sk-estimator {\n",
              "  font-family: monospace;\n",
              "  border: 1px dotted var(--sklearn-color-border-box);\n",
              "  border-radius: 0.25em;\n",
              "  box-sizing: border-box;\n",
              "  margin-bottom: 0.5em;\n",
              "  /* unfitted */\n",
              "  background-color: var(--sklearn-color-unfitted-level-0);\n",
              "}\n",
              "\n",
              "#sk-container-id-1 div.sk-estimator.fitted {\n",
              "  /* fitted */\n",
              "  background-color: var(--sklearn-color-fitted-level-0);\n",
              "}\n",
              "\n",
              "/* on hover */\n",
              "#sk-container-id-1 div.sk-estimator:hover {\n",
              "  /* unfitted */\n",
              "  background-color: var(--sklearn-color-unfitted-level-2);\n",
              "}\n",
              "\n",
              "#sk-container-id-1 div.sk-estimator.fitted:hover {\n",
              "  /* fitted */\n",
              "  background-color: var(--sklearn-color-fitted-level-2);\n",
              "}\n",
              "\n",
              "/* Specification for estimator info (e.g. \"i\" and \"?\") */\n",
              "\n",
              "/* Common style for \"i\" and \"?\" */\n",
              "\n",
              ".sk-estimator-doc-link,\n",
              "a:link.sk-estimator-doc-link,\n",
              "a:visited.sk-estimator-doc-link {\n",
              "  float: right;\n",
              "  font-size: smaller;\n",
              "  line-height: 1em;\n",
              "  font-family: monospace;\n",
              "  background-color: var(--sklearn-color-background);\n",
              "  border-radius: 1em;\n",
              "  height: 1em;\n",
              "  width: 1em;\n",
              "  text-decoration: none !important;\n",
              "  margin-left: 1ex;\n",
              "  /* unfitted */\n",
              "  border: var(--sklearn-color-unfitted-level-1) 1pt solid;\n",
              "  color: var(--sklearn-color-unfitted-level-1);\n",
              "}\n",
              "\n",
              ".sk-estimator-doc-link.fitted,\n",
              "a:link.sk-estimator-doc-link.fitted,\n",
              "a:visited.sk-estimator-doc-link.fitted {\n",
              "  /* fitted */\n",
              "  border: var(--sklearn-color-fitted-level-1) 1pt solid;\n",
              "  color: var(--sklearn-color-fitted-level-1);\n",
              "}\n",
              "\n",
              "/* On hover */\n",
              "div.sk-estimator:hover .sk-estimator-doc-link:hover,\n",
              ".sk-estimator-doc-link:hover,\n",
              "div.sk-label-container:hover .sk-estimator-doc-link:hover,\n",
              ".sk-estimator-doc-link:hover {\n",
              "  /* unfitted */\n",
              "  background-color: var(--sklearn-color-unfitted-level-3);\n",
              "  color: var(--sklearn-color-background);\n",
              "  text-decoration: none;\n",
              "}\n",
              "\n",
              "div.sk-estimator.fitted:hover .sk-estimator-doc-link.fitted:hover,\n",
              ".sk-estimator-doc-link.fitted:hover,\n",
              "div.sk-label-container:hover .sk-estimator-doc-link.fitted:hover,\n",
              ".sk-estimator-doc-link.fitted:hover {\n",
              "  /* fitted */\n",
              "  background-color: var(--sklearn-color-fitted-level-3);\n",
              "  color: var(--sklearn-color-background);\n",
              "  text-decoration: none;\n",
              "}\n",
              "\n",
              "/* Span, style for the box shown on hovering the info icon */\n",
              ".sk-estimator-doc-link span {\n",
              "  display: none;\n",
              "  z-index: 9999;\n",
              "  position: relative;\n",
              "  font-weight: normal;\n",
              "  right: .2ex;\n",
              "  padding: .5ex;\n",
              "  margin: .5ex;\n",
              "  width: min-content;\n",
              "  min-width: 20ex;\n",
              "  max-width: 50ex;\n",
              "  color: var(--sklearn-color-text);\n",
              "  box-shadow: 2pt 2pt 4pt #999;\n",
              "  /* unfitted */\n",
              "  background: var(--sklearn-color-unfitted-level-0);\n",
              "  border: .5pt solid var(--sklearn-color-unfitted-level-3);\n",
              "}\n",
              "\n",
              ".sk-estimator-doc-link.fitted span {\n",
              "  /* fitted */\n",
              "  background: var(--sklearn-color-fitted-level-0);\n",
              "  border: var(--sklearn-color-fitted-level-3);\n",
              "}\n",
              "\n",
              ".sk-estimator-doc-link:hover span {\n",
              "  display: block;\n",
              "}\n",
              "\n",
              "/* \"?\"-specific style due to the `<a>` HTML tag */\n",
              "\n",
              "#sk-container-id-1 a.estimator_doc_link {\n",
              "  float: right;\n",
              "  font-size: 1rem;\n",
              "  line-height: 1em;\n",
              "  font-family: monospace;\n",
              "  background-color: var(--sklearn-color-background);\n",
              "  border-radius: 1rem;\n",
              "  height: 1rem;\n",
              "  width: 1rem;\n",
              "  text-decoration: none;\n",
              "  /* unfitted */\n",
              "  color: var(--sklearn-color-unfitted-level-1);\n",
              "  border: var(--sklearn-color-unfitted-level-1) 1pt solid;\n",
              "}\n",
              "\n",
              "#sk-container-id-1 a.estimator_doc_link.fitted {\n",
              "  /* fitted */\n",
              "  border: var(--sklearn-color-fitted-level-1) 1pt solid;\n",
              "  color: var(--sklearn-color-fitted-level-1);\n",
              "}\n",
              "\n",
              "/* On hover */\n",
              "#sk-container-id-1 a.estimator_doc_link:hover {\n",
              "  /* unfitted */\n",
              "  background-color: var(--sklearn-color-unfitted-level-3);\n",
              "  color: var(--sklearn-color-background);\n",
              "  text-decoration: none;\n",
              "}\n",
              "\n",
              "#sk-container-id-1 a.estimator_doc_link.fitted:hover {\n",
              "  /* fitted */\n",
              "  background-color: var(--sklearn-color-fitted-level-3);\n",
              "}\n",
              "</style><div id=\"sk-container-id-1\" class=\"sk-top-container\"><div class=\"sk-text-repr-fallback\"><pre>GridSearchCV(estimator=Pipeline(steps=[(&#x27;vect&#x27;, TfidfVectorizer()),\n",
              "                                       (&#x27;knn&#x27;, KNeighborsClassifier())]),\n",
              "             n_jobs=1,\n",
              "             param_grid={&#x27;knn__n_neighbors&#x27;: [3, 5],\n",
              "                         &#x27;vect__max_df&#x27;: [0.5, 0.75]})</pre><b>In a Jupyter environment, please rerun this cell to show the HTML representation or trust the notebook. <br />On GitHub, the HTML representation is unable to render, please try loading this page with nbviewer.org.</b></div><div class=\"sk-container\" hidden><div class=\"sk-item sk-dashed-wrapped\"><div class=\"sk-label-container\"><div class=\"sk-label fitted sk-toggleable\"><input class=\"sk-toggleable__control sk-hidden--visually\" id=\"sk-estimator-id-1\" type=\"checkbox\" ><label for=\"sk-estimator-id-1\" class=\"sk-toggleable__label fitted sk-toggleable__label-arrow fitted\">&nbsp;&nbsp;GridSearchCV<a class=\"sk-estimator-doc-link fitted\" rel=\"noreferrer\" target=\"_blank\" href=\"https://scikit-learn.org/1.5/modules/generated/sklearn.model_selection.GridSearchCV.html\">?<span>Documentation for GridSearchCV</span></a><span class=\"sk-estimator-doc-link fitted\">i<span>Fitted</span></span></label><div class=\"sk-toggleable__content fitted\"><pre>GridSearchCV(estimator=Pipeline(steps=[(&#x27;vect&#x27;, TfidfVectorizer()),\n",
              "                                       (&#x27;knn&#x27;, KNeighborsClassifier())]),\n",
              "             n_jobs=1,\n",
              "             param_grid={&#x27;knn__n_neighbors&#x27;: [3, 5],\n",
              "                         &#x27;vect__max_df&#x27;: [0.5, 0.75]})</pre></div> </div></div><div class=\"sk-parallel\"><div class=\"sk-parallel-item\"><div class=\"sk-item\"><div class=\"sk-label-container\"><div class=\"sk-label fitted sk-toggleable\"><input class=\"sk-toggleable__control sk-hidden--visually\" id=\"sk-estimator-id-2\" type=\"checkbox\" ><label for=\"sk-estimator-id-2\" class=\"sk-toggleable__label fitted sk-toggleable__label-arrow fitted\">best_estimator_: Pipeline</label><div class=\"sk-toggleable__content fitted\"><pre>Pipeline(steps=[(&#x27;vect&#x27;, TfidfVectorizer(max_df=0.5)),\n",
              "                (&#x27;knn&#x27;, KNeighborsClassifier())])</pre></div> </div></div><div class=\"sk-serial\"><div class=\"sk-item\"><div class=\"sk-serial\"><div class=\"sk-item\"><div class=\"sk-estimator fitted sk-toggleable\"><input class=\"sk-toggleable__control sk-hidden--visually\" id=\"sk-estimator-id-3\" type=\"checkbox\" ><label for=\"sk-estimator-id-3\" class=\"sk-toggleable__label fitted sk-toggleable__label-arrow fitted\">&nbsp;TfidfVectorizer<a class=\"sk-estimator-doc-link fitted\" rel=\"noreferrer\" target=\"_blank\" href=\"https://scikit-learn.org/1.5/modules/generated/sklearn.feature_extraction.text.TfidfVectorizer.html\">?<span>Documentation for TfidfVectorizer</span></a></label><div class=\"sk-toggleable__content fitted\"><pre>TfidfVectorizer(max_df=0.5)</pre></div> </div></div><div class=\"sk-item\"><div class=\"sk-estimator fitted sk-toggleable\"><input class=\"sk-toggleable__control sk-hidden--visually\" id=\"sk-estimator-id-4\" type=\"checkbox\" ><label for=\"sk-estimator-id-4\" class=\"sk-toggleable__label fitted sk-toggleable__label-arrow fitted\">&nbsp;KNeighborsClassifier<a class=\"sk-estimator-doc-link fitted\" rel=\"noreferrer\" target=\"_blank\" href=\"https://scikit-learn.org/1.5/modules/generated/sklearn.neighbors.KNeighborsClassifier.html\">?<span>Documentation for KNeighborsClassifier</span></a></label><div class=\"sk-toggleable__content fitted\"><pre>KNeighborsClassifier()</pre></div> </div></div></div></div></div></div></div></div></div></div></div>"
            ]
          },
          "metadata": {},
          "execution_count": 25
        }
      ],
      "source": [
        "gs = GridSearchCV(pipe, param_grid, n_jobs=1)\n",
        "gs.fit(df['text'], df['stars'])"
      ]
    },
    {
      "cell_type": "code",
      "execution_count": 26,
      "metadata": {
        "id": "7m8HrxP5sHNz"
      },
      "outputs": [],
      "source": [
        "# Visible Testing\n",
        "prediction = gs.predict([\"This is your prediction statement.\"])[0]\n",
        "assert prediction in df.stars.values, 'You gs object should be able to accept raw text within a list. Did you include a vectorizer in your pipeline?'"
      ]
    },
    {
      "cell_type": "markdown",
      "metadata": {
        "id": "4ijsnmVrsHNz"
      },
      "source": [
        "## Part 4: Topic Modeling\n",
        "\n",
        "Let's find out what those yelp reviews are saying! :D\n",
        "\n",
        "1. Estimate a LDA topic model of the review text\n",
        "    - Set num_topics to `5`\n",
        "    - Name your LDA model `lda`\n",
        "2. Create 1-2 visualizations of the results\n",
        "    - You can use the most important 3 words of a topic in relevant visualizations.\n",
        "3. In markdown, write 1-2 paragraphs of analysis on the results of your topic model\n",
        "\n",
        "When you instantiate your LDA model, it should look like this:\n",
        "\n",
        "```python\n",
        "lda = LdaModel(corpus=corpus,\n",
        "               id2word=id2word,\n",
        "               random_state=723812,\n",
        "               num_topics = num_topics,\n",
        "               passes=1\n",
        "              )\n",
        "\n",
        "```\n",
        "\n",
        "__*Note*__: You can pass the DataFrame column of text reviews to gensim. You do not have to use a generator."
      ]
    },
    {
      "cell_type": "code",
      "execution_count": null,
      "metadata": {
        "id": "_Qayma8FR5fE"
      },
      "outputs": [],
      "source": [
        "# tokens = [tokenize(review) for review in df['text']]\n",
        "# id2word = corpora.Dictionary(tokens)\n",
        "# corpus = [id2word.doc2bow(token) for token in tokens]"
      ]
    },
    {
      "cell_type": "code",
      "execution_count": null,
      "metadata": {
        "id": "7Oyd6pTSQui9"
      },
      "outputs": [],
      "source": [
        "# # LDA topic model of the review text\n",
        "# num_topics = 5\n",
        "\n",
        "# lda = LdaModel(corpus=corpus,\n",
        "#                id2word=id2word,\n",
        "#                random_state=723812,\n",
        "#                num_topics = num_topics,\n",
        "#                passes=1\n",
        "#               )\n"
      ]
    },
    {
      "cell_type": "code",
      "execution_count": null,
      "metadata": {
        "id": "nMpDgksGRWJB"
      },
      "outputs": [],
      "source": [
        "# Visualization\n"
      ]
    },
    {
      "cell_type": "markdown",
      "metadata": {
        "id": "tor6r08hsHN0"
      },
      "source": [
        "## Note about  pyLDAvis\n",
        "\n",
        "**pyLDAvis** is the Topic modeling package that we used in class to visualize the topics that LDA generates for us.\n",
        "\n",
        "You are welcomed to use pyLDAvis if you'd like for your visualization. However, **you MUST comment out the code that imports the package and the cell that generates the visualization before you submit your notebook to CodeGrade.**\n",
        "\n",
        "Although you should leave the print out of the visualization for graders to see (i.e. comment out the cell after you run it to create the viz)."
      ]
    },
    {
      "cell_type": "markdown",
      "metadata": {
        "id": "tvsx7bjJsHN0"
      },
      "source": [
        "### 1. Estimate a LDA topic model of the review text\n",
        "\n",
        "* Use the `tokenize` function you created earlier to create tokens.\n",
        "* Create an `id2word` object.\n",
        "> Hint: Use `corpora.Dictionary`\n",
        "* Create a `corpus` object.\n",
        "> Hint: Use `id2word.doc2bow`\n",
        "* Instantiate an `lda` model.\n",
        "\n",
        ">> Remember to read the LDA docs for more information on the various class attributes and methods available to you in the LDA model: https://radimrehurek.com/gensim/models/ldamodel.html"
      ]
    },
    {
      "cell_type": "code",
      "execution_count": 27,
      "metadata": {
        "id": "A2YkUEyhsHN1"
      },
      "outputs": [],
      "source": [
        "# Do not change this value\n",
        "num_topics = 5"
      ]
    },
    {
      "cell_type": "code",
      "execution_count": 28,
      "metadata": {
        "id": "CHfcAZ8rsHN1",
        "colab": {
          "base_uri": "https://localhost:8080/"
        },
        "outputId": "c1e97e02-55fe-478b-d70c-1d1699b616b1"
      },
      "outputs": [
        {
          "output_type": "stream",
          "name": "stderr",
          "text": [
            "WARNING:gensim.models.ldamodel:too few updates, training might not converge; consider increasing the number of passes or iterations to improve accuracy\n"
          ]
        }
      ],
      "source": [
        "# YOUR CODE HERE\n",
        "# Tokenize all reviews\n",
        "tokens = [tokenize(review) for review in df['text']]\n",
        "\n",
        "# Create dictionary and corpus\n",
        "id2word = corpora.Dictionary(tokens)\n",
        "corpus = [id2word.doc2bow(token) for token in tokens]\n",
        "\n",
        "# Fit LDA model\n",
        "lda = LdaModel(corpus=corpus,\n",
        "               id2word=id2word,\n",
        "               random_state=723812,\n",
        "               num_topics = num_topics,\n",
        "               passes=1\n",
        "              )"
      ]
    },
    {
      "cell_type": "markdown",
      "metadata": {
        "id": "8MvrhcIXsHN2"
      },
      "source": [
        "#### Testing"
      ]
    },
    {
      "cell_type": "code",
      "execution_count": 29,
      "metadata": {
        "id": "MNj-6M8PsHN2"
      },
      "outputs": [],
      "source": [
        "# Visible Testing\n",
        "\n",
        "assert lda.get_topics().shape[0] == 5, 'Did your model complete its training? Did you set num_topics to 5?'"
      ]
    },
    {
      "cell_type": "markdown",
      "metadata": {
        "id": "rqhiRRjjsHN3"
      },
      "source": [
        "#### 2. Create 2 visualizations of the results:\n",
        "1. Create a visualization using pyLDAvis. Run the cell, then comment out your code before submission, leaving the visualization in the cell.\n",
        "\n",
        "2. Create a visualization using the matplotlib library and utilizing the subplots function. Assign this visualization to a variable called `visual_plot`.\n"
      ]
    },
    {
      "cell_type": "code",
      "execution_count": 30,
      "metadata": {
        "id": "Iglb0T_0UBmc",
        "colab": {
          "base_uri": "https://localhost:8080/"
        },
        "outputId": "5600194e-58d1-49d3-c056-bc06c4464bc6"
      },
      "outputs": [
        {
          "output_type": "stream",
          "name": "stdout",
          "text": [
            "Collecting pyLDAvis\n",
            "  Downloading pyLDAvis-3.4.1-py3-none-any.whl.metadata (4.2 kB)\n",
            "Requirement already satisfied: numpy>=1.24.2 in /usr/local/lib/python3.10/dist-packages (from pyLDAvis) (1.26.4)\n",
            "Requirement already satisfied: scipy in /usr/local/lib/python3.10/dist-packages (from pyLDAvis) (1.13.1)\n",
            "Requirement already satisfied: pandas>=2.0.0 in /usr/local/lib/python3.10/dist-packages (from pyLDAvis) (2.2.2)\n",
            "Requirement already satisfied: joblib>=1.2.0 in /usr/local/lib/python3.10/dist-packages (from pyLDAvis) (1.4.2)\n",
            "Requirement already satisfied: jinja2 in /usr/local/lib/python3.10/dist-packages (from pyLDAvis) (3.1.4)\n",
            "Requirement already satisfied: numexpr in /usr/local/lib/python3.10/dist-packages (from pyLDAvis) (2.10.1)\n",
            "Collecting funcy (from pyLDAvis)\n",
            "  Downloading funcy-2.0-py2.py3-none-any.whl.metadata (5.9 kB)\n",
            "Requirement already satisfied: scikit-learn>=1.0.0 in /usr/local/lib/python3.10/dist-packages (from pyLDAvis) (1.5.2)\n",
            "Requirement already satisfied: gensim in /usr/local/lib/python3.10/dist-packages (from pyLDAvis) (4.3.3)\n",
            "Requirement already satisfied: setuptools in /usr/local/lib/python3.10/dist-packages (from pyLDAvis) (75.1.0)\n",
            "Requirement already satisfied: python-dateutil>=2.8.2 in /usr/local/lib/python3.10/dist-packages (from pandas>=2.0.0->pyLDAvis) (2.8.2)\n",
            "Requirement already satisfied: pytz>=2020.1 in /usr/local/lib/python3.10/dist-packages (from pandas>=2.0.0->pyLDAvis) (2024.2)\n",
            "Requirement already satisfied: tzdata>=2022.7 in /usr/local/lib/python3.10/dist-packages (from pandas>=2.0.0->pyLDAvis) (2024.2)\n",
            "Requirement already satisfied: threadpoolctl>=3.1.0 in /usr/local/lib/python3.10/dist-packages (from scikit-learn>=1.0.0->pyLDAvis) (3.5.0)\n",
            "Requirement already satisfied: smart-open>=1.8.1 in /usr/local/lib/python3.10/dist-packages (from gensim->pyLDAvis) (7.0.5)\n",
            "Requirement already satisfied: MarkupSafe>=2.0 in /usr/local/lib/python3.10/dist-packages (from jinja2->pyLDAvis) (3.0.2)\n",
            "Requirement already satisfied: six>=1.5 in /usr/local/lib/python3.10/dist-packages (from python-dateutil>=2.8.2->pandas>=2.0.0->pyLDAvis) (1.16.0)\n",
            "Requirement already satisfied: wrapt in /usr/local/lib/python3.10/dist-packages (from smart-open>=1.8.1->gensim->pyLDAvis) (1.16.0)\n",
            "Downloading pyLDAvis-3.4.1-py3-none-any.whl (2.6 MB)\n",
            "\u001b[2K   \u001b[90m━━━━━━━━━━━━━━━━━━━━━━━━━━━━━━━━━━━━━━━━\u001b[0m \u001b[32m2.6/2.6 MB\u001b[0m \u001b[31m20.9 MB/s\u001b[0m eta \u001b[36m0:00:00\u001b[0m\n",
            "\u001b[?25hDownloading funcy-2.0-py2.py3-none-any.whl (30 kB)\n",
            "Installing collected packages: funcy, pyLDAvis\n",
            "Successfully installed funcy-2.0 pyLDAvis-3.4.1\n"
          ]
        }
      ],
      "source": [
        "#!pip install pyLDAvis"
      ]
    },
    {
      "cell_type": "code",
      "execution_count": 35,
      "metadata": {
        "id": "zEgGOVIjsHN3",
        "colab": {
          "base_uri": "https://localhost:8080/",
          "height": 916
        },
        "outputId": "0367ee99-2a6c-4f61-ddb0-2bb6d6f59db4"
      },
      "outputs": [
        {
          "output_type": "stream",
          "name": "stderr",
          "text": [
            "/usr/local/lib/python3.10/dist-packages/ipykernel/ipkernel.py:283: DeprecationWarning: `should_run_async` will not call `transform_cell` automatically in the future. Please pass the result to `transformed_cell` argument and any exception that happen during thetransform in `preprocessing_exc_tuple` in IPython 7.17 and above.\n",
            "  and should_run_async(code)\n"
          ]
        },
        {
          "output_type": "execute_result",
          "data": {
            "text/plain": [
              "PreparedData(topic_coordinates=              x         y  topics  cluster       Freq\n",
              "topic                                                \n",
              "3      0.122376 -0.031109       1        1  35.106391\n",
              "0     -0.074153  0.062857       2        1  21.817911\n",
              "1      0.033301  0.037212       3        1  19.251261\n",
              "2     -0.008020  0.032989       4        1  18.902738\n",
              "4     -0.073503 -0.101949       5        1   4.921699, topic_info=          Term          Freq         Total Category  logprob  loglift\n",
              "0               13871.000000  13871.000000  Default  30.0000  30.0000\n",
              "55        \\n\\n   8356.000000   8356.000000  Default  29.0000  29.0000\n",
              "131      place   5295.000000   5295.000000  Default  28.0000  28.0000\n",
              "1110    coffee    610.000000    610.000000  Default  27.0000  27.0000\n",
              "371      order   3488.000000   3488.000000  Default  26.0000  26.0000\n",
              "...        ...           ...           ...      ...      ...      ...\n",
              "44    friendly     83.763773   1440.093995   Topic5  -5.7240   0.1671\n",
              "428        day     83.595385   1560.506656   Topic5  -5.7261   0.0847\n",
              "353       find     83.310563   1603.179622   Topic5  -5.7295   0.0543\n",
              "0                  84.424492  13871.315266   Topic5  -5.7162  -2.0902\n",
              "50     service     82.284826   3844.532644   Topic5  -5.7419  -0.8327\n",
              "\n",
              "[483 rows x 6 columns], token_table=       Topic      Freq  Term\n",
              "term                        \n",
              "321        1  0.374737    \\n\n",
              "321        2  0.343941    \\n\n",
              "321        3  0.165262    \\n\n",
              "321        4  0.091169    \\n\n",
              "321        5  0.024393    \\n\n",
              "...      ...       ...   ...\n",
              "7668       4  0.924182  yoga\n",
              "9054       1  0.971503  yuck\n",
              "11653      1  0.988848   yuk\n",
              "3506       1  0.970016     à\n",
              "3506       2  0.017018     à\n",
              "\n",
              "[1206 rows x 3 columns], R=30, lambda_step=0.01, plot_opts={'xlab': 'PC1', 'ylab': 'PC2'}, topic_order=[4, 1, 2, 3, 5])"
            ],
            "text/html": [
              "\n",
              "<link rel=\"stylesheet\" type=\"text/css\" href=\"https://cdn.jsdelivr.net/gh/bmabey/pyLDAvis@3.4.0/pyLDAvis/js/ldavis.v1.0.0.css\">\n",
              "\n",
              "\n",
              "<div id=\"ldavis_el92011361751604118568946229468\" style=\"background-color:white;\"></div>\n",
              "<script type=\"text/javascript\">\n",
              "\n",
              "var ldavis_el92011361751604118568946229468_data = {\"mdsDat\": {\"x\": [0.12237550315706087, -0.07415342442393234, 0.03330106498186523, -0.008020259379739788, -0.07350288433525407], \"y\": [-0.031109479853033695, 0.06285737851197061, 0.037211532879494115, 0.032989320811771194, -0.10194875235020218], \"topics\": [1, 2, 3, 4, 5], \"cluster\": [1, 1, 1, 1, 1], \"Freq\": [35.10639108000423, 21.81791100861509, 19.25126074001271, 18.902738278251192, 4.921698893116781]}, \"tinfo\": {\"Term\": [\" \", \"\\n\\n\", \"place\", \"coffee\", \"order\", \"come\", \"recommend\", \"staff\", \"room\", \"amazing\", \"food\", \"time\", \"work\", \"hotel\", \"definitely\", \"wait\", \"minute\", \"delicious\", \"know\", \"store\", \"tell\", \"stay\", \"go\", \"look\", \"love\", \"shop\", \"drink\", \"say\", \"day\", \"nail\", \"yuk\", \"cajun\", \"thai\", \"grub\", \"hibachi\", \"une\", \"dumpling\", \"vous\", \"je\", \"\\u00e0\", \"asia\", \"izakaya\", \"braise\", \"yellowtail\", \"tamale\", \"j'ai\", \"mais\", \"nigiri\", \"tartar\", \"michael\", \"yuck\", \"que\", \"des\", \"les\", \"ranchero\", \"vietnamese\", \"avec\", \"asada\", \"eclectic\", \"chive\", \"curry\", \"et\", \"ambience\", \"de\", \"carne\", \"tacos\", \"sushi\", \"delicious\", \"raman\", \"beef\", \"margarita\", \"la\", \"tuna\", \"spicy\", \"flavor\", \"dessert\", \"rice\", \"pork\", \"tasty\", \"cream\", \"roll\", \"taco\", \"chicken\", \"pho\", \"fresh\", \"sauce\", \"salad\", \"shrimp\", \"dish\", \"crispy\", \"food\", \"cheese\", \"taste\", \"portion\", \"good\", \"fry\", \"pizza\", \"favorite\", \"restaurant\", \"soup\", \"menu\", \"love\", \"great\", \"place\", \"try\", \"\\n\\n\", \"eat\", \"order\", \"service\", \" \", \"like\", \"\\n\", \"little\", \"definitely\", \"nice\", \"price\", \"come\", \"time\", \"amazing\", \"go\", \"removal\", \"id\", \"ipad\", \"tint\", \"heartbeat\", \"iphone\", \"blind\", \"disgusted\", \"secure\", \"arrogant\", \"xs\", \"dont\", \"carolina\", \"structure\", \"ikea\", \"nordstrom\", \"shady\", \"salesperson\", \"thread\", \"macy\", \"2006\", \"escrow\", \"scheduling\", \"walmart\", \"alex\", \"hobby\", \"ghetto\", \"substitution\", \"acura\", \"weed\", \"notify\", \"theater\", \"passenger\", \"apartment\", \"dryer\", \"carpet\", \"shoe\", \"reschedule\", \"pant\", \"store\", \"contact\", \"suite\", \"cleaning\", \"seal\", \"room\", \"email\", \"elevator\", \"desk\", \"company\", \"rent\", \"call\", \"arm\", \"purchase\", \"hotel\", \"wear\", \"office\", \"fix\", \"casino\", \"tell\", \"car\", \"rude\", \"stay\", \"phone\", \"appointment\", \"say\", \"job\", \"pool\", \"work\", \"manager\", \"\\n\", \"hair\", \"buy\", \"need\", \"money\", \"guy\", \"day\", \"customer\", \"issue\", \"know\", \"thank\", \"take\", \"want\", \"service\", \"\\n\\n\", \" \", \"go\", \"find\", \"time\", \"ask\", \"like\", \"leave\", \"year\", \"great\", \"come\", \"good\", \"get\", \"$\", \"look\", \"place\", \"price\", \"enchilada\", \"baklava\", \"airline\", \"hakka\", \"legal\", \"lawyer\", \"nancy\", \"menus\", \"2012\", \"appliance\", \"johns\", \"cha\", \"certificate\", \"drama\", \"coca\", \"harbor\", \"cola\", \"dunkin\", \"evaluate\", \"2.00\", \"luxurious\", \"3/5\", \"tiffany\", \"lentil\", \"jimmy\", \"mayonnaise\", \"peter\", \"600\", \"burro\", \"hush\", \"hollandaise\", \"terminal\", \"mississauga\", \"puppy\", \"poach\", \"possibility\", \"coney\", \"cuz\", \"minute\", \"min\", \"6.99\", \"wait\", \"x\", \"fly\", \"order\", \"medical\", \"15\", \"table\", \"therapist\", \"\\n\\n\", \"come\", \"$\", \"2\", \"waitress\", \"location\", \"get\", \"10\", \"ask\", \"bring\", \"hour\", \"sit\", \"30\", \"seat\", \"take\", \"20\", \"time\", \"check\", \"food\", \"line\", \"long\", \"cold\", \"go\", \"restaurant\", \"know\", \"eat\", \"people\", \"say\", \" \", \"good\", \"like\", \"service\", \"place\", \"\\n\", \"drink\", \"bad\", \"want\", \"great\", \"try\", \"keg\", \"lash\", \"cirque\", \"robert\", \"extension\", \"carl\", \"brake\", \"perform\", \"disgust\", \"gel\", \"urban\", \"humor\", \"jennifer\", \"msg\", \"verify\", \"yoga\", \"rv\", \"singing\", \"monitor\", \"nail\", \"pinball\", \"baba\", \"female\", \"collection\", \"queue\", \"hahaha\", \"fe\", \"howard\", \"tater\", \"talented\", \"pedi\", \"tan\", \"manicure\", \"instructor\", \"pedicure\", \"session\", \"class\", \"studio\", \"spray\", \"gym\", \"workout\", \" \", \"salon\", \"polish\", \"band\", \"bagel\", \" \\n\\n\", \"color\", \"music\", \"time\", \"  \", \"place\", \"look\", \"go\", \"game\", \"club\", \"feel\", \"great\", \"get\", \"new\", \"like\", \"shop\", \"owner\", \"month\", \"love\", \"people\", \"staff\", \"want\", \"nice\", \"customer\", \"service\", \"good\", \"day\", \"think\", \"know\", \"\\n\\n\", \"come\", \"try\", \"find\", \"food\", \"friendly\", \"work\", \"$\", \"brewery\", \"associate\", \"concoction\", \"specially\", \"medicine\", \"baker\", \"rick\", \"surgeon\", \"thrive\", \"friggin\", \"und\", \"wth\", \"france\", \"immaculate\", \"consult\", \"hospitable\", \"drywall\", \"fog\", \"worse\", \"angle\", \"firmly\", \"sammy\", \"camper\", \"reflexology\", \"accommodation\", \"chai\", \"daytime\", \"mikey\", \"debbie\", \"album\", \"penn\", \"dedicated\", \"sore\", \"bouchon\", \"dr.\", \"latte\", \"dental\", \"jim\", \"coffee\", \"cupcake\", \"dr\", \"bust\", \"dent\", \"donut\", \"physician\", \"boba\", \"cox\", \"espresso\", \"trail\", \"instal\", \"procedure\", \"pastry\", \"tower\", \"dim\", \"study\", \"skin\", \"barista\", \"recommend\", \"croissant\", \"facial\", \"staff\", \"patient\", \"amazing\", \"tea\", \"hotel\", \"bike\", \"shop\", \"place\", \"highly\", \"\\n\\n\", \"come\", \"definitely\", \"room\", \"stay\", \"drink\", \"great\", \"work\", \"good\", \"year\", \"little\", \"know\", \"like\", \"love\", \"look\", \"try\", \"go\", \"time\", \"friendly\", \"day\", \"find\", \" \", \"service\"], \"Freq\": [13871.0, 8356.0, 5295.0, 610.0, 3488.0, 3853.0, 1413.0, 1611.0, 1184.0, 1390.0, 5072.0, 4230.0, 1495.0, 517.0, 1433.0, 1632.0, 1034.0, 1320.0, 1650.0, 851.0, 1559.0, 660.0, 3033.0, 1939.0, 2259.0, 526.0, 1410.0, 1540.0, 1560.0, 354.0, 59.83426525036794, 35.95544945509636, 240.50889599845894, 26.023867838363273, 36.029829707035745, 31.880812267504492, 64.74813175424309, 26.571911138286666, 22.26598554417573, 56.683155352825466, 24.06422608761848, 23.39127166319568, 21.5794894102002, 33.249503129531774, 44.39523642108385, 19.2688398934458, 24.548059724732905, 39.62704810174357, 17.581332604048864, 44.87646685585084, 18.68669544129934, 30.70991154866042, 34.54692267657448, 47.17442908836286, 18.92545141856046, 35.70989400912714, 17.62268173172394, 54.782636639443886, 20.373107416007144, 16.119280471739092, 164.89586538013904, 69.30717485758404, 82.41324994304797, 148.8413042984579, 61.93901556877404, 99.45814053289051, 515.7470453082565, 1122.882016402158, 155.4815038698904, 433.0207882314209, 109.09218250953842, 183.9771575870815, 128.2622923605803, 345.31786838304083, 649.5009234470439, 467.80404335178275, 465.95852726959487, 335.9787495353252, 462.08125700517263, 507.16050214449206, 503.2148352670641, 400.5197057767766, 1142.7292995689525, 109.60334710953983, 758.8749012798115, 737.1731585135617, 620.3830458100718, 311.64742104570223, 701.2212838036112, 184.6625291269959, 3245.580270436547, 671.7276932650593, 895.5194093757324, 418.45699436070413, 3799.925364273249, 692.0549451918636, 642.8779082052178, 485.79192669053646, 1100.5565271887829, 415.3183734462027, 853.794664622475, 1286.7892611247562, 2142.108326971347, 2478.488150667931, 1401.9331278284083, 3230.680541022001, 929.8476098199005, 1559.121320969001, 1660.730238993091, 3489.6336952689085, 1459.8971705301374, 1229.0326228472725, 786.7036347849742, 762.7883289068999, 839.2273785212062, 837.0501857129353, 1121.387512078621, 1046.6402352258608, 736.8953132437922, 688.7868562178742, 25.29879712842636, 22.38244150399016, 24.609153351136825, 29.715612699390864, 18.391740849265858, 25.59868763244411, 22.874464276067098, 17.68761593724426, 13.65304756817312, 13.255291954340864, 13.540420104423394, 12.937214839031785, 15.651299416019626, 15.099261157527426, 21.187928199731164, 15.795068598057956, 18.480844326671363, 14.242900711221818, 14.59010717328631, 12.23521892180116, 11.067874701028495, 10.710563371302271, 18.16845776464973, 11.741840507741937, 22.04955571628887, 15.175440131201883, 10.032933443794732, 10.096359126605947, 10.402754892485, 13.559627375999128, 21.74526165039578, 68.2290722242241, 20.516206356835866, 82.37449739693932, 28.65322941062064, 64.60405744167302, 61.787001972102736, 28.349221526622525, 27.70124947254928, 617.352351411853, 108.50532620213684, 67.14997789786382, 77.18063015765176, 24.91760780700606, 808.161367324035, 110.36002309080861, 55.03109770617878, 126.90842996144092, 291.6655503360602, 85.78410488679332, 535.8854377119593, 41.92126059486459, 208.97003294756232, 334.3402269523377, 89.84587625107822, 226.99061242134638, 248.13220893024186, 137.73544868611708, 841.1888092505723, 404.17617908648776, 223.22410136961074, 382.3764105375974, 243.34026017610861, 245.38978572872867, 757.7532287901196, 311.35160918478607, 173.51362466873616, 698.6702520186847, 265.9377384251399, 1128.426659178275, 233.3976990045948, 268.39857187583857, 576.660025351714, 268.6798704820663, 331.7219636832496, 567.6520118361369, 452.8695289395334, 211.35555258719387, 567.3852175238698, 305.95384148090244, 502.4437764414755, 561.5813295890905, 881.5982486431009, 1374.8424384308853, 1724.8209939770545, 719.7418679559895, 507.70756470005193, 832.2073163600836, 469.9886189018273, 750.061135871497, 389.37115923545576, 378.31674335464436, 762.9588410667155, 687.8263336741293, 834.1715894841508, 580.3637550434597, 473.35054484867044, 433.84455357667036, 479.44949458832616, 414.0379079336301, 62.72838288085916, 22.49857551318455, 22.39168260631715, 12.16761391076502, 18.222005356351783, 12.615895464211825, 11.488562317014665, 22.253400408253384, 11.37568566686619, 13.831398875254958, 11.836826539329037, 16.269451319689743, 11.606506794135184, 15.39145759492123, 10.133701692192066, 9.591409904935247, 10.44560951064133, 18.968454523984796, 9.680464703097195, 10.473229313601722, 10.341109663198083, 21.87917379010038, 9.66206171851669, 8.46702228620283, 15.26623176559736, 8.502294186772938, 8.448470419608745, 11.9132555588884, 9.954051458953138, 11.232022551713587, 20.70069237310071, 19.998744331252155, 14.809250101935445, 30.586297515752, 19.58335037671681, 13.842783970411046, 13.58823951601745, 14.479977094117979, 591.849886222605, 144.2594781138994, 14.353011388713846, 820.5763778462724, 30.460448425449716, 62.1972944651242, 1514.1405874231536, 35.98405286839765, 174.1362798535654, 504.67480814049986, 29.285789773092837, 2727.301015945289, 1371.2192725243283, 791.7376865984695, 418.837636379014, 218.25117650224797, 378.43017043993893, 819.4135334195814, 234.05525329966716, 489.75489199439204, 282.7395082619074, 363.61116710648645, 286.33958044344826, 137.68037609530649, 237.267625040826, 457.88283773234593, 155.75593701614414, 940.5803719724447, 324.23025140880833, 1038.2759318919323, 220.32592618136925, 291.8004325773, 168.17825521052322, 667.7518751309176, 455.3790042515779, 438.89016360785797, 413.2704532949147, 387.9029899825477, 404.0896526852941, 1533.8969854077327, 925.0678703812281, 678.2037427948259, 620.7698962423741, 691.3261917947112, 542.3541717397629, 358.56204672156156, 337.0149075546678, 358.5644755418615, 392.30940714963566, 362.8499654828608, 25.582016904605215, 37.15976340568466, 26.519133665853875, 37.57245124680102, 23.14282635700148, 14.795881264162725, 36.45932573261149, 29.269165806760444, 13.485350714439537, 90.99412895557495, 18.96052169915615, 12.236829111240514, 23.908516314230766, 15.825293410662235, 11.248463889080027, 30.074634303969816, 12.076786235992962, 10.629531734990728, 9.409884865892902, 325.80929693495057, 9.0819401485817, 10.024569007281752, 23.83523522874269, 32.53306129774947, 9.013752665366699, 8.51088914574171, 13.71207907650868, 8.602658545614334, 16.28992194957785, 21.676046619486232, 41.33680104373439, 37.28817549810532, 57.615435089119, 41.97224297592855, 118.87172090148795, 52.426989196453384, 169.31303646898783, 50.565482513625426, 35.897561883043736, 95.05748209179437, 38.29355570231025, 7038.539099815612, 163.8990847361267, 67.14470215403878, 50.795362488355934, 57.02188280443116, 318.21135072109905, 119.14228663348578, 155.889430991782, 1305.7234847926147, 206.09039273947215, 1386.8252361887573, 652.8807753277048, 858.3730983276876, 132.14672046071664, 100.09208801034859, 386.30251125136004, 928.1791030456137, 667.0622354431678, 359.4178306464624, 783.9105837527898, 212.50586649496276, 214.8625790955741, 180.1174354109964, 500.5651326400501, 360.9317283548076, 381.5989923469611, 404.1021545567159, 398.5933821355074, 301.0201191456666, 599.149434118219, 780.9806130172336, 346.2830441704018, 329.87548781244766, 347.07910225890976, 739.3082161037584, 486.6943908624607, 402.1489630329726, 329.1480858644263, 514.0895209286916, 312.2977960046769, 311.66413697659857, 338.40714836442, 34.879741213080315, 28.562907104611483, 15.638654308959854, 10.375023427623805, 10.178182478559268, 13.143039427917277, 8.229837186083534, 8.7219772481515, 7.757670270549426, 8.604224346997912, 7.481618129968151, 7.217531816245008, 7.607269387364465, 7.4630592690886415, 9.520238134034527, 6.656017870950521, 6.670583147378095, 11.123137251930608, 7.186516046733983, 10.070071348576402, 6.758683068258043, 9.946012748481607, 8.3584961327606, 7.292988993597433, 9.895885837677238, 27.369205232848827, 5.66698664260584, 8.152538825243365, 5.584874859429144, 5.619784205857705, 9.902107948231485, 9.741311505743404, 12.145295602881907, 13.206121792375379, 133.3141869471698, 46.68454997023383, 41.27863523514643, 11.31579952797209, 280.50636272194254, 40.57367167663247, 53.71064945384546, 13.690732929017983, 13.330398319336174, 86.47172657277261, 16.04941510572434, 34.38003192404327, 18.058845597269762, 26.165493651747852, 22.48784494217221, 29.82133027027654, 31.42952307057172, 38.82867453988104, 29.24946927679637, 29.42043141052343, 19.784533816633704, 49.03915422777641, 20.469892913106285, 196.59962342078924, 26.796362075821886, 27.57250711643035, 187.99208539130834, 51.45277188651191, 161.4018433218283, 74.96816737691915, 88.97857215066301, 29.64152567932905, 81.89755509681943, 259.66352678657154, 83.8140875448085, 284.1857563390959, 186.11971746462885, 116.90265799324123, 100.34026394205014, 76.41071187665821, 99.34382469291124, 141.22807271807199, 96.92789939763576, 156.1693177689893, 79.09506336485474, 86.86589955267507, 89.9715842759366, 111.56262583357505, 97.34625927436466, 93.15303590137724, 99.40698168985769, 98.48295983682047, 105.33650900735282, 83.76377330645835, 83.59538450092981, 83.31056304296669, 84.42449174057529, 82.28482606419871], \"Total\": [13871.0, 8356.0, 5295.0, 610.0, 3488.0, 3853.0, 1413.0, 1611.0, 1184.0, 1390.0, 5072.0, 4230.0, 1495.0, 517.0, 1433.0, 1632.0, 1034.0, 1320.0, 1650.0, 851.0, 1559.0, 660.0, 3033.0, 1939.0, 2259.0, 526.0, 1410.0, 1540.0, 1560.0, 354.0, 60.67665580675508, 36.874429661022134, 247.28412912475625, 26.81855499502538, 37.17472335835547, 32.9045548824844, 66.85596125863745, 27.483589338149933, 23.03565888675899, 58.76193369018286, 24.9517513013813, 24.273834851906667, 22.451660951652038, 34.59560235951958, 46.223799257480145, 20.116454031559822, 25.635285179735664, 41.41305511824531, 18.380813629893392, 46.94843156594945, 19.557323571021733, 32.158850653543446, 36.17744706583926, 49.4129360534911, 19.83719146924532, 37.50276261246738, 18.507751044885463, 57.64845090748216, 21.44824197173074, 17.001339451582773, 175.04823892701063, 73.28516366773256, 87.70007083721447, 159.9378612892833, 65.9706991421398, 107.63930933236854, 588.2396693100663, 1320.3787808514817, 172.1271712444381, 502.2994585117714, 119.50475087731003, 206.45640537651443, 142.26107031955456, 399.91313348619104, 786.9575760773225, 557.1564732293607, 555.6510266672409, 394.33110516749105, 552.0554224692197, 610.5093685139225, 605.5017671153817, 480.2956359161784, 1479.620073693575, 121.81388012805698, 981.2069793006367, 960.5520769801406, 797.9475809514103, 378.96003930560414, 925.3387274482849, 214.94341798447064, 5072.155164621881, 901.9227519201199, 1242.9652734035471, 534.2136610850879, 6496.3147549248515, 953.2388658343555, 893.7138848481982, 652.917819742543, 1731.5828203450938, 547.1095049312669, 1320.5742868116345, 2259.683859404121, 4366.783750951385, 5295.752600026297, 2598.6009161197235, 8356.317967841029, 1561.6820191189197, 3488.754854210604, 3844.5326440609833, 13871.315266209882, 3783.635258782825, 3279.631088060877, 1450.407024126141, 1433.6748832699327, 1786.6663829179925, 1815.423567787775, 3853.247226604168, 4230.487917358357, 1390.9163542880074, 3033.1366574692893, 26.229975794200335, 23.242717100469417, 25.73450014108466, 31.091662796208045, 19.264058314000437, 26.952726016457124, 24.158132486962767, 18.685975861964355, 14.449086036284948, 14.034592253337305, 14.352232953520021, 13.715038559671239, 16.632092437048204, 16.051652163792404, 22.52462973685323, 16.829343199172254, 19.703679375607194, 15.187272248759893, 15.595892651207103, 13.07892296568335, 11.83682595112807, 11.483353832459159, 19.48166641589813, 12.607145593514964, 23.69234986958679, 16.315932626769666, 10.81353669855545, 10.8855529964946, 11.234423048098007, 14.66763168606143, 23.534113449637957, 75.42322425194564, 22.347328744356044, 92.54138278077508, 31.656854725915846, 73.500376373348, 70.50531105921765, 31.515667313664753, 30.798946080183864, 851.3229591551544, 131.90894949596347, 79.49411099242927, 92.40846750343177, 27.616698131913974, 1184.8686240079587, 138.31177609097864, 65.22491346859921, 162.79348565237564, 415.8339903202708, 108.75065271425497, 834.6793387130747, 49.42826272390656, 301.89807540964347, 517.7680584548195, 116.52566389889962, 341.2030695860868, 378.69385953330175, 193.53862291892528, 1559.3993214502061, 696.6695413860593, 348.24988559012417, 660.3966677133241, 392.22250520132036, 396.5194806022784, 1540.3834419926945, 528.030825455191, 266.89108841408813, 1495.6254312352537, 483.38367029908784, 3279.631088060877, 409.56351503853085, 494.0019829047974, 1389.8030759587896, 497.76598246095523, 670.8451035163117, 1560.506655686972, 1131.2367226873293, 367.5717238487671, 1650.608561960014, 644.5011388587194, 1440.8765447400872, 1782.4051912136035, 3844.5326440609833, 8356.317967841029, 13871.315266209882, 3033.1366574692893, 1603.179622155495, 4230.487917358357, 1455.2144359168237, 3783.635258782825, 1026.6749291086044, 972.3977801314614, 4366.783750951385, 3853.247226604168, 6496.3147549248515, 2750.8758825375403, 2182.0416636060295, 1939.7644561425423, 5295.752600026297, 1815.423567787775, 63.73389282958671, 23.539027593673346, 23.603602941510363, 12.97528961803369, 19.470350033495457, 13.51723820879588, 12.339024601751927, 23.951955181620345, 12.26594170775814, 14.927130056763716, 12.777382221600746, 17.56930960142719, 12.563488235097157, 16.662756329102397, 10.998212130466525, 10.42008293999856, 11.35639046404387, 20.64832738412082, 10.542697475297498, 11.416011138486835, 11.28429494029496, 23.920861164946736, 10.584299418148543, 9.283202792781493, 16.741871144611537, 9.37161170299941, 9.319335438570034, 13.174246714932213, 11.01278007942115, 12.431448009206761, 23.006673757954562, 22.339509582681945, 16.53236423057458, 35.68033978853778, 22.39050552137242, 15.52783724097225, 15.292460794088683, 16.426552328971823, 1034.080677051307, 218.461804986389, 16.329999609491573, 1632.4335393300582, 38.52816603438168, 87.74929409862347, 3488.754854210604, 47.83585818896947, 306.3808800992472, 1095.1515890532962, 37.75172427926081, 8356.317967841029, 3853.247226604168, 2182.0416636060295, 1060.6028126126294, 474.57435748236986, 965.1213767360657, 2750.8758825375403, 555.66365347601, 1455.2144359168237, 714.2769727720588, 1001.5089597913504, 749.844531946544, 284.7263247732339, 588.4989680539135, 1440.8765447400872, 340.4896340326717, 4230.487917358357, 980.8589347362299, 5072.155164621881, 593.6083728277224, 889.9249752053943, 405.0558111426986, 3033.1366574692893, 1731.5828203450938, 1650.608561960014, 1561.6820191189197, 1442.4831290125962, 1540.3834419926945, 13871.315266209882, 6496.3147549248515, 3783.635258782825, 3844.5326440609833, 5295.752600026297, 3279.631088060877, 1410.8981609783737, 1217.9886226198998, 1782.4051912136035, 4366.783750951385, 2598.6009161197235, 26.490317343284303, 38.59728825752781, 27.588810590863044, 39.247339190271475, 24.201569171640582, 15.660157756130383, 38.61309405839573, 31.041954427452424, 14.3189813615577, 96.98425774351489, 20.236600962725273, 13.065363149787686, 25.546665399127416, 16.925542233017897, 12.129506703285768, 32.461150459557295, 13.042763664208657, 11.543722078654858, 10.228825166211736, 354.26172661802866, 9.902556916209544, 10.930519930156917, 26.03499626364231, 35.53742582169945, 9.85829316615184, 9.32626100574808, 15.042500916583874, 9.445203383224094, 17.935713825986078, 23.882125190940915, 45.625424454557596, 41.239859489236885, 64.11567114962422, 46.7122671852124, 137.72889109905555, 60.5497260306296, 206.88493678937837, 58.9624812933058, 41.13051887714386, 119.78328547306957, 45.19241410282689, 13871.315266209882, 226.119357415102, 86.39019292044664, 63.11586558007771, 72.36034872514635, 577.6084567570597, 180.25210507993637, 267.3519257351027, 4230.487917358357, 400.0632123305541, 5295.752600026297, 1939.7644561425423, 3033.1366574692893, 247.02618612455544, 170.52729096980585, 1142.429432520435, 4366.783750951385, 2750.8758825375403, 1131.3589678410203, 3783.635258782825, 526.660544832588, 552.6862892707096, 446.98103245558366, 2259.683859404121, 1442.4831290125962, 1611.1828632879146, 1782.4051912136035, 1786.6663829179925, 1131.2367226873293, 3844.5326440609833, 6496.3147549248515, 1560.506655686972, 1439.4478782030478, 1650.608561960014, 8356.317967841029, 3853.247226604168, 2598.6009161197235, 1603.179622155495, 5072.155164621881, 1440.0939949833337, 1495.6254312352537, 2182.0416636060295, 35.78987893211189, 29.587274687394235, 16.5085404713254, 11.199510085183308, 11.018366021208765, 14.285962717563187, 9.035997664885246, 9.62420153112369, 8.588920851384689, 9.574135347868054, 8.331840125114766, 8.039930927674842, 8.502663110854744, 8.346567605553762, 10.650134932985505, 7.482037879385737, 7.501669679449904, 12.587784943760969, 8.141368024247942, 11.409390591645801, 7.6826380542912505, 11.310241025162249, 9.511929027012172, 8.3178535718351, 11.289211861684267, 31.27294611728778, 6.479674600728525, 9.33554339076761, 6.396083646148541, 6.441185452108345, 11.407066835529445, 11.246039671193396, 14.156505442133724, 15.53533735534159, 181.32701460170486, 60.414407806407, 53.19727104123807, 13.442678148305074, 610.0541414126933, 61.77356504286471, 88.40696203717495, 17.23308696715089, 16.700390155845604, 165.5538175839786, 21.663420760572173, 60.47549346575674, 25.813300155730737, 43.47300445509134, 35.52397468882559, 52.87736799441275, 57.24305547655338, 80.23630456700342, 54.24592466026884, 55.67173212494799, 31.075958812966938, 129.38722960745508, 33.57583514915606, 1413.4383444556959, 53.363561911154534, 57.91816684570945, 1611.1828632879146, 171.61149785718317, 1390.9163542880074, 367.9794049143321, 517.7680584548195, 67.74393184001327, 526.660544832588, 5295.752600026297, 557.2417597225128, 8356.317967841029, 3853.247226604168, 1433.6748832699327, 1184.8686240079587, 660.3966677133241, 1410.8981609783737, 4366.783750951385, 1495.6254312352537, 6496.3147549248515, 972.3977801314614, 1450.407024126141, 1650.608561960014, 3783.635258782825, 2259.683859404121, 1939.7644561425423, 2598.6009161197235, 3033.1366574692893, 4230.487917358357, 1440.0939949833337, 1560.506655686972, 1603.179622155495, 13871.315266209882, 3844.5326440609833], \"Category\": [\"Default\", \"Default\", \"Default\", \"Default\", \"Default\", \"Default\", \"Default\", \"Default\", \"Default\", \"Default\", \"Default\", \"Default\", \"Default\", \"Default\", \"Default\", \"Default\", \"Default\", \"Default\", \"Default\", \"Default\", \"Default\", \"Default\", \"Default\", \"Default\", \"Default\", \"Default\", \"Default\", \"Default\", \"Default\", \"Default\", \"Topic1\", \"Topic1\", \"Topic1\", \"Topic1\", \"Topic1\", \"Topic1\", \"Topic1\", \"Topic1\", \"Topic1\", \"Topic1\", \"Topic1\", \"Topic1\", \"Topic1\", \"Topic1\", \"Topic1\", \"Topic1\", \"Topic1\", \"Topic1\", \"Topic1\", \"Topic1\", \"Topic1\", \"Topic1\", \"Topic1\", \"Topic1\", \"Topic1\", \"Topic1\", \"Topic1\", \"Topic1\", \"Topic1\", \"Topic1\", \"Topic1\", \"Topic1\", \"Topic1\", \"Topic1\", \"Topic1\", \"Topic1\", \"Topic1\", \"Topic1\", \"Topic1\", \"Topic1\", \"Topic1\", \"Topic1\", \"Topic1\", \"Topic1\", \"Topic1\", \"Topic1\", \"Topic1\", \"Topic1\", \"Topic1\", \"Topic1\", \"Topic1\", \"Topic1\", \"Topic1\", \"Topic1\", \"Topic1\", \"Topic1\", \"Topic1\", \"Topic1\", \"Topic1\", \"Topic1\", \"Topic1\", \"Topic1\", \"Topic1\", \"Topic1\", \"Topic1\", \"Topic1\", \"Topic1\", \"Topic1\", \"Topic1\", \"Topic1\", \"Topic1\", \"Topic1\", \"Topic1\", \"Topic1\", \"Topic1\", \"Topic1\", \"Topic1\", \"Topic1\", \"Topic1\", \"Topic1\", \"Topic1\", \"Topic1\", \"Topic1\", \"Topic1\", \"Topic1\", \"Topic1\", \"Topic1\", \"Topic1\", \"Topic1\", \"Topic1\", \"Topic2\", \"Topic2\", \"Topic2\", \"Topic2\", \"Topic2\", \"Topic2\", \"Topic2\", \"Topic2\", \"Topic2\", \"Topic2\", \"Topic2\", \"Topic2\", \"Topic2\", \"Topic2\", \"Topic2\", \"Topic2\", \"Topic2\", \"Topic2\", \"Topic2\", \"Topic2\", \"Topic2\", \"Topic2\", \"Topic2\", \"Topic2\", \"Topic2\", \"Topic2\", \"Topic2\", \"Topic2\", \"Topic2\", \"Topic2\", \"Topic2\", \"Topic2\", \"Topic2\", \"Topic2\", \"Topic2\", \"Topic2\", \"Topic2\", \"Topic2\", \"Topic2\", \"Topic2\", \"Topic2\", \"Topic2\", \"Topic2\", \"Topic2\", \"Topic2\", \"Topic2\", \"Topic2\", \"Topic2\", \"Topic2\", \"Topic2\", \"Topic2\", \"Topic2\", \"Topic2\", \"Topic2\", \"Topic2\", \"Topic2\", \"Topic2\", \"Topic2\", \"Topic2\", \"Topic2\", \"Topic2\", \"Topic2\", \"Topic2\", \"Topic2\", \"Topic2\", \"Topic2\", \"Topic2\", \"Topic2\", \"Topic2\", \"Topic2\", \"Topic2\", \"Topic2\", \"Topic2\", \"Topic2\", \"Topic2\", \"Topic2\", \"Topic2\", \"Topic2\", \"Topic2\", \"Topic2\", \"Topic2\", \"Topic2\", \"Topic2\", \"Topic2\", \"Topic2\", \"Topic2\", \"Topic2\", \"Topic2\", \"Topic2\", \"Topic2\", \"Topic2\", \"Topic2\", \"Topic2\", \"Topic2\", \"Topic2\", \"Topic2\", \"Topic2\", \"Topic2\", \"Topic2\", \"Topic2\", \"Topic3\", \"Topic3\", \"Topic3\", \"Topic3\", \"Topic3\", \"Topic3\", \"Topic3\", \"Topic3\", \"Topic3\", \"Topic3\", \"Topic3\", \"Topic3\", \"Topic3\", \"Topic3\", \"Topic3\", \"Topic3\", \"Topic3\", \"Topic3\", \"Topic3\", \"Topic3\", \"Topic3\", \"Topic3\", \"Topic3\", \"Topic3\", \"Topic3\", \"Topic3\", \"Topic3\", \"Topic3\", \"Topic3\", \"Topic3\", \"Topic3\", \"Topic3\", \"Topic3\", \"Topic3\", \"Topic3\", \"Topic3\", \"Topic3\", \"Topic3\", \"Topic3\", \"Topic3\", \"Topic3\", \"Topic3\", \"Topic3\", \"Topic3\", \"Topic3\", \"Topic3\", \"Topic3\", \"Topic3\", \"Topic3\", \"Topic3\", \"Topic3\", \"Topic3\", \"Topic3\", \"Topic3\", \"Topic3\", \"Topic3\", \"Topic3\", \"Topic3\", \"Topic3\", \"Topic3\", \"Topic3\", \"Topic3\", \"Topic3\", \"Topic3\", \"Topic3\", \"Topic3\", \"Topic3\", \"Topic3\", \"Topic3\", \"Topic3\", \"Topic3\", \"Topic3\", \"Topic3\", \"Topic3\", \"Topic3\", \"Topic3\", \"Topic3\", \"Topic3\", \"Topic3\", \"Topic3\", \"Topic3\", \"Topic3\", \"Topic3\", \"Topic3\", \"Topic3\", \"Topic3\", \"Topic3\", \"Topic3\", \"Topic4\", \"Topic4\", \"Topic4\", \"Topic4\", \"Topic4\", \"Topic4\", \"Topic4\", \"Topic4\", \"Topic4\", \"Topic4\", \"Topic4\", \"Topic4\", \"Topic4\", \"Topic4\", \"Topic4\", \"Topic4\", \"Topic4\", \"Topic4\", \"Topic4\", \"Topic4\", \"Topic4\", \"Topic4\", \"Topic4\", \"Topic4\", \"Topic4\", \"Topic4\", \"Topic4\", \"Topic4\", \"Topic4\", \"Topic4\", \"Topic4\", \"Topic4\", \"Topic4\", \"Topic4\", \"Topic4\", \"Topic4\", \"Topic4\", \"Topic4\", \"Topic4\", \"Topic4\", \"Topic4\", \"Topic4\", \"Topic4\", \"Topic4\", \"Topic4\", \"Topic4\", \"Topic4\", \"Topic4\", \"Topic4\", \"Topic4\", \"Topic4\", \"Topic4\", \"Topic4\", \"Topic4\", \"Topic4\", \"Topic4\", \"Topic4\", \"Topic4\", \"Topic4\", \"Topic4\", \"Topic4\", \"Topic4\", \"Topic4\", \"Topic4\", \"Topic4\", \"Topic4\", \"Topic4\", \"Topic4\", \"Topic4\", \"Topic4\", \"Topic4\", \"Topic4\", \"Topic4\", \"Topic4\", \"Topic4\", \"Topic4\", \"Topic4\", \"Topic4\", \"Topic4\", \"Topic4\", \"Topic4\", \"Topic4\", \"Topic4\", \"Topic5\", \"Topic5\", \"Topic5\", \"Topic5\", \"Topic5\", \"Topic5\", \"Topic5\", \"Topic5\", \"Topic5\", \"Topic5\", \"Topic5\", \"Topic5\", \"Topic5\", \"Topic5\", \"Topic5\", \"Topic5\", \"Topic5\", \"Topic5\", \"Topic5\", \"Topic5\", \"Topic5\", \"Topic5\", \"Topic5\", \"Topic5\", \"Topic5\", \"Topic5\", \"Topic5\", \"Topic5\", \"Topic5\", \"Topic5\", \"Topic5\", \"Topic5\", \"Topic5\", \"Topic5\", \"Topic5\", \"Topic5\", \"Topic5\", \"Topic5\", \"Topic5\", \"Topic5\", \"Topic5\", \"Topic5\", \"Topic5\", \"Topic5\", \"Topic5\", \"Topic5\", \"Topic5\", \"Topic5\", \"Topic5\", \"Topic5\", \"Topic5\", \"Topic5\", \"Topic5\", \"Topic5\", \"Topic5\", \"Topic5\", \"Topic5\", \"Topic5\", \"Topic5\", \"Topic5\", \"Topic5\", \"Topic5\", \"Topic5\", \"Topic5\", \"Topic5\", \"Topic5\", \"Topic5\", \"Topic5\", \"Topic5\", \"Topic5\", \"Topic5\", \"Topic5\", \"Topic5\", \"Topic5\", \"Topic5\", \"Topic5\", \"Topic5\", \"Topic5\", \"Topic5\", \"Topic5\", \"Topic5\", \"Topic5\", \"Topic5\", \"Topic5\", \"Topic5\", \"Topic5\", \"Topic5\", \"Topic5\", \"Topic5\", \"Topic5\", \"Topic5\", \"Topic5\"], \"logprob\": [30.0, 29.0, 28.0, 27.0, 26.0, 25.0, 24.0, 23.0, 22.0, 21.0, 20.0, 19.0, 18.0, 17.0, 16.0, 15.0, 14.0, 13.0, 12.0, 11.0, 10.0, 9.0, 8.0, 7.0, 6.0, 5.0, 4.0, 3.0, 2.0, 1.0, -8.0252, -8.5345, -6.634, -8.8578, -8.5324, -8.6548, -7.9463, -8.8369, -9.0137, -8.0793, -8.936, -8.9644, -9.045, -8.6127, -8.3236, -9.1583, -8.9161, -8.4373, -9.2499, -8.3129, -9.189, -8.6922, -8.5745, -8.2629, -9.1763, -8.5413, -9.2476, -8.1134, -9.1026, -9.3368, -7.0115, -7.8782, -7.705, -7.1139, -7.9906, -7.517, -5.8712, -5.0931, -7.0702, -6.046, -7.4246, -6.902, -7.2627, -6.2723, -5.6406, -5.9687, -5.9727, -6.2997, -5.981, -5.8879, -5.8958, -6.124, -5.0756, -7.4199, -5.4849, -5.514, -5.6864, -6.3749, -5.564, -6.8982, -4.0317, -5.6069, -5.3194, -6.0802, -3.874, -5.5771, -5.6508, -5.931, -5.1132, -6.0877, -5.3671, -4.9569, -4.4472, -4.3014, -4.8712, -4.0363, -5.2818, -4.7649, -4.7018, -3.9592, -4.8307, -5.0028, -5.4489, -5.4798, -5.3843, -5.3869, -5.0945, -5.1634, -5.5143, -5.5818, -8.4104, -8.5328, -8.438, -8.2495, -8.7292, -8.3986, -8.5111, -8.7683, -9.0272, -9.0567, -9.0354, -9.081, -8.8906, -8.9265, -8.5877, -8.8814, -8.7244, -8.9849, -8.9608, -9.1368, -9.2371, -9.2699, -8.7414, -9.178, -8.5478, -8.9214, -9.3353, -9.3289, -9.2991, -9.034, -8.5617, -7.4183, -8.6199, -7.2298, -8.2859, -7.4728, -7.5174, -8.2965, -8.3196, -5.2157, -6.9543, -7.4342, -7.295, -8.4255, -4.9464, -6.9374, -7.6332, -6.7977, -5.9655, -7.1893, -5.3572, -7.9053, -6.2989, -5.829, -7.143, -6.2162, -6.1272, -6.7158, -4.9063, -5.6393, -6.2329, -5.6947, -6.1467, -6.1383, -5.0108, -5.9002, -6.4849, -5.0919, -6.0579, -4.6125, -6.1884, -6.0487, -5.2839, -6.0476, -5.8368, -5.2996, -5.5255, -6.2876, -5.3001, -5.9177, -5.4216, -5.3104, -4.8594, -4.415, -4.1882, -5.0622, -5.4112, -4.917, -5.4884, -5.021, -5.6766, -5.7054, -5.0039, -5.1076, -4.9147, -5.2775, -5.4813, -5.5684, -5.4685, -5.6152, -7.3772, -8.4025, -8.4073, -9.0172, -8.6133, -8.981, -9.0746, -8.4135, -9.0845, -8.889, -9.0448, -8.7267, -9.0644, -8.7822, -9.2001, -9.2551, -9.1698, -8.5732, -9.2459, -9.1671, -9.1798, -8.4304, -9.2478, -9.3798, -8.7903, -9.3756, -9.382, -9.0383, -9.218, -9.0972, -8.4858, -8.5203, -8.8207, -8.0954, -8.5413, -8.8882, -8.9068, -8.8432, -5.1327, -6.5444, -8.852, -4.806, -8.0995, -7.3857, -4.1934, -7.9329, -6.3561, -5.2921, -8.1389, -3.6049, -4.2925, -4.8417, -5.4785, -6.1303, -5.5799, -4.8074, -6.0604, -5.3221, -5.8714, -5.6199, -5.8588, -6.591, -6.0468, -5.3894, -6.4677, -4.6695, -5.7345, -4.5707, -6.1209, -5.8399, -6.3909, -5.0121, -5.3948, -5.4317, -5.4919, -5.5552, -5.5143, -4.1804, -4.6861, -4.9965, -5.085, -4.9774, -5.2201, -5.6339, -5.6958, -5.6339, -5.5439, -5.622, -8.2558, -7.8825, -8.2198, -7.8714, -8.356, -8.8034, -7.9015, -8.1212, -8.8961, -6.9869, -8.5553, -8.9932, -8.3235, -8.7361, -9.0775, -8.094, -9.0064, -9.1341, -9.2559, -5.7114, -9.2914, -9.1927, -8.3265, -8.0154, -9.2989, -9.3564, -8.8794, -9.3456, -8.7072, -8.4215, -7.7759, -7.879, -7.4439, -7.7607, -6.7197, -7.5383, -6.366, -7.5744, -7.917, -6.9432, -7.8524, -2.6385, -6.3984, -7.2908, -7.5699, -7.4543, -5.735, -6.7174, -6.4486, -4.3232, -6.1694, -4.2629, -5.0163, -4.7427, -6.6138, -6.8916, -5.5411, -4.6645, -4.9948, -5.6132, -4.8334, -6.1387, -6.1277, -6.3041, -5.282, -5.609, -5.5533, -5.496, -5.5098, -5.7905, -5.1022, -4.8371, -5.6504, -5.699, -5.6481, -4.892, -5.3101, -5.5009, -5.7012, -5.2553, -5.7537, -5.7558, -5.6734, -6.6001, -6.7999, -7.4023, -7.8126, -7.8318, -7.5762, -8.0443, -7.9862, -8.1034, -7.9998, -8.1396, -8.1755, -8.1229, -8.1421, -7.8986, -8.2565, -8.2543, -7.743, -8.1798, -7.8425, -8.2412, -7.8549, -8.0288, -8.1651, -7.8599, -6.8426, -8.4174, -8.0537, -8.432, -8.4258, -7.8593, -7.8757, -7.6551, -7.5714, -5.2593, -6.3086, -6.4317, -7.7258, -4.5155, -6.4489, -6.1684, -7.5353, -7.562, -5.6922, -7.3764, -6.6146, -7.2584, -6.8876, -7.0391, -6.7568, -6.7043, -6.4929, -6.7762, -6.7704, -7.1671, -6.2594, -7.1331, -4.8709, -6.8638, -6.8352, -4.9156, -6.2114, -5.0681, -5.835, -5.6637, -6.7629, -5.7466, -4.5927, -5.7234, -4.5024, -4.9257, -5.3907, -5.5435, -5.8159, -5.5535, -5.2017, -5.5781, -5.1011, -5.7814, -5.6877, -5.6526, -5.4375, -5.5738, -5.6178, -5.5528, -5.5622, -5.4949, -5.724, -5.7261, -5.7295, -5.7162, -5.7419], \"loglift\": [30.0, 29.0, 28.0, 27.0, 26.0, 25.0, 24.0, 23.0, 22.0, 21.0, 20.0, 19.0, 18.0, 17.0, 16.0, 15.0, 14.0, 13.0, 12.0, 11.0, 10.0, 9.0, 8.0, 7.0, 6.0, 5.0, 4.0, 3.0, 2.0, 1.0, 1.0328, 1.0215, 1.019, 1.0167, 1.0155, 1.0152, 1.0148, 1.0131, 1.0128, 1.0108, 1.0106, 1.0098, 1.0072, 1.0071, 1.0064, 1.0037, 1.0035, 1.0027, 1.0023, 1.0017, 1.0012, 1.0007, 1.0007, 1.0004, 0.9997, 0.9978, 0.9978, 0.9958, 0.9954, 0.9935, 0.987, 0.991, 0.9846, 0.9749, 0.9837, 0.9677, 0.9153, 0.8848, 0.9451, 0.8984, 0.9556, 0.9315, 0.9432, 0.9, 0.8548, 0.872, 0.8707, 0.8866, 0.8689, 0.8613, 0.8617, 0.8651, 0.7884, 0.9412, 0.7898, 0.7821, 0.7951, 0.8512, 0.7695, 0.8949, 0.6003, 0.7521, 0.7189, 0.8026, 0.5105, 0.7266, 0.7174, 0.7511, 0.5936, 0.7712, 0.6107, 0.4837, 0.3346, 0.2875, 0.4297, 0.0965, 0.5283, 0.2414, 0.2074, -0.3332, 0.0945, 0.0653, 0.435, 0.4158, 0.2912, 0.2726, -0.1876, -0.3499, 0.4115, -0.4356, 1.4863, 1.4847, 1.4777, 1.4772, 1.4761, 1.4709, 1.4678, 1.4675, 1.4658, 1.4653, 1.4642, 1.4641, 1.4617, 1.4613, 1.4613, 1.459, 1.4584, 1.4582, 1.4558, 1.4558, 1.4553, 1.4528, 1.4527, 1.4513, 1.4506, 1.45, 1.4475, 1.4472, 1.4455, 1.4439, 1.4434, 1.4222, 1.4369, 1.4061, 1.4228, 1.3934, 1.3904, 1.4166, 1.4164, 1.2011, 1.3271, 1.3537, 1.3424, 1.4196, 1.1398, 1.2967, 1.3525, 1.2734, 1.1678, 1.2852, 1.0793, 1.3577, 1.1545, 1.0851, 1.2624, 1.1149, 1.0997, 1.1823, 0.9052, 0.978, 1.0777, 0.976, 1.0451, 1.0426, 0.813, 0.9942, 1.0919, 0.7613, 0.9249, 0.4555, 0.9601, 0.9124, 0.6428, 0.9058, 0.8182, 0.5112, 0.607, 0.9691, 0.4546, 0.7774, 0.4689, 0.3675, 0.0498, -0.2822, -0.5623, 0.084, 0.3726, -0.1036, 0.3922, -0.0958, 0.5529, 0.5784, -0.2221, -0.2007, -0.5301, -0.0336, -0.0057, 0.0248, -0.8796, 0.0443, 1.6317, 1.6024, 1.5949, 1.5833, 1.5813, 1.5786, 1.5762, 1.574, 1.5722, 1.5714, 1.5711, 1.5707, 1.5684, 1.5682, 1.5657, 1.5647, 1.564, 1.5627, 1.5623, 1.5614, 1.5603, 1.5584, 1.5564, 1.5556, 1.5553, 1.5502, 1.5495, 1.547, 1.5465, 1.5461, 1.542, 1.5369, 1.5375, 1.4935, 1.5136, 1.5327, 1.5294, 1.5215, 1.0896, 1.2326, 1.5185, 0.9598, 1.4126, 1.3034, 0.8129, 1.3629, 1.0826, 0.8729, 1.3937, 0.5279, 0.6144, 0.6338, 0.7185, 0.8708, 0.7114, 0.4365, 0.783, 0.5586, 0.7208, 0.6344, 0.6849, 0.921, 0.7392, 0.5012, 0.8655, 0.144, 0.5406, 0.0614, 0.6565, 0.5325, 0.7686, 0.1342, 0.3119, 0.3229, 0.3182, 0.3342, 0.3094, -0.5544, -0.3015, -0.0714, -0.1759, -0.3885, -0.152, 0.2777, 0.3628, 0.044, -0.7621, -0.3211, 1.631, 1.6279, 1.6263, 1.6223, 1.6211, 1.6091, 1.6085, 1.6071, 1.6059, 1.6021, 1.6007, 1.6003, 1.5996, 1.5986, 1.5905, 1.5895, 1.5889, 1.5834, 1.5824, 1.5821, 1.5794, 1.5793, 1.5776, 1.5775, 1.5763, 1.5744, 1.5733, 1.5724, 1.5696, 1.5689, 1.5672, 1.5651, 1.559, 1.5589, 1.5186, 1.5218, 1.4654, 1.5122, 1.5298, 1.4347, 1.5002, 0.9874, 1.3441, 1.4138, 1.4487, 1.4276, 1.0697, 1.2518, 1.1264, 0.4903, 1.0026, 0.326, 0.5769, 0.4035, 1.0403, 1.1331, 0.5816, 0.1173, 0.2491, 0.5192, 0.0917, 0.7583, 0.7211, 0.757, 0.1586, 0.2804, 0.2255, 0.1818, 0.1657, 0.342, -0.193, -0.4526, 0.1604, 0.1926, 0.1065, -0.7592, -0.4032, -0.2, 0.0826, -0.6233, 0.1374, 0.0975, -0.1979, 2.9858, 2.9763, 2.9574, 2.935, 2.9322, 2.9281, 2.9181, 2.9131, 2.9097, 2.9047, 2.9039, 2.9036, 2.9002, 2.8996, 2.8994, 2.8945, 2.8941, 2.8878, 2.8868, 2.8866, 2.8834, 2.883, 2.8822, 2.88, 2.8798, 2.8782, 2.8775, 2.876, 2.8759, 2.8751, 2.87, 2.8679, 2.8583, 2.8491, 2.7039, 2.7537, 2.7579, 2.8393, 2.2346, 2.5912, 2.5132, 2.7814, 2.7861, 2.362, 2.7116, 2.4468, 2.6543, 2.5038, 2.5543, 2.4388, 2.412, 2.2857, 2.3938, 2.3737, 2.56, 2.0413, 2.5167, 1.0389, 2.3227, 2.2693, 0.8632, 1.8069, 0.8577, 1.4206, 1.2504, 2.185, 1.1504, -0.0038, 1.1171, -0.3696, -0.0188, 0.5049, 0.5427, 0.8548, 0.3581, -0.4199, 0.2752, -0.7165, 0.5024, 0.1963, 0.1021, -0.5123, -0.1332, -0.0246, -0.252, -0.416, -0.6814, 0.1671, 0.0847, 0.0543, -2.0902, -0.8327]}, \"token.table\": {\"Topic\": [1, 2, 3, 4, 5, 1, 2, 3, 4, 5, 1, 2, 3, 4, 5, 1, 2, 3, 4, 5, 1, 2, 3, 4, 5, 1, 2, 3, 4, 5, 1, 2, 3, 4, 5, 1, 2, 3, 4, 5, 1, 2, 3, 4, 5, 3, 1, 2, 3, 4, 5, 2, 3, 1, 3, 1, 2, 3, 4, 5, 3, 4, 3, 4, 5, 2, 2, 3, 5, 1, 2, 4, 1, 2, 3, 4, 5, 1, 2, 3, 4, 4, 5, 1, 2, 3, 4, 5, 3, 1, 2, 3, 4, 5, 1, 2, 3, 4, 2, 1, 2, 3, 4, 1, 1, 2, 3, 4, 5, 5, 1, 4, 1, 2, 3, 4, 5, 1, 2, 3, 4, 5, 5, 3, 1, 2, 3, 4, 5, 2, 3, 4, 5, 1, 2, 3, 4, 5, 1, 2, 3, 4, 5, 1, 2, 1, 2, 4, 5, 1, 5, 1, 2, 4, 5, 1, 2, 3, 4, 5, 3, 1, 5, 1, 2, 3, 4, 5, 1, 1, 2, 3, 4, 5, 5, 1, 2, 3, 4, 5, 4, 1, 2, 3, 4, 2, 1, 2, 3, 4, 5, 1, 2, 3, 4, 5, 3, 3, 1, 4, 5, 1, 2, 3, 4, 5, 1, 2, 3, 4, 5, 1, 2, 3, 4, 5, 1, 4, 1, 2, 3, 4, 5, 1, 2, 3, 4, 5, 1, 2, 3, 4, 5, 3, 1, 2, 3, 4, 5, 3, 1, 2, 3, 4, 5, 1, 3, 4, 1, 2, 3, 4, 5, 1, 2, 3, 4, 5, 1, 2, 3, 4, 5, 5, 3, 4, 5, 1, 2, 3, 4, 5, 2, 5, 1, 2, 3, 4, 5, 1, 2, 3, 4, 5, 1, 2, 3, 4, 5, 1, 2, 3, 4, 5, 1, 2, 3, 4, 5, 1, 2, 3, 4, 5, 2, 3, 4, 1, 2, 3, 4, 5, 5, 1, 2, 3, 4, 5, 5, 1, 5, 1, 2, 3, 4, 5, 1, 2, 3, 4, 5, 3, 4, 5, 1, 2, 3, 4, 5, 1, 2, 1, 2, 3, 4, 5, 1, 2, 3, 4, 5, 1, 2, 3, 4, 5, 4, 2, 1, 2, 3, 4, 5, 2, 1, 2, 3, 4, 5, 2, 3, 5, 1, 2, 3, 4, 5, 1, 3, 1, 2, 3, 4, 5, 1, 2, 3, 4, 5, 5, 1, 3, 1, 3, 1, 2, 3, 4, 5, 1, 1, 2, 3, 4, 5, 1, 2, 3, 4, 5, 3, 2, 1, 2, 3, 4, 5, 1, 2, 4, 5, 3, 4, 1, 2, 3, 4, 5, 1, 2, 3, 4, 5, 2, 4, 1, 2, 3, 4, 5, 3, 4, 1, 2, 3, 4, 5, 5, 1, 2, 3, 4, 5, 1, 2, 3, 4, 5, 1, 2, 3, 4, 5, 4, 5, 1, 2, 3, 4, 5, 5, 1, 2, 3, 4, 5, 1, 2, 3, 4, 5, 5, 1, 2, 3, 4, 5, 1, 2, 3, 4, 5, 1, 2, 3, 4, 1, 2, 3, 4, 5, 2, 1, 2, 3, 4, 5, 1, 2, 3, 4, 5, 1, 2, 3, 4, 5, 1, 1, 2, 3, 4, 5, 1, 2, 3, 4, 5, 4, 1, 2, 3, 4, 5, 3, 3, 2, 1, 1, 2, 3, 4, 5, 2, 3, 4, 5, 5, 1, 2, 3, 4, 5, 1, 2, 3, 4, 5, 4, 4, 3, 2, 2, 5, 5, 1, 2, 3, 4, 5, 2, 3, 4, 5, 2, 3, 2, 4, 1, 2, 3, 4, 5, 1, 1, 1, 3, 4, 1, 5, 3, 4, 1, 2, 3, 4, 5, 3, 4, 1, 2, 3, 4, 5, 1, 2, 3, 4, 5, 2, 4, 1, 2, 3, 4, 5, 3, 1, 2, 3, 4, 5, 3, 3, 1, 2, 4, 1, 2, 3, 4, 5, 1, 2, 3, 4, 5, 1, 2, 3, 4, 5, 1, 2, 3, 4, 5, 1, 2, 3, 4, 5, 1, 2, 3, 4, 5, 1, 2, 3, 4, 5, 3, 2, 1, 1, 2, 3, 4, 5, 1, 2, 3, 4, 1, 3, 4, 5, 3, 2, 3, 4, 5, 5, 1, 2, 3, 4, 5, 1, 3, 1, 2, 5, 5, 1, 2, 3, 4, 5, 1, 2, 3, 4, 5, 2, 3, 1, 2, 3, 4, 5, 4, 1, 2, 3, 4, 5, 4, 1, 2, 3, 4, 5, 1, 2, 3, 4, 3, 1, 2, 3, 4, 5, 1, 2, 3, 4, 5, 1, 2, 3, 4, 5, 1, 3, 2, 2, 3, 1, 2, 3, 4, 5, 1, 2, 3, 4, 5, 1, 2, 3, 4, 5, 2, 3, 4, 1, 2, 1, 2, 3, 4, 5, 1, 2, 3, 4, 5, 1, 2, 3, 4, 1, 2, 3, 4, 1, 5, 1, 2, 3, 4, 5, 1, 3, 4, 3, 1, 3, 4, 5, 1, 2, 3, 4, 5, 2, 3, 5, 4, 1, 2, 3, 4, 5, 1, 2, 3, 4, 5, 1, 2, 3, 1, 2, 3, 4, 1, 2, 3, 4, 5, 1, 2, 3, 4, 5, 1, 2, 3, 4, 5, 1, 3, 5, 1, 2, 3, 4, 5, 2, 3, 4, 5, 2, 3, 4, 5, 1, 2, 3, 4, 5, 1, 2, 4, 1, 2, 3, 1, 1, 2, 3, 4, 5, 5, 2, 1, 2, 3, 4, 5, 2, 3, 4, 1, 2, 3, 4, 5, 1, 2, 3, 4, 5, 5, 1, 3, 4, 1, 2, 3, 4, 5, 1, 2, 3, 4, 5, 1, 2, 3, 4, 5, 4, 1, 2, 3, 4, 5, 2, 1, 2, 3, 4, 5, 3, 5, 1, 2, 3, 4, 5, 1, 2, 3, 4, 5, 2, 2, 3, 4, 1, 2, 3, 4, 5, 2, 1, 2, 3, 4, 5, 1, 2, 3, 4, 5, 2, 4, 1, 2, 3, 4, 5, 1, 2, 3, 4, 5, 1, 2, 3, 4, 5, 4, 1, 2, 3, 4, 5, 1, 2, 3, 4, 5, 3, 4, 5, 1, 2, 3, 4, 5, 5, 1, 2, 3, 4, 5, 1, 2, 3, 4, 5, 1, 2, 3, 4, 5, 1, 2, 3, 4, 5, 1, 2, 3, 4, 5, 2, 1, 2, 3, 4, 1, 2, 4, 5, 2, 1, 2, 3, 4, 5, 5, 1, 2, 3, 4, 5, 1, 2, 3, 4, 5, 1, 2, 3, 4, 5, 1, 2, 3, 4, 5, 1, 2, 3, 4, 5, 2, 4, 1, 3, 2, 3, 4, 5, 1, 1, 2, 3, 4, 5, 1, 2, 3, 4, 5, 2, 4, 5, 1, 2, 3, 4, 5, 1, 2, 3, 4, 5, 1, 3, 1, 2, 3, 4, 5, 1, 2, 3, 4, 5, 1, 2, 3, 4, 5, 2, 3, 4, 5, 1, 2, 3, 4, 5, 2, 5, 3, 1, 2, 3, 4, 5, 2, 3, 1, 2, 3, 4, 5, 1, 2, 3, 4, 5, 1, 2, 3, 4, 5, 1, 2, 3, 4, 5, 1, 1, 4, 4, 1, 3, 1, 1, 2, 3, 4, 5, 1, 2, 3, 4, 5, 2, 1, 2, 3, 4, 5, 1, 2, 3, 4, 5, 2, 1, 2, 3, 4, 5, 1, 2, 3, 4, 5, 5, 3, 4, 2, 1, 2, 3, 4, 5, 1, 2, 2, 4, 1, 1, 1, 2], \"Freq\": [0.37473726983319383, 0.34394112316667425, 0.16526249003221405, 0.0911687906266273, 0.02439298745862938, 0.3866535491390323, 0.1645461560093375, 0.32633990359088244, 0.0884360794842912, 0.03398626058665589, 0.2515983475987701, 0.12435734945784482, 0.11058792699613562, 0.5074500770050838, 0.006055662234468965, 0.29258574389446806, 0.060594680688203444, 0.08656382955457635, 0.5505459559671056, 0.010387659546549162, 0.26995733841872094, 0.06998893959003875, 0.12498024926792635, 0.5149186269838566, 0.019996839882868215, 0.24518321942389593, 0.21676946315421078, 0.3629628220256553, 0.15490080030892864, 0.01970631483220098, 0.1907628820724665, 0.21955727936642372, 0.4211180604241242, 0.15476988545502, 0.01259754881610628, 0.07833386989496728, 0.2121542309655364, 0.5679205567385128, 0.13708427231619275, 0.003263911245623637, 0.17820054572024754, 0.26305794844417496, 0.3950583526813954, 0.1442575846306766, 0.01980006063558306, 0.875962705247104, 0.15859513654039298, 0.2114601820538573, 0.45816372778335746, 0.15565818956742272, 0.0146847348648512, 0.9293031802120636, 0.8967921307699156, 0.04180451502579617, 0.9196993305675158, 0.11590076901488601, 0.22828939351416944, 0.4846759431531597, 0.1580465032021173, 0.014048578062410427, 0.857317840464779, 0.06123698860462708, 0.9108680184650501, 0.08858014290563658, 0.8858014290563658, 0.8901213669083794, 0.04236641340214018, 0.9320610948470839, 0.9315055504318797, 0.0422077170691993, 0.9285697755223845, 0.0422077170691993, 0.5298665140631416, 0.08339825730166135, 0.07980350483176216, 0.19124083139863723, 0.11575102953075411, 0.9350049460302635, 0.011402499341832482, 0.022804998683664965, 0.022804998683664965, 0.08764710016433493, 0.8764710016433492, 0.02161195283560738, 0.8860900662599026, 0.02161195283560738, 0.03241792925341107, 0.03241792925341107, 0.9378895974485317, 0.010087776756703984, 0.617876326348119, 0.08322415824280786, 0.27993580499853554, 0.010087776756703984, 0.02023134022706281, 0.849716289536638, 0.060694020681188426, 0.060694020681188426, 0.9262826995852845, 0.954058593669194, 0.017346519884894437, 0.017346519884894437, 0.017346519884894437, 0.9618563326523453, 0.12987776600836493, 0.3229764551530768, 0.33672013409576096, 0.19928334466891973, 0.010994943154147296, 0.9801511057169302, 0.972565491957718, 0.9148695637442052, 0.21018258729654032, 0.2873590060694887, 0.2766856715583363, 0.19786720132213365, 0.027914874875321762, 0.15201695671454563, 0.013819723337685967, 0.027639446675371934, 0.7877242302481001, 0.013819723337685967, 0.9099841751664225, 0.9346180470901443, 0.0950632609543721, 0.015843876825728687, 0.04753163047718605, 0.808037718112163, 0.03168775365145737, 0.05956664938087982, 0.20848327283307938, 0.11913329876175964, 0.5956664938087982, 0.8620355699424921, 0.013935909906691558, 0.08759714798491837, 0.027871819813383117, 0.007963377089538034, 0.014761469741107428, 0.029522939482214856, 0.11809175792885943, 0.3985596830099006, 0.44284409223322285, 0.04139392813329682, 0.9520603470658269, 0.09921374190021949, 0.033071247300073166, 0.2976412257006585, 0.5622112041012438, 0.12873875566740303, 0.8368019118381197, 0.9798829604355483, 0.05179590107374821, 0.9323262193274677, 0.9779301032671786, 0.253403101177337, 0.14840181615910344, 0.39620484880213463, 0.17780217596420883, 0.023800291270799606, 0.908035929881714, 0.17408372659631416, 0.8123907241161327, 0.05667993443134838, 0.5425079438429059, 0.17813693678423778, 0.19230692039207486, 0.030364250588222348, 0.9762862864846844, 0.04193227072562225, 0.6421627745409579, 0.1689271477803639, 0.1234006824211169, 0.02396129755749843, 0.841049168605173, 0.033014217837398684, 0.5799019133177855, 0.13779847445175103, 0.2196163186574782, 0.028708015510781462, 0.9578447569679204, 0.9398111708110813, 0.015158244690501312, 0.030316489381002624, 0.015158244690501312, 0.9619956154380065, 0.013605372507488415, 0.884349212986747, 0.013605372507488415, 0.06802686253744207, 0.02721074501497683, 0.15500781987359297, 0.7130359714185276, 0.015500781987359295, 0.06200312794943718, 0.05166927329119765, 0.9551487433622928, 0.9106789260916826, 0.03197652041638625, 0.0639530408327725, 0.8633660512424289, 0.1457905871433543, 0.3568301083928252, 0.33032272891221537, 0.12132223685356057, 0.04587815679336324, 0.7450748953492601, 0.022174848075870834, 0.14524525489695397, 0.07650322586175438, 0.011087424037935417, 0.7724956022979126, 0.02365472098025104, 0.16423134852002866, 0.03717170439753735, 0.0033792458543215774, 0.9411023199416473, 0.9786576304576882, 0.019334418745392986, 0.10633930309966141, 0.04350244217713422, 0.8168791919928536, 0.019334418745392986, 0.021643038284621767, 0.833256973957938, 0.07575063399617618, 0.03246455742693265, 0.03246455742693265, 0.17006075587710381, 0.1348757719025306, 0.0820982959406708, 0.58641639957622, 0.023456655983048802, 0.9092386909231053, 0.17703346747209356, 0.080320739871598, 0.17211587115342428, 0.11146551655650334, 0.46061485518202117, 0.8805614804863908, 0.3678505428169459, 0.06912627650251332, 0.41475765901507994, 0.09134543680689261, 0.05678229855563594, 0.02813934821889636, 0.02813934821889636, 0.92859849122358, 0.03883449792109619, 0.21636363127467875, 0.06102563959029401, 0.6601864646586352, 0.02219114166919782, 0.2909234560036074, 0.17855070270337367, 0.35580379855570543, 0.12638690729148688, 0.04827097485876091, 0.03126247565762371, 0.702203299386625, 0.07695378623415068, 0.12985951427012926, 0.06012014549543022, 0.9691953100149154, 0.9154837922103234, 0.06539169944359452, 0.9389552398090363, 0.02274296028785979, 0.8263275571255724, 0.06822888086357938, 0.08339085438881924, 0.00758098676261993, 0.27117803449265476, 0.697314945838255, 0.8304540866164252, 0.011465835515414155, 0.06388108358587885, 0.07207096609688897, 0.021293694528626287, 0.8606916263579933, 0.009304774339005334, 0.09304774339005334, 0.023261935847513335, 0.009304774339005334, 0.35604819692570877, 0.01873937878556362, 0.09369689392781809, 0.03747875757112724, 0.5059632272102177, 0.11331707980821078, 0.12950523406652661, 0.06475261703326331, 0.032376308516631654, 0.6637143245909488, 0.9425973149538487, 0.011425421999440591, 0.028563554998601477, 0.017138132999160886, 0.0057127109997202954, 0.11757044068022253, 0.4004466889333895, 0.19712938550142575, 0.2660804710131352, 0.018563753791614082, 0.06087704711087067, 0.8522786595521894, 0.06087704711087067, 0.14931048140735284, 0.3639843495252207, 0.21146978053401905, 0.22172286080233514, 0.0538286714086594, 0.9259724244988176, 0.9316118072286853, 0.02500971294573652, 0.01875728470930239, 0.01875728470930239, 0.00625242823643413, 0.9380740359161741, 0.08892019139515298, 0.8892019139515298, 0.5321987634042565, 0.11648387088926715, 0.10392872312874735, 0.16600695372242863, 0.08160846044337879, 0.8505135164894148, 0.01969131917072554, 0.06589018337896624, 0.03938263834145108, 0.024992828178228572, 0.11975768118806158, 0.05987884059403079, 0.7784249277224004, 0.018797956745277566, 0.07519182698111027, 0.09398978372638782, 0.018797956745277566, 0.7707162265563802, 0.9674535612284519, 0.027641530320812912, 0.01842825582349229, 0.7801294965278404, 0.06757027135280506, 0.04914201552931278, 0.08599852717629736, 0.8399794716328132, 0.030512074824268855, 0.0646138055102164, 0.04487069827098361, 0.01974310723923279, 0.269436560125962, 0.0538873120251924, 0.08981218670865401, 0.0538873120251924, 0.5209106829101933, 0.9078858105717784, 0.9632892674681941, 0.757560425394794, 0.010806853429312325, 0.2096529565286591, 0.01729096548689972, 0.005403426714656163, 0.9478646336603243, 0.05436298679995508, 0.07852431426660178, 0.20537128346649697, 0.13288730106655686, 0.5194685405329041, 0.01131132635888452, 0.3732737698431891, 0.610811623379764, 0.01654469416258615, 0.12684265524649382, 0.027574490270976918, 0.08823836886712613, 0.733481441207986, 0.060014080518806266, 0.9002112077820941, 0.4032892066465183, 0.07867328987304663, 0.2544478474272409, 0.19349376698506063, 0.07016806934623078, 0.03158873516203589, 0.9160733196990409, 0.03158873516203589, 0.03158873516203589, 0.03158873516203589, 0.9331255972488126, 0.9722394050777683, 0.014957529308888743, 0.048430072876945465, 0.9201713846619639, 0.5955117550272454, 0.041621789329861235, 0.2644584460497337, 0.08260324343926306, 0.015368045291025687, 0.9324773576482606, 0.015331564992898353, 0.8432360746094094, 0.09198938995739012, 0.015331564992898353, 0.030663129985796705, 0.007230042359822063, 0.795304659580427, 0.08676050831786476, 0.09399055067768682, 0.014460084719644125, 0.9884850462288721, 0.9579083045326969, 0.23002780979470236, 0.023002780979470238, 0.06900834293841071, 0.046005561958940476, 0.5980723054662261, 0.9415275418205921, 0.027290653386104115, 0.013645326693052058, 0.013645326693052058, 0.9485238501276274, 0.9503516006289137, 0.017265739826744526, 0.051797219480233574, 0.10359443896046715, 0.362580536361635, 0.48344071514884673, 0.7443509509231014, 0.05513710747578529, 0.05666869379455711, 0.11640056022665785, 0.027568553737892645, 0.06647830740016988, 0.9306963036023783, 0.2512190178493728, 0.23808910402449268, 0.12342118995387304, 0.3378764490935815, 0.04901834494621908, 0.03840983842953314, 0.9218361223087953, 0.30252380537865836, 0.3168702951182648, 0.12350456384530795, 0.20521717931871875, 0.05177211514727555, 0.9111453579529296, 0.029047209832122133, 0.6548825489423898, 0.13731408284275917, 0.15315801547846214, 0.023765898953554472, 0.8259657442272774, 0.010165732236643415, 0.0800551413635669, 0.06099439341986049, 0.022872897532447683, 0.10256492764357387, 0.06837661842904925, 0.706558390433509, 0.11396103071508208, 0.011396103071508209, 0.07944209441674976, 0.8738630385842474, 0.6399646490787082, 0.04179682859047632, 0.2046467362118605, 0.1013375938467209, 0.012223600814195906, 0.9408816856199994, 0.77353709870774, 0.038727812583523216, 0.0835705429433922, 0.09376207257063515, 0.009172376664518657, 0.4534426240750745, 0.16179499450151968, 0.1097150606490992, 0.21665252482606928, 0.05832952591471096, 0.9400326685379582, 0.7259460611630674, 0.030422595048741265, 0.1479167552369834, 0.09126778514622379, 0.004196220006722933, 0.17002246060999696, 0.19835953737832976, 0.07691492265690338, 0.5343563047742761, 0.024288922944285276, 0.010310951728316626, 0.020621903456633252, 0.03093285518494988, 0.938296607276813, 0.2279274044969361, 0.21084193717419925, 0.29772335611322276, 0.24246822775032914, 0.0207206731360851, 0.9247668250236641, 0.22715758563113017, 0.2373780285259996, 0.22023405979912183, 0.28287548399348283, 0.03230978721603883, 0.5849470266383295, 0.12838047900430705, 0.1423884209580144, 0.12022200731698299, 0.02401361477778405, 0.4905211987044986, 0.1747281394078116, 0.08976858538382981, 0.21251338580661752, 0.032289210558979604, 0.969478035070226, 0.07006088254001423, 0.49489814900605794, 0.14608439338130627, 0.26384630233154294, 0.02683182735575013, 0.008348410181358953, 0.15027138326446116, 0.04174205090679477, 0.7930989672291006, 0.008348410181358953, 0.9650169552892639, 0.019532989893514752, 0.5688983306486172, 0.07080708836399098, 0.3345024519264401, 0.002441623736689344, 0.9248348478728224, 0.9596852594727411, 0.9343825535929902, 0.9683999435037776, 0.37147251868395303, 0.23149736671608667, 0.05922025660178961, 0.1884280891875124, 0.15074247135000993, 0.9193467724541468, 0.9127786233218196, 0.04346564872961046, 0.04346564872961046, 0.9355739857033026, 0.08304876922752889, 0.6450764865580152, 0.05987236851286967, 0.038627334524432046, 0.1718916386337226, 0.13978906392326926, 0.2386399019832954, 0.3634515662005001, 0.23764140866955777, 0.021966852902228027, 0.9528646059634002, 0.9184589714366265, 0.8848526729833381, 0.9465330539842814, 0.9323127725221277, 0.04439584631057751, 0.8386681005665415, 0.018911682595579724, 0.018911682595579724, 0.03782336519115945, 0.37823365191159447, 0.5673504778673918, 0.06422295856686022, 0.021407652855620074, 0.8991214199360431, 0.021407652855620074, 0.97145854253792, 0.0388583417015168, 0.9646519607747507, 0.037101998491336566, 0.09249895406532654, 0.5740376266995265, 0.14691010351551864, 0.13058675868046102, 0.054411149450192084, 0.9475223070570322, 0.9445004557061465, 0.9550410564833336, 0.03914405204657968, 0.9394572491179125, 0.14877987689173164, 0.818289322904524, 0.8959572003890277, 0.05973048002593518, 0.060602522537229295, 0.5889807659086972, 0.08143463965940186, 0.23294094600247509, 0.03787657658576831, 0.9391595079400109, 0.9814906957538353, 0.12540829168739923, 0.34350966853505005, 0.26596251232255197, 0.21022549379481897, 0.054525344211912706, 0.8912293114105097, 0.0484363756201364, 0.009687275124027278, 0.043592738058122756, 0.004843637562013639, 0.02590855588941447, 0.9586165679083354, 0.06620937198983512, 0.01655234299745878, 0.09931405798475268, 0.04965702899237634, 0.7779601208805627, 0.9617349194557137, 0.149024774699466, 0.3788930546280541, 0.2834392773695726, 0.17532326435231294, 0.012662235758778157, 0.9244826091484761, 0.861771543569069, 0.9511679279515182, 0.020237615488330175, 0.020237615488330175, 0.38587228951600216, 0.19822206653219288, 0.17919274814510236, 0.20720813354831896, 0.029601161935474136, 0.11792286498006568, 0.32681479723046775, 0.37061471850877786, 0.16846123568580812, 0.01516151121172273, 0.5426063076839837, 0.11996632469760249, 0.08894055106891219, 0.18891248831691426, 0.059983162348801244, 0.24556496800589778, 0.18857731720284135, 0.3916605818828243, 0.1264089708722343, 0.04766239885346539, 0.22586173621389746, 0.25507768219181454, 0.32811754713660723, 0.1573166321887843, 0.033710706897596636, 0.2366266680196715, 0.22373850527350203, 0.15517347946388044, 0.33663881092994663, 0.04794396541575044, 0.5695486979932591, 0.08496763792906431, 0.08098477990113942, 0.22171243022115217, 0.042926358745412695, 0.8861874005340923, 0.9175067420678107, 0.975218329919815, 0.055856251791240846, 0.5502875176470394, 0.24618125789472817, 0.14067500451127324, 0.008275000265369014, 0.015596810921098204, 0.031193621842196408, 0.04679043276329461, 0.9046150334236958, 0.9120976295905192, 0.05857507712966637, 0.008367868161380911, 0.016735736322761822, 0.9603470870564906, 0.0836192795830799, 0.7525735162477191, 0.1463337392703898, 0.020904819895769974, 0.9075755861396728, 0.6466883450092602, 0.029532605919626635, 0.21581519710496389, 0.08329709361945975, 0.024231881780206473, 0.04175024512267604, 0.918505392698873, 0.9584984737304282, 0.021299966082898403, 0.021299966082898403, 0.8569399407335628, 0.08239426567551004, 0.13732377612585006, 0.6591541254040804, 0.11901393930907006, 0.004577459204195002, 0.07446227524487392, 0.2582003570179394, 0.5724891811034463, 0.0880008707439419, 0.006769297749533993, 0.06048741644287166, 0.9073112466430748, 0.08839495174512324, 0.5404145913508671, 0.212951474658706, 0.1426373084978125, 0.016071809408204227, 0.8798664415273378, 0.09172648730698467, 0.34453363525062536, 0.11857326407976068, 0.40270165159164006, 0.040270165159164005, 0.9453168341506736, 0.24686562409651028, 0.04488465892663823, 0.06358660014607083, 0.583500566046297, 0.05610582365829779, 0.008468315300779454, 0.019759402368485394, 0.050809891804676724, 0.9202235960180339, 0.8914805144677475, 0.12591711950217982, 0.41516673115861574, 0.23240702628116616, 0.18923544245184737, 0.03741537265207629, 0.2271604391755826, 0.2819617902607426, 0.11844162976470066, 0.3173175006382652, 0.05568524384459807, 0.46958962681647426, 0.1371268874493876, 0.12761196056514437, 0.22332093098900266, 0.04253732018838146, 0.9658789936117811, 0.024146974840294527, 0.9507204060576147, 0.9348132041208649, 0.04249150927822113, 0.014654029947812298, 0.6652929596306784, 0.14947110546768544, 0.05568531380168673, 0.11723223958249838, 0.44686430120431975, 0.05503396140553521, 0.4339657164998974, 0.052740879680304574, 0.011465408626153167, 0.1736970897661956, 0.24426153248371257, 0.1592223322856793, 0.3890091072888756, 0.034377549016226215, 0.9091220175879747, 0.06493728697056962, 0.03246864348528481, 0.04474807756397087, 0.9397096288433883, 0.33650602611506053, 0.037389558457228945, 0.049852744609638594, 0.08724230306686753, 0.4860642599439763, 0.0407898077192093, 0.36128115408442524, 0.19229480781912955, 0.11071519238071095, 0.29718288481138205, 0.021917604317215473, 0.021917604317215473, 0.043835208634430946, 0.8986217770058345, 0.00726064075605454, 0.0726064075605454, 0.050824485292381774, 0.8640162499704902, 0.08766495492823034, 0.8766495492823035, 0.18301773843324767, 0.2523426393549324, 0.26898061557613673, 0.2502628923272819, 0.04506118559909507, 0.03221446646785986, 0.03221446646785986, 0.9342195275679359, 0.8584303089778605, 0.9030169623064496, 0.0574647157831377, 0.032836980447507255, 0.008209245111876814, 0.033144452007738176, 0.6195462952215675, 0.19631713881506457, 0.13767695449368167, 0.012747866156822376, 0.04616076154602594, 0.2308038077301297, 0.7385721847364151, 0.9088561748398392, 0.7194696321734073, 0.029092084660199982, 0.14322257063483068, 0.10406014897686917, 0.003356778999253844, 0.46792216086297067, 0.09044984465430304, 0.13048192621320126, 0.26190800529335767, 0.049095949081667624, 0.044661787517279124, 0.044661787517279124, 0.8932357503455826, 0.034726163914954825, 0.02315077594330322, 0.16205543160312252, 0.7755509941006579, 0.01873423361458355, 0.6519513297875075, 0.05620270084375065, 0.20232972303750232, 0.07119008773541749, 0.8520758205399114, 0.012679699710415347, 0.10904541750957199, 0.020287519536664557, 0.0025359399420830696, 0.7824584626888121, 0.0224629223738415, 0.12167416285830811, 0.06177303652806412, 0.009359550989100624, 0.06440046894369603, 0.9016065652117444, 0.06440046894369603, 0.46104942937363375, 0.22804595431384037, 0.12614136120258318, 0.1536831431245446, 0.030846795752596762, 0.15722431175404986, 0.2620405195900831, 0.03493873594534441, 0.5415504071528384, 0.05605327785142043, 0.8688258066970167, 0.05605327785142043, 0.028026638925710216, 0.03974851440744457, 0.6922866259296595, 0.04968564300930571, 0.19211781963598207, 0.029811385805583426, 0.9639647988036613, 0.03109563867108585, 0.9129369403317438, 0.9004969923074156, 0.005809658014886553, 0.0871448702232983, 0.9577968750998214, 0.3459648607370349, 0.20658842399839303, 0.10329421199919651, 0.20446594019019038, 0.13937643673864186, 0.8415632638331775, 0.9531080087968555, 0.027586041325954835, 0.7907998513440386, 0.0827581239778645, 0.04597673554325806, 0.05517208265190967, 0.8884469975306406, 0.031730249911808596, 0.06346049982361719, 0.6358344441073731, 0.031762846890014095, 0.26276536972648024, 0.06468070639421053, 0.0051975567638204885, 0.8386558786636965, 0.02159628872095356, 0.11518020651175231, 0.02159628872095356, 0.00359938145349226, 0.885347727687975, 0.025479434291124564, 0.025479434291124564, 0.9682185030627334, 0.8307159901387218, 0.042939593923671505, 0.09413680206343368, 0.026424365491490156, 0.006606091372872539, 0.06920598481427019, 0.6819321430479306, 0.08102164075816998, 0.08355356703186279, 0.08439754245642705, 0.0373295169299796, 0.6403447904142655, 0.1493180677199184, 0.1608040729291429, 0.011486005209224494, 0.9200504056459936, 0.7769933950558012, 0.027570733372947784, 0.12532151533158084, 0.06140754251247461, 0.008772506073210659, 0.9218245232380793, 0.008844886270963834, 0.21669971363861396, 0.04864687449030109, 0.7252806742190344, 0.004422443135481917, 0.08841544559265081, 0.8841544559265082, 0.767267093229384, 0.026026699227591047, 0.1613655352110645, 0.040601650795042035, 0.005205339845518209, 0.09737835133176626, 0.4920852687298588, 0.26227235958689044, 0.13503131384671588, 0.013632969186447276, 0.9239456017638714, 0.9052494212228034, 0.03620997684891213, 0.07241995369782427, 0.3568400479858811, 0.08326267786337226, 0.402719482726923, 0.1325405892518987, 0.023789336532392073, 0.9689194157224069, 0.4320421111694565, 0.2294167020177367, 0.1615280861145289, 0.15580567404605927, 0.02132899043702314, 0.033030702715125135, 0.016515351357562567, 0.08257675678781283, 0.8587982705932534, 0.016515351357562567, 0.9135349625250033, 0.050751942362500184, 0.014183328673780287, 0.8793663777743778, 0.014183328673780287, 0.08509997204268172, 0.014183328673780287, 0.074051493666375, 0.31329478089620194, 0.05316517493996154, 0.4044350807932789, 0.15569801232417307, 0.8233058044106712, 0.018471604586136853, 0.12402363079263316, 0.02638800655162408, 0.007916401965487223, 0.9528988938792768, 0.2453841992050657, 0.12936014849397487, 0.3814123965904826, 0.2280472720873165, 0.014669707561172406, 0.22413340240750518, 0.06955864212646713, 0.2627770924777647, 0.06955864212646713, 0.37870816268854324, 0.0706389019583689, 0.0706389019583689, 0.8476668235004269, 0.7585318775482365, 0.012794513597199169, 0.16998425207707468, 0.049350266732053935, 0.007311150626970954, 0.8928962002748467, 0.8626873466057668, 0.047510317639158174, 0.06251357584099759, 0.022504887302759135, 0.005001086067279808, 0.024312846696317704, 0.04862569339263541, 0.024312846696317704, 0.8752624810674373, 0.024312846696317704, 0.29295247035882527, 0.2073011124996772, 0.14647623517941263, 0.2370928891463374, 0.11668445853275243, 0.09539721061607186, 0.5784402294498325, 0.11053962499957533, 0.09842569349277255, 0.11508234931462637, 0.04698569393652399, 0.7247543289708825, 0.07400246795002528, 0.14330636650639816, 0.010571781135717898, 0.9344832448983283, 0.01695993754105347, 0.08479968770526736, 0.03391987508210694, 0.864956814593727, 0.032179216288017926, 0.19307529772810758, 0.1287168651520717, 0.6435843257603586, 0.918648781850608, 0.012579548189365075, 0.8428297286874601, 0.037738644568095225, 0.037738644568095225, 0.06289774094682538, 0.9351425124354383, 0.8771934755865841, 0.028899785048395212, 0.06799949423151815, 0.02379982298103135, 0.0016999873557879538, 0.3661593554794039, 0.059352513980452014, 0.4611233778481272, 0.09039844437022691, 0.023741005592180803, 0.8349024434400292, 0.00832820392458882, 0.13325126279342112, 0.022902560792619254, 0.002082050981147205, 0.9197383429348094, 0.009290286292270801, 0.05574171775362481, 0.009290286292270801, 0.009290286292270801, 0.12075982542375761, 0.34839903656739263, 0.31786206921885624, 0.1859978920319945, 0.02706685742256636, 0.041872320490947135, 0.921191050800837, 0.9518905997948605, 0.02163387726806501, 0.04849677047328389, 0.024248385236641946, 0.897190253755752, 0.024248385236641946, 0.979282003639161, 0.7208568245406646, 0.02735394200265915, 0.16573270742787602, 0.059535050241081675, 0.026549414296698586, 0.836872497209751, 0.019925535647851215, 0.067022256270045, 0.07064508093329067, 0.007245649326491351, 0.055754680839697306, 0.8920748934351569, 0.055754680839697306, 0.4728525501053742, 0.03261052069692236, 0.10326664887358747, 0.18751049400730355, 0.20381575435576474, 0.1026036101203402, 0.5393102256950382, 0.20777231049368888, 0.132102148029938, 0.01859690433431166, 0.04476374005878898, 0.8952748011757795, 0.9745874142954566, 0.004043931179649197, 0.012131793538947592, 0.008087862359298394, 0.004043931179649197, 0.22653179520913858, 0.4747858173561397, 0.06361509317516904, 0.17532940314131956, 0.06051191789833153, 0.06629257830847796, 0.9015790649953002, 0.013258515661695591, 0.013258515661695591, 0.013258515661695591, 0.10595542525185875, 0.768176833075976, 0.10595542525185875, 0.026488856312964687, 0.34596598288899794, 0.1653411725453444, 0.22994927778365123, 0.22925456697463717, 0.02987256478760424, 0.9617916932019289, 0.9314324975657746, 0.9447956454116685, 0.24748918338804243, 0.19666762232937085, 0.22243297188934855, 0.3087114360122096, 0.02481983214493262, 0.9648888898813999, 0.03216296299604666, 0.0921728227754247, 0.16591108099576446, 0.0921728227754247, 0.11060738733050964, 0.5346023720974632, 0.02815000316714446, 0.02815000316714446, 0.16890001900286677, 0.1407500158357223, 0.6193000696771781, 0.5395210904849103, 0.1277610570905779, 0.13969055338518005, 0.1546986293687118, 0.03809742365050365, 0.8997542315158984, 0.02108798980115387, 0.07029329933717957, 0.007029329933717956, 0.8401505423633628, 0.9725097365481791, 0.049415413282198235, 0.9388928523617665, 0.9068794196733659, 0.9599292823305822, 0.026664702286960617, 0.9824044329799869, 0.16662240357523364, 0.17397339196825864, 0.502930122556128, 0.13476812053879192, 0.02205296517907504, 0.3940373032205958, 0.06110738926950416, 0.4593589951983416, 0.06953599468598749, 0.016857210832966665, 0.9518411531768717, 0.23395353764430699, 0.315304288144126, 0.2014132374443794, 0.22666002208225425, 0.02300262600339709, 0.025745401481710242, 0.7723620444513073, 0.06865440395122731, 0.12014520691464779, 0.008581800493903413, 0.9544826526632874, 0.10497280717561211, 0.4673630077436488, 0.15445043603545477, 0.20860838113879604, 0.06485581080276671, 0.04425521494491031, 0.022127607472455155, 0.08851042988982062, 0.8408490839532959, 0.8598063592201538, 0.8706542460339779, 0.778651129493905, 0.18168526354857784, 0.975457968480533, 0.12854821612519607, 0.38872980556259296, 0.12340628748018823, 0.2776641468304235, 0.08124247259112392, 0.9538784628480237, 0.028905407965091626, 0.06161211083666798, 0.9241816625500198, 0.9715030756126812, 0.9888481690732905, 0.970015729920113, 0.017017819823159877], \"Term\": [\"\\n\", \"\\n\", \"\\n\", \"\\n\", \"\\n\", \"\\n\\n\", \"\\n\\n\", \"\\n\\n\", \"\\n\\n\", \"\\n\\n\", \" \", \" \", \" \", \" \", \" \", \" \\n\\n\", \" \\n\\n\", \" \\n\\n\", \" \\n\\n\", \" \\n\\n\", \"  \", \"  \", \"  \", \"  \", \"  \", \"$\", \"$\", \"$\", \"$\", \"$\", \"10\", \"10\", \"10\", \"10\", \"10\", \"15\", \"15\", \"15\", \"15\", \"15\", \"2\", \"2\", \"2\", \"2\", \"2\", \"2.00\", \"20\", \"20\", \"20\", \"20\", \"20\", \"2006\", \"2012\", \"3/5\", \"3/5\", \"30\", \"30\", \"30\", \"30\", \"30\", \"6.99\", \"6.99\", \"600\", \"accommodation\", \"accommodation\", \"acura\", \"airline\", \"airline\", \"album\", \"alex\", \"alex\", \"alex\", \"amazing\", \"amazing\", \"amazing\", \"amazing\", \"amazing\", \"ambience\", \"ambience\", \"ambience\", \"ambience\", \"angle\", \"angle\", \"apartment\", \"apartment\", \"apartment\", \"apartment\", \"apartment\", \"appliance\", \"appointment\", \"appointment\", \"appointment\", \"appointment\", \"appointment\", \"arm\", \"arm\", \"arm\", \"arm\", \"arrogant\", \"asada\", \"asada\", \"asada\", \"asada\", \"asia\", \"ask\", \"ask\", \"ask\", \"ask\", \"ask\", \"associate\", \"avec\", \"baba\", \"bad\", \"bad\", \"bad\", \"bad\", \"bad\", \"bagel\", \"bagel\", \"bagel\", \"bagel\", \"bagel\", \"baker\", \"baklava\", \"band\", \"band\", \"band\", \"band\", \"band\", \"barista\", \"barista\", \"barista\", \"barista\", \"beef\", \"beef\", \"beef\", \"beef\", \"beef\", \"bike\", \"bike\", \"bike\", \"bike\", \"bike\", \"blind\", \"blind\", \"boba\", \"boba\", \"boba\", \"boba\", \"bouchon\", \"bouchon\", \"braise\", \"brake\", \"brake\", \"brewery\", \"bring\", \"bring\", \"bring\", \"bring\", \"bring\", \"burro\", \"bust\", \"bust\", \"buy\", \"buy\", \"buy\", \"buy\", \"buy\", \"cajun\", \"call\", \"call\", \"call\", \"call\", \"call\", \"camper\", \"car\", \"car\", \"car\", \"car\", \"car\", \"carl\", \"carne\", \"carne\", \"carne\", \"carne\", \"carolina\", \"carpet\", \"carpet\", \"carpet\", \"carpet\", \"carpet\", \"casino\", \"casino\", \"casino\", \"casino\", \"casino\", \"certificate\", \"cha\", \"chai\", \"chai\", \"chai\", \"check\", \"check\", \"check\", \"check\", \"check\", \"cheese\", \"cheese\", \"cheese\", \"cheese\", \"cheese\", \"chicken\", \"chicken\", \"chicken\", \"chicken\", \"chicken\", \"chive\", \"cirque\", \"class\", \"class\", \"class\", \"class\", \"class\", \"cleaning\", \"cleaning\", \"cleaning\", \"cleaning\", \"cleaning\", \"club\", \"club\", \"club\", \"club\", \"club\", \"coca\", \"coffee\", \"coffee\", \"coffee\", \"coffee\", \"coffee\", \"cola\", \"cold\", \"cold\", \"cold\", \"cold\", \"cold\", \"collection\", \"collection\", \"collection\", \"color\", \"color\", \"color\", \"color\", \"color\", \"come\", \"come\", \"come\", \"come\", \"come\", \"company\", \"company\", \"company\", \"company\", \"company\", \"concoction\", \"coney\", \"coney\", \"consult\", \"contact\", \"contact\", \"contact\", \"contact\", \"contact\", \"cox\", \"cox\", \"cream\", \"cream\", \"cream\", \"cream\", \"cream\", \"crispy\", \"crispy\", \"crispy\", \"crispy\", \"crispy\", \"croissant\", \"croissant\", \"croissant\", \"croissant\", \"croissant\", \"cupcake\", \"cupcake\", \"cupcake\", \"cupcake\", \"cupcake\", \"curry\", \"curry\", \"curry\", \"curry\", \"curry\", \"customer\", \"customer\", \"customer\", \"customer\", \"customer\", \"cuz\", \"cuz\", \"cuz\", \"day\", \"day\", \"day\", \"day\", \"day\", \"daytime\", \"de\", \"de\", \"de\", \"de\", \"de\", \"debbie\", \"dedicated\", \"dedicated\", \"definitely\", \"definitely\", \"definitely\", \"definitely\", \"definitely\", \"delicious\", \"delicious\", \"delicious\", \"delicious\", \"delicious\", \"dent\", \"dent\", \"dent\", \"dental\", \"dental\", \"dental\", \"dental\", \"dental\", \"des\", \"des\", \"desk\", \"desk\", \"desk\", \"desk\", \"desk\", \"dessert\", \"dessert\", \"dessert\", \"dessert\", \"dessert\", \"dim\", \"dim\", \"dim\", \"dim\", \"dim\", \"disgust\", \"disgusted\", \"dish\", \"dish\", \"dish\", \"dish\", \"dish\", \"dont\", \"donut\", \"donut\", \"donut\", \"donut\", \"donut\", \"dr\", \"dr\", \"dr\", \"dr.\", \"dr.\", \"dr.\", \"dr.\", \"dr.\", \"drama\", \"drama\", \"drink\", \"drink\", \"drink\", \"drink\", \"drink\", \"dryer\", \"dryer\", \"dryer\", \"dryer\", \"dryer\", \"drywall\", \"dumpling\", \"dumpling\", \"dunkin\", \"dunkin\", \"eat\", \"eat\", \"eat\", \"eat\", \"eat\", \"eclectic\", \"elevator\", \"elevator\", \"elevator\", \"elevator\", \"elevator\", \"email\", \"email\", \"email\", \"email\", \"email\", \"enchilada\", \"escrow\", \"espresso\", \"espresso\", \"espresso\", \"espresso\", \"espresso\", \"et\", \"et\", \"et\", \"et\", \"evaluate\", \"extension\", \"facial\", \"facial\", \"facial\", \"facial\", \"facial\", \"favorite\", \"favorite\", \"favorite\", \"favorite\", \"favorite\", \"fe\", \"fe\", \"feel\", \"feel\", \"feel\", \"feel\", \"feel\", \"female\", \"female\", \"find\", \"find\", \"find\", \"find\", \"find\", \"firmly\", \"fix\", \"fix\", \"fix\", \"fix\", \"fix\", \"flavor\", \"flavor\", \"flavor\", \"flavor\", \"flavor\", \"fly\", \"fly\", \"fly\", \"fly\", \"fly\", \"fog\", \"fog\", \"food\", \"food\", \"food\", \"food\", \"food\", \"france\", \"fresh\", \"fresh\", \"fresh\", \"fresh\", \"fresh\", \"friendly\", \"friendly\", \"friendly\", \"friendly\", \"friendly\", \"friggin\", \"fry\", \"fry\", \"fry\", \"fry\", \"fry\", \"game\", \"game\", \"game\", \"game\", \"game\", \"gel\", \"gel\", \"gel\", \"gel\", \"get\", \"get\", \"get\", \"get\", \"get\", \"ghetto\", \"go\", \"go\", \"go\", \"go\", \"go\", \"good\", \"good\", \"good\", \"good\", \"good\", \"great\", \"great\", \"great\", \"great\", \"great\", \"grub\", \"guy\", \"guy\", \"guy\", \"guy\", \"guy\", \"gym\", \"gym\", \"gym\", \"gym\", \"gym\", \"hahaha\", \"hair\", \"hair\", \"hair\", \"hair\", \"hair\", \"hakka\", \"harbor\", \"heartbeat\", \"hibachi\", \"highly\", \"highly\", \"highly\", \"highly\", \"highly\", \"hobby\", \"hollandaise\", \"hollandaise\", \"hollandaise\", \"hospitable\", \"hotel\", \"hotel\", \"hotel\", \"hotel\", \"hotel\", \"hour\", \"hour\", \"hour\", \"hour\", \"hour\", \"howard\", \"humor\", \"hush\", \"id\", \"ikea\", \"ikea\", \"immaculate\", \"instal\", \"instal\", \"instal\", \"instal\", \"instal\", \"instructor\", \"instructor\", \"instructor\", \"instructor\", \"ipad\", \"ipad\", \"iphone\", \"iphone\", \"issue\", \"issue\", \"issue\", \"issue\", \"issue\", \"izakaya\", \"j'ai\", \"je\", \"jennifer\", \"jennifer\", \"jim\", \"jim\", \"jimmy\", \"jimmy\", \"job\", \"job\", \"job\", \"job\", \"job\", \"johns\", \"keg\", \"know\", \"know\", \"know\", \"know\", \"know\", \"la\", \"la\", \"la\", \"la\", \"la\", \"lash\", \"lash\", \"latte\", \"latte\", \"latte\", \"latte\", \"latte\", \"lawyer\", \"leave\", \"leave\", \"leave\", \"leave\", \"leave\", \"legal\", \"lentil\", \"les\", \"les\", \"les\", \"like\", \"like\", \"like\", \"like\", \"like\", \"line\", \"line\", \"line\", \"line\", \"line\", \"little\", \"little\", \"little\", \"little\", \"little\", \"location\", \"location\", \"location\", \"location\", \"location\", \"long\", \"long\", \"long\", \"long\", \"long\", \"look\", \"look\", \"look\", \"look\", \"look\", \"love\", \"love\", \"love\", \"love\", \"love\", \"luxurious\", \"macy\", \"mais\", \"manager\", \"manager\", \"manager\", \"manager\", \"manager\", \"manicure\", \"manicure\", \"manicure\", \"manicure\", \"margarita\", \"margarita\", \"margarita\", \"margarita\", \"mayonnaise\", \"medical\", \"medical\", \"medical\", \"medical\", \"medicine\", \"menu\", \"menu\", \"menu\", \"menu\", \"menu\", \"menus\", \"menus\", \"michael\", \"michael\", \"michael\", \"mikey\", \"min\", \"min\", \"min\", \"min\", \"min\", \"minute\", \"minute\", \"minute\", \"minute\", \"minute\", \"mississauga\", \"mississauga\", \"money\", \"money\", \"money\", \"money\", \"money\", \"monitor\", \"month\", \"month\", \"month\", \"month\", \"month\", \"msg\", \"music\", \"music\", \"music\", \"music\", \"music\", \"nail\", \"nail\", \"nail\", \"nail\", \"nancy\", \"need\", \"need\", \"need\", \"need\", \"need\", \"new\", \"new\", \"new\", \"new\", \"new\", \"nice\", \"nice\", \"nice\", \"nice\", \"nice\", \"nigiri\", \"nigiri\", \"nordstrom\", \"notify\", \"notify\", \"office\", \"office\", \"office\", \"office\", \"office\", \"order\", \"order\", \"order\", \"order\", \"order\", \"owner\", \"owner\", \"owner\", \"owner\", \"owner\", \"pant\", \"pant\", \"pant\", \"passenger\", \"passenger\", \"pastry\", \"pastry\", \"pastry\", \"pastry\", \"pastry\", \"patient\", \"patient\", \"patient\", \"patient\", \"patient\", \"pedi\", \"pedi\", \"pedi\", \"pedi\", \"pedicure\", \"pedicure\", \"pedicure\", \"pedicure\", \"penn\", \"penn\", \"people\", \"people\", \"people\", \"people\", \"people\", \"perform\", \"perform\", \"perform\", \"peter\", \"pho\", \"pho\", \"pho\", \"pho\", \"phone\", \"phone\", \"phone\", \"phone\", \"phone\", \"physician\", \"physician\", \"physician\", \"pinball\", \"pizza\", \"pizza\", \"pizza\", \"pizza\", \"pizza\", \"place\", \"place\", \"place\", \"place\", \"place\", \"poach\", \"poach\", \"poach\", \"polish\", \"polish\", \"polish\", \"polish\", \"pool\", \"pool\", \"pool\", \"pool\", \"pool\", \"pork\", \"pork\", \"pork\", \"pork\", \"pork\", \"portion\", \"portion\", \"portion\", \"portion\", \"portion\", \"possibility\", \"possibility\", \"possibility\", \"price\", \"price\", \"price\", \"price\", \"price\", \"procedure\", \"procedure\", \"procedure\", \"procedure\", \"puppy\", \"puppy\", \"puppy\", \"puppy\", \"purchase\", \"purchase\", \"purchase\", \"purchase\", \"purchase\", \"que\", \"que\", \"queue\", \"raman\", \"raman\", \"raman\", \"ranchero\", \"recommend\", \"recommend\", \"recommend\", \"recommend\", \"recommend\", \"reflexology\", \"removal\", \"rent\", \"rent\", \"rent\", \"rent\", \"rent\", \"reschedule\", \"reschedule\", \"reschedule\", \"restaurant\", \"restaurant\", \"restaurant\", \"restaurant\", \"restaurant\", \"rice\", \"rice\", \"rice\", \"rice\", \"rice\", \"rick\", \"robert\", \"robert\", \"robert\", \"roll\", \"roll\", \"roll\", \"roll\", \"roll\", \"room\", \"room\", \"room\", \"room\", \"room\", \"rude\", \"rude\", \"rude\", \"rude\", \"rude\", \"rv\", \"salad\", \"salad\", \"salad\", \"salad\", \"salad\", \"salesperson\", \"salon\", \"salon\", \"salon\", \"salon\", \"salon\", \"sammy\", \"sammy\", \"sauce\", \"sauce\", \"sauce\", \"sauce\", \"sauce\", \"say\", \"say\", \"say\", \"say\", \"say\", \"scheduling\", \"seal\", \"seal\", \"seal\", \"seat\", \"seat\", \"seat\", \"seat\", \"seat\", \"secure\", \"service\", \"service\", \"service\", \"service\", \"service\", \"session\", \"session\", \"session\", \"session\", \"session\", \"shady\", \"shady\", \"shoe\", \"shoe\", \"shoe\", \"shoe\", \"shoe\", \"shop\", \"shop\", \"shop\", \"shop\", \"shop\", \"shrimp\", \"shrimp\", \"shrimp\", \"shrimp\", \"shrimp\", \"singing\", \"sit\", \"sit\", \"sit\", \"sit\", \"sit\", \"skin\", \"skin\", \"skin\", \"skin\", \"skin\", \"sore\", \"sore\", \"sore\", \"soup\", \"soup\", \"soup\", \"soup\", \"soup\", \"specially\", \"spicy\", \"spicy\", \"spicy\", \"spicy\", \"spicy\", \"spray\", \"spray\", \"spray\", \"spray\", \"spray\", \"staff\", \"staff\", \"staff\", \"staff\", \"staff\", \"stay\", \"stay\", \"stay\", \"stay\", \"stay\", \"store\", \"store\", \"store\", \"store\", \"store\", \"structure\", \"studio\", \"studio\", \"studio\", \"studio\", \"study\", \"study\", \"study\", \"study\", \"substitution\", \"suite\", \"suite\", \"suite\", \"suite\", \"suite\", \"surgeon\", \"sushi\", \"sushi\", \"sushi\", \"sushi\", \"sushi\", \"table\", \"table\", \"table\", \"table\", \"table\", \"taco\", \"taco\", \"taco\", \"taco\", \"taco\", \"tacos\", \"tacos\", \"tacos\", \"tacos\", \"tacos\", \"take\", \"take\", \"take\", \"take\", \"take\", \"talented\", \"talented\", \"tamale\", \"tamale\", \"tan\", \"tan\", \"tan\", \"tan\", \"tartar\", \"taste\", \"taste\", \"taste\", \"taste\", \"taste\", \"tasty\", \"tasty\", \"tasty\", \"tasty\", \"tasty\", \"tater\", \"tater\", \"tater\", \"tea\", \"tea\", \"tea\", \"tea\", \"tea\", \"tell\", \"tell\", \"tell\", \"tell\", \"tell\", \"terminal\", \"terminal\", \"thai\", \"thai\", \"thai\", \"thai\", \"thai\", \"thank\", \"thank\", \"thank\", \"thank\", \"thank\", \"theater\", \"theater\", \"theater\", \"theater\", \"theater\", \"therapist\", \"therapist\", \"therapist\", \"therapist\", \"think\", \"think\", \"think\", \"think\", \"think\", \"thread\", \"thrive\", \"tiffany\", \"time\", \"time\", \"time\", \"time\", \"time\", \"tint\", \"tint\", \"tower\", \"tower\", \"tower\", \"tower\", \"tower\", \"trail\", \"trail\", \"trail\", \"trail\", \"trail\", \"try\", \"try\", \"try\", \"try\", \"try\", \"tuna\", \"tuna\", \"tuna\", \"tuna\", \"und\", \"une\", \"urban\", \"urban\", \"verify\", \"vietnamese\", \"vietnamese\", \"vous\", \"wait\", \"wait\", \"wait\", \"wait\", \"wait\", \"waitress\", \"waitress\", \"waitress\", \"waitress\", \"waitress\", \"walmart\", \"want\", \"want\", \"want\", \"want\", \"want\", \"wear\", \"wear\", \"wear\", \"wear\", \"wear\", \"weed\", \"work\", \"work\", \"work\", \"work\", \"work\", \"workout\", \"workout\", \"workout\", \"workout\", \"worse\", \"wth\", \"x\", \"x\", \"xs\", \"year\", \"year\", \"year\", \"year\", \"year\", \"yellowtail\", \"yellowtail\", \"yoga\", \"yoga\", \"yuck\", \"yuk\", \"\\u00e0\", \"\\u00e0\"]}, \"R\": 30, \"lambda.step\": 0.01, \"plot.opts\": {\"xlab\": \"PC1\", \"ylab\": \"PC2\"}, \"topic.order\": [4, 1, 2, 3, 5]};\n",
              "\n",
              "function LDAvis_load_lib(url, callback){\n",
              "  var s = document.createElement('script');\n",
              "  s.src = url;\n",
              "  s.async = true;\n",
              "  s.onreadystatechange = s.onload = callback;\n",
              "  s.onerror = function(){console.warn(\"failed to load library \" + url);};\n",
              "  document.getElementsByTagName(\"head\")[0].appendChild(s);\n",
              "}\n",
              "\n",
              "if(typeof(LDAvis) !== \"undefined\"){\n",
              "   // already loaded: just create the visualization\n",
              "   !function(LDAvis){\n",
              "       new LDAvis(\"#\" + \"ldavis_el92011361751604118568946229468\", ldavis_el92011361751604118568946229468_data);\n",
              "   }(LDAvis);\n",
              "}else if(typeof define === \"function\" && define.amd){\n",
              "   // require.js is available: use it to load d3/LDAvis\n",
              "   require.config({paths: {d3: \"https://d3js.org/d3.v5\"}});\n",
              "   require([\"d3\"], function(d3){\n",
              "      window.d3 = d3;\n",
              "      LDAvis_load_lib(\"https://cdn.jsdelivr.net/gh/bmabey/pyLDAvis@3.4.0/pyLDAvis/js/ldavis.v3.0.0.js\", function(){\n",
              "        new LDAvis(\"#\" + \"ldavis_el92011361751604118568946229468\", ldavis_el92011361751604118568946229468_data);\n",
              "      });\n",
              "    });\n",
              "}else{\n",
              "    // require.js not available: dynamically load d3 & LDAvis\n",
              "    LDAvis_load_lib(\"https://d3js.org/d3.v5.js\", function(){\n",
              "         LDAvis_load_lib(\"https://cdn.jsdelivr.net/gh/bmabey/pyLDAvis@3.4.0/pyLDAvis/js/ldavis.v3.0.0.js\", function(){\n",
              "                 new LDAvis(\"#\" + \"ldavis_el92011361751604118568946229468\", ldavis_el92011361751604118568946229468_data);\n",
              "            })\n",
              "         });\n",
              "}\n",
              "</script>"
            ]
          },
          "metadata": {},
          "execution_count": 35
        }
      ],
      "source": [
        "# Cell for pyLDAvis visualization\n",
        "# YOUR CODE HERE\n",
        "# import pyLDAvis\n",
        "# import pyLDAvis.gensim\n",
        "\n",
        "# lda_display = pyLDAvis.gensim.prepare(lda, corpus, id2word)\n",
        "# pyLDAvis.enable_notebook()\n",
        "# lda_display"
      ]
    },
    {
      "cell_type": "code",
      "execution_count": 33,
      "metadata": {
        "id": "JEYAz87rsHN4",
        "colab": {
          "base_uri": "https://localhost:8080/",
          "height": 1000
        },
        "outputId": "fb809aa5-30cc-44d4-835f-5a5263084ee2"
      },
      "outputs": [
        {
          "output_type": "stream",
          "name": "stderr",
          "text": [
            "/usr/local/lib/python3.10/dist-packages/ipykernel/ipkernel.py:283: DeprecationWarning: `should_run_async` will not call `transform_cell` automatically in the future. Please pass the result to `transformed_cell` argument and any exception that happen during thetransform in `preprocessing_exc_tuple` in IPython 7.17 and above.\n",
            "  and should_run_async(code)\n"
          ]
        },
        {
          "output_type": "display_data",
          "data": {
            "text/plain": [
              "<Figure size 640x480 with 1 Axes>"
            ],
            "image/png": "[encoded data removed]"
          },
          "metadata": {}
        },
        {
          "output_type": "display_data",
          "data": {
            "text/plain": [
              "<Figure size 640x480 with 1 Axes>"
            ],
            "image/png": "[encoded data removed]"
          },
          "metadata": {}
        },
        {
          "output_type": "display_data",
          "data": {
            "text/plain": [
              "<Figure size 640x480 with 1 Axes>"
            ],
            "image/png": "[encoded data removed]"
          },
          "metadata": {}
        },
        {
          "output_type": "display_data",
          "data": {
            "text/plain": [
              "<Figure size 640x480 with 1 Axes>"
            ],
            "image/png": "[encoded data removed]"
          },
          "metadata": {}
        },
        {
          "output_type": "display_data",
          "data": {
            "text/plain": [
              "<Figure size 640x480 with 1 Axes>"
            ],
            "image/png": "[encoded data removed]"
          },
          "metadata": {}
        }
      ],
      "source": [
        "# Cell for matplotlib visualzation\n",
        "# YOUR CODE HERE\n",
        "visual_plot = plt\n",
        "topics = lda.show_topics(num_topics=5, num_words=3, formatted=False)\n",
        "for topic_non, topic in topics:\n",
        "  word, weight = zip(topic[1])\n",
        "  visual_plot.bar(word, weight)\n",
        "  visual_plot.xlabel('Word')\n",
        "  visual_plot.ylabel('Weight')\n",
        "  visual_plot.title(f'Topic {topic_non + 1}')\n",
        "\n",
        "  visual_plot.show()"
      ]
    },
    {
      "cell_type": "markdown",
      "source": [
        "# **Analysis**\n",
        "\n",
        "*   **Topic 1:** Focus on food-related keywords like \"delicious,\" \"taste,\" and \"dish.\"\n",
        "\n",
        "*   **Topic 2:** Highlights ambiance and service with words like \"staff,\" \"friendly,\" and \"atmosphere.\"\n",
        "\n",
        "\n",
        "*   **Topic 3:** Discusses pricing or value with terms like \"expensive,\" \"affordable,\" and \"worth.\"\n",
        "*   List item\n",
        "\n",
        "**Note:** These topics provide insights into customer sentiments, which can guide business strategies.\n",
        "\n"
      ],
      "metadata": {
        "id": "z-dmNbkDbn8O"
      }
    },
    {
      "cell_type": "code",
      "execution_count": 34,
      "metadata": {
        "id": "BOoPNa4GsHN4",
        "colab": {
          "base_uri": "https://localhost:8080/"
        },
        "outputId": "a1d8d363-a66c-4397-ccbc-14e6a361727b"
      },
      "outputs": [
        {
          "output_type": "stream",
          "name": "stderr",
          "text": [
            "/usr/local/lib/python3.10/dist-packages/ipykernel/ipkernel.py:283: DeprecationWarning: `should_run_async` will not call `transform_cell` automatically in the future. Please pass the result to `transformed_cell` argument and any exception that happen during thetransform in `preprocessing_exc_tuple` in IPython 7.17 and above.\n",
            "  and should_run_async(code)\n"
          ]
        }
      ],
      "source": [
        "# Visible testing\n",
        "assert visual_plot is not None, \"Variable 'visual_plot' is not created.\""
      ]
    }
  ],
  "metadata": {
    "colab": {
      "provenance": [],
      "include_colab_link": true
    },
    "kernel_info": {
      "name": "u4-s1-nlp"
    },
    "kernelspec": {
      "display_name": "Python 3.10.2 64-bit",
      "language": "python",
      "name": "python3"
    },
    "language_info": {
      "codemirror_mode": {
        "name": "ipython",
        "version": 3
      },
      "file_extension": ".py",
      "mimetype": "text/x-python",
      "name": "python",
      "nbconvert_exporter": "python",
      "pygments_lexer": "ipython3",
      "version": "3.10.2"
    },
    "nteract": {
      "version": "0.15.0"
    },
    "toc-autonumbering": false,
    "vscode": {
      "interpreter": {
        "hash": "aee8b7b246df8f9039afb4144a1f6fd8d2ca17a180786b69acc140d282b71a49"
      }
    }
  },
  "nbformat": 4,
  "nbformat_minor": 0
}